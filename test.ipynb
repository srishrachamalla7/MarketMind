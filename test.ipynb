{
 "cells": [
  {
   "cell_type": "code",
   "execution_count": 1,
   "metadata": {},
   "outputs": [
    {
     "data": {
      "text/plain": [
       "6"
      ]
     },
     "execution_count": 1,
     "metadata": {},
     "output_type": "execute_result"
    }
   ],
   "source": [
    "1+5"
   ]
  },
  {
   "cell_type": "code",
   "execution_count": 1,
   "metadata": {},
   "outputs": [
    {
     "name": "stdout",
     "output_type": "stream",
     "text": [
      "Collecting openai\n",
      "  Downloading openai-1.60.1-py3-none-any.whl.metadata (27 kB)\n",
      "Requirement already satisfied: anyio<5,>=3.5.0 in c:\\projects\\marketmind\\venv\\lib\\site-packages (from openai) (4.6.0)\n",
      "Requirement already satisfied: distro<2,>=1.7.0 in c:\\projects\\marketmind\\venv\\lib\\site-packages (from openai) (1.9.0)\n",
      "Requirement already satisfied: httpx<1,>=0.23.0 in c:\\projects\\marketmind\\venv\\lib\\site-packages (from openai) (0.27.2)\n",
      "Collecting jiter<1,>=0.4.0 (from openai)\n",
      "  Downloading jiter-0.8.2-cp311-cp311-win_amd64.whl.metadata (5.3 kB)\n",
      "Requirement already satisfied: pydantic<3,>=1.9.0 in c:\\projects\\marketmind\\venv\\lib\\site-packages (from openai) (2.9.2)\n",
      "Requirement already satisfied: sniffio in c:\\projects\\marketmind\\venv\\lib\\site-packages (from openai) (1.3.1)\n",
      "Requirement already satisfied: tqdm>4 in c:\\projects\\marketmind\\venv\\lib\\site-packages (from openai) (4.66.5)\n",
      "Requirement already satisfied: typing-extensions<5,>=4.11 in c:\\projects\\marketmind\\venv\\lib\\site-packages (from openai) (4.12.2)\n",
      "Requirement already satisfied: idna>=2.8 in c:\\projects\\marketmind\\venv\\lib\\site-packages (from anyio<5,>=3.5.0->openai) (3.10)\n",
      "Requirement already satisfied: certifi in c:\\projects\\marketmind\\venv\\lib\\site-packages (from httpx<1,>=0.23.0->openai) (2024.8.30)\n",
      "Requirement already satisfied: httpcore==1.* in c:\\projects\\marketmind\\venv\\lib\\site-packages (from httpx<1,>=0.23.0->openai) (1.0.6)\n",
      "Requirement already satisfied: h11<0.15,>=0.13 in c:\\projects\\marketmind\\venv\\lib\\site-packages (from httpcore==1.*->httpx<1,>=0.23.0->openai) (0.14.0)\n",
      "Requirement already satisfied: annotated-types>=0.6.0 in c:\\projects\\marketmind\\venv\\lib\\site-packages (from pydantic<3,>=1.9.0->openai) (0.7.0)\n",
      "Requirement already satisfied: pydantic-core==2.23.4 in c:\\projects\\marketmind\\venv\\lib\\site-packages (from pydantic<3,>=1.9.0->openai) (2.23.4)\n",
      "Requirement already satisfied: colorama in c:\\projects\\marketmind\\venv\\lib\\site-packages (from tqdm>4->openai) (0.4.6)\n",
      "Downloading openai-1.60.1-py3-none-any.whl (456 kB)\n",
      "   ---------------------------------------- 0.0/456.1 kB ? eta -:--:--\n",
      "   ------------ --------------------------- 143.4/456.1 kB 4.2 MB/s eta 0:00:01\n",
      "   ---------------------------------------- 456.1/456.1 kB 7.1 MB/s eta 0:00:00\n",
      "Downloading jiter-0.8.2-cp311-cp311-win_amd64.whl (206 kB)\n",
      "   ---------------------------------------- 0.0/206.7 kB ? eta -:--:--\n",
      "   ------------------------------------- -- 194.6/206.7 kB 3.9 MB/s eta 0:00:01\n",
      "   ---------------------------------------- 206.7/206.7 kB 3.1 MB/s eta 0:00:00\n",
      "Installing collected packages: jiter, openai\n",
      "Successfully installed jiter-0.8.2 openai-1.60.1\n"
     ]
    },
    {
     "name": "stderr",
     "output_type": "stream",
     "text": [
      "\n",
      "[notice] A new release of pip is available: 24.0 -> 25.0\n",
      "[notice] To update, run: python.exe -m pip install --upgrade pip\n"
     ]
    }
   ],
   "source": [
    "! pip install openai"
   ]
  },
  {
   "cell_type": "code",
   "execution_count": 6,
   "metadata": {},
   "outputs": [],
   "source": [
    "import json\n",
    "from openai import OpenAI\n",
    "import requests"
   ]
  },
  {
   "cell_type": "code",
   "execution_count": 5,
   "metadata": {},
   "outputs": [],
   "source": [
    "from duckduckgo_search import DDGS\n"
   ]
  },
  {
   "cell_type": "code",
   "execution_count": 21,
   "metadata": {},
   "outputs": [],
   "source": [
    "links = DDGS().text('Microsoft cloud ')\n",
    "# links[0].get('href')"
   ]
  },
  {
   "cell_type": "code",
   "execution_count": 7,
   "metadata": {},
   "outputs": [],
   "source": [
    "def serper_prod(company):\n",
    "  url = \"https://google.serper.dev/news\"\n",
    "\n",
    "  payload = json.dumps({\n",
    "    \"q\": f\"{company} info\",\n",
    "  })\n",
    "  headers = {\n",
    "    'X-API-KEY': 'f85db9bc10f9100d3480ea47aa3515e2fab3b4d2',\n",
    "    'Content-Type': 'application/json'\n",
    "  }\n",
    "\n",
    "  response = requests.request(\"POST\", url, headers=headers, data=payload)\n",
    "\n",
    "  return json.loads(response.text)"
   ]
  },
  {
   "cell_type": "code",
   "execution_count": 8,
   "metadata": {},
   "outputs": [
    {
     "data": {
      "text/plain": [
       "{'searchParameters': {'q': 'Microsoft info',\n",
       "  'type': 'news',\n",
       "  'engine': 'google'},\n",
       " 'news': [{'title': 'Microsoft’s LinkedIn sued for disclosing customer information to train AI models',\n",
       "   'link': 'https://nypost.com/2025/01/22/business/microsofts-linkedin-allegedly-shared-customer-info-for-ai-training/',\n",
       "   'snippet': \"Microsoft's LinkedIn has been sued by Premium customers who said the business-focused social media platform disclosed their private messages...\",\n",
       "   'date': '3 days ago',\n",
       "   'source': 'New York Post',\n",
       "   'imageUrl': 'https://encrypted-tbn0.gstatic.com/images?q=tbn:ANd9GcTtxUNZP8aZc3Us_y7CfTByVnSK19IqjDkvnO1R5LKKu8gB_SOee6sOl3SV-IU5UqSP8g&s&ec=72801007',\n",
       "   'position': 1},\n",
       "  {'title': 'How to manage personal info saved on Microsoft Edge',\n",
       "   'link': 'https://www.windowscentral.com/software-apps/windows-11/how-to-manage-personal-info-saved-on-microsoft-edge',\n",
       "   'snippet': 'On Windows 11, Microsoft Edge can save personal details like phone number, name, address, email, etc., to later help you fill out forms,...',\n",
       "   'date': '1 week ago',\n",
       "   'source': 'Windows Central',\n",
       "   'imageUrl': 'https://encrypted-tbn0.gstatic.com/images?q=tbn:ANd9GcQNFVNyci7mM9JxNpNKTfrEYTaz_OmLuz0n9C7tDAcdl3RSWTC7HmbV90DSa7aFqCS_EQ&s&ec=72801007',\n",
       "   'position': 2},\n",
       "  {'title': 'CBP Offers Info on FY 2025 Microsoft Product License Renewal Requirement',\n",
       "   'link': 'https://www.govconwire.com/2024/12/cbp-fy-2025-microsoft-product-license-renewal-requirement/',\n",
       "   'snippet': 'About GovConWire. The premier source of breaking business news for the government contracting industry, GovCon Wire provides informative, to-the...',\n",
       "   'date': '1 month ago',\n",
       "   'source': 'GovCon Wire',\n",
       "   'imageUrl': 'https://encrypted-tbn0.gstatic.com/images?q=tbn:ANd9GcSFUci4xjod9TQPO2BJwbBfE0-feLO60Ay-MgaxXJepPYAdCLUzkUrOO0jOWYwcJr7GsQ&s&ec=72801007',\n",
       "   'position': 3},\n",
       "  {'title': \"Microsoft's Recall Feature Captures Credit Card and Social Security Info\",\n",
       "   'link': 'https://www.cnet.com/tech/services-and-software/microsofts-recall-feature-captures-credit-cards-and-social-security-info/',\n",
       "   'snippet': \"A real-world test of Microsoft's AI search feature shows it's capturing personal information it's supposed to filter out.\",\n",
       "   'date': '1 month ago',\n",
       "   'source': 'CNET',\n",
       "   'imageUrl': 'https://encrypted-tbn0.gstatic.com/images?q=tbn:ANd9GcT-HLDZXuJt-h1-GgeP6bNx1rPUa9_JqS7AB8m4VE7gTaeCnwzg1r4NStHXidCSx6LsUQ&s&ec=72801007',\n",
       "   'position': 4},\n",
       "  {'title': 'Order Tracking',\n",
       "   'link': 'https://www.microsoft.com/en-us/store/b/order-tracking',\n",
       "   'snippet': 'Use your order number and email, or login, to view your order status or history, track shipping, and more - Microsoft Store.',\n",
       "   'date': 'Jul 10, 2024',\n",
       "   'source': 'Microsoft',\n",
       "   'imageUrl': 'https://encrypted-tbn0.gstatic.com/images?q=tbn:ANd9GcTXnC-xWZ6ch0F-xtpPg1p1-r5Be5DcOEOYwyjZtrKSAuzKw_NA9CnAkJWVGHwRpPnIZA&s&ec=72801007',\n",
       "   'position': 5},\n",
       "  {'title': 'Microsoft Recall screenshots credit cards and Social Security numbers, even with the \"sensitive information\" filter enabled',\n",
       "   'link': 'https://www.tomshardware.com/software/windows/microsoft-recall-screenshots-credit-cards-and-social-security-numbers-even-with-the-sensitive-information-filter-enabled',\n",
       "   'snippet': \"We tested Microsoft's long-delayed Recall feature, and found that it often captures personal data like social security numbers, even when...\",\n",
       "   'date': '1 month ago',\n",
       "   'source': \"Tom's Hardware\",\n",
       "   'imageUrl': 'https://encrypted-tbn0.gstatic.com/images?q=tbn:ANd9GcTyrOud-ttIcaysT9zbA0Ojn8oLtUIYvwbtS0ZangzsGJQYqOwY0iQ7sJ1k-BsmWqrLJA&s&ec=72801007',\n",
       "   'position': 6},\n",
       "  {'title': 'Microsoft: The Enduring Tech Superstar',\n",
       "   'link': 'https://www.investing.com/academy/statistics/microsoft-facts/',\n",
       "   'snippet': \"Microsoft's revenue for the twelve months ending June 30, 2022, was positive, registering a 17.96% advance year-over-year at $198.270 billion.\",\n",
       "   'date': 'Oct 31, 2024',\n",
       "   'source': 'Investing.com',\n",
       "   'imageUrl': 'https://encrypted-tbn0.gstatic.com/images?q=tbn:ANd9GcSLIPoPOLLYn5UrohM_A3xZKrugnGtFfevJtc4T_bXlBoM9E-l4dcWKXt6nXg4OoD64Jw&s&ec=72801007',\n",
       "   'position': 7},\n",
       "  {'title': 'Is Microsoft Copilot a productivity booster or a cybersecurity risk?',\n",
       "   'link': 'https://www.securityinfowatch.com/cybersecurity/article/55243820/is-microsoft-copilot-a-productivity-booster-or-a-cybersecurity-risk',\n",
       "   'snippet': \"If left unaddressed, M365's default permissions and Copilot's discoverability can create major cybersecurity risks for organizations and their data.\",\n",
       "   'date': 'Nov 18, 2024',\n",
       "   'source': 'Security Info Watch',\n",
       "   'imageUrl': 'https://encrypted-tbn0.gstatic.com/images?q=tbn:ANd9GcRIRMSEU3ZYdFhnldg5IckUwkJSL06AWYfClme-M__yOfjK69DoxLV56j6Z2pslF7grKg&s&ec=72801007',\n",
       "   'position': 8},\n",
       "  {'title': \"What has caused the Microsoft CrowdStrike outage? Info on what's affected\",\n",
       "   'link': 'https://www.northjersey.com/story/news/2024/07/19/microsoft-outage-crowdstrike-what-happened/74467914007/',\n",
       "   'snippet': 'What happened with Microsoft that caused an IT outage? George Kurtz, CEO of the cyber security firm stated that the problems were caused by a “...',\n",
       "   'date': 'Jul 19, 2024',\n",
       "   'source': 'Bergen Record',\n",
       "   'imageUrl': 'https://encrypted-tbn0.gstatic.com/images?q=tbn:ANd9GcTVsMmX5c0jBQanr9K83kpSXSUir2i_oLvepg3mCyLwvXwRUHZ7Il7LSQOc51FHIm4dHA&s&ec=72801007',\n",
       "   'position': 9},\n",
       "  {'title': 'OpenAI, Microsoft Bid for NYT Revenue Info Shot Down by Judge',\n",
       "   'link': 'https://news.bloomberglaw.com/ip-law/openai-microsoft-bid-for-nyt-revenue-info-shot-down-by-judge',\n",
       "   'snippet': \"A federal magistrate judge rejected OpenAI Inc. and Microsoft Corp.'s requests for information from New York Times Co. related to the...\",\n",
       "   'date': '1 month ago',\n",
       "   'source': 'Bloomberg Law News',\n",
       "   'imageUrl': 'https://encrypted-tbn0.gstatic.com/images?q=tbn:ANd9GcSAS9lgw10kzKBZwG2m-UZMuSIJRoWQDhs8QCtT6ljgnYQwsQSYmBv_4ND4y_sM6Rzt9Ak&s&ec=72801007',\n",
       "   'position': 10}],\n",
       " 'credits': 1}"
      ]
     },
     "execution_count": 8,
     "metadata": {},
     "output_type": "execute_result"
    }
   ],
   "source": [
    "serper_prod('Microsoft')"
   ]
  },
  {
   "cell_type": "code",
   "execution_count": 11,
   "metadata": {},
   "outputs": [],
   "source": [
    "def groq_inference(query):\n",
    "    client = OpenAI(\n",
    "        base_url=\"https://openrouter.ai/api/v1\",\n",
    "        api_key=\"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\",  # Replace with your actual API key\n",
    "    )\n",
    "    \n",
    "    completion = client.chat.completions.create(\n",
    "        # extra_headers={\n",
    "        #     \"HTTP-Referer\": \"http://localhost:3000\",  # Replace with your site URL\n",
    "        #     \"X-Title\": \"MarketMind\",  # Replace with your site name\n",
    "        # },\n",
    "        model=\"openai/gpt-4o-mini\",\n",
    "        messages=[{\n",
    "            \"role\": \"user\", \n",
    "            \"content\": query\n",
    "        }]\n",
    "    )\n",
    "    return completion.choices[0].message.content"
   ]
  },
  {
   "cell_type": "code",
   "execution_count": 12,
   "metadata": {},
   "outputs": [
    {
     "data": {
      "text/plain": [
       "'Hello! How can I assist you today?'"
      ]
     },
     "execution_count": 12,
     "metadata": {},
     "output_type": "execute_result"
    }
   ],
   "source": [
    "groq_inference('hi')"
   ]
  },
  {
   "cell_type": "code",
   "execution_count": 13,
   "metadata": {},
   "outputs": [],
   "source": [
    "def jina(url):\n",
    "    base_url = 'https://r.jina.ai/'\n",
    "    url = base_url + url    \n",
    "    \n",
    "    response = requests.get(url)\n",
    "    return response.text\n"
   ]
  },
  {
   "cell_type": "code",
   "execution_count": 18,
   "metadata": {},
   "outputs": [
    {
     "data": {
      "text/plain": [
       "'Title: What is the Microsoft Cloud Technology Platform? | Microsoft Cloud\\n\\nURL Source: https://www.microsoft.com/en-us/microsoft-cloud/what-is-microsoft-cloud\\n\\nMarkdown Content:\\nWhat is the Microsoft Cloud Technology Platform? | Microsoft Cloud\\n===============      \\n\\nTrace Id is missing \\n\\n \\n\\n[Skip to main content](javascript:void\\\\(0\\\\))\\n\\n [![Image 1](https://img-prod-cms-rt-microsoft-com.akamaized.net/cms/api/am/imageFileData/RE1Mu3b?ver=5c31) Microsoft](https://www.microsoft.com/)\\n\\nThe Microsoft Cloud\\n\\n[The Microsoft Cloud](https://www.microsoft.com/en-us/microsoft-cloud)\\n\\nThe Microsoft Cloud\\n\\n*   [Home](https://www.microsoft.com/en-us/microsoft-cloud)\\n*   [What is the Microsoft Cloud](https://www.microsoft.com/en-us/microsoft-cloud/what-is-microsoft-cloud)\\n*   Solutions\\n    \\n    *   By use case By use case\\n        *   [Business solutions hub](https://www.microsoft.com/en-us/microsoft-cloud/solutions)\\n        *   [Collaboration](https://www.microsoft.com/en-us/microsoft-cloud/solutions/collaboration)\\n        *   [Customer experience](https://www.microsoft.com/en-us/microsoft-cloud/solutions/customer-experience)\\n        *   [Data & analytics](https://www.microsoft.com/en-us/microsoft-cloud/solutions/data-analytics)\\n        *   [Governance](https://www.microsoft.com/en-us/microsoft-cloud/solutions/governance)\\n        *   [Industry](https://www.microsoft.com/en-us/microsoft-cloud/solutions/industry)\\n        *   [Infrastructure](https://www.microsoft.com/en-us/microsoft-cloud/solutions/infrastructure)\\n        *   [Modernization](https://www.microsoft.com/en-us/microsoft-cloud/solutions/modernization)\\n        *   [Operations](https://www.microsoft.com/en-us/microsoft-cloud/solutions/operations)\\n        *   [Security](https://www.microsoft.com/en-us/microsoft-cloud/solutions/security)\\n        *   [Tech & development](https://www.microsoft.com/en-us/microsoft-cloud/solutions/tech-development)\\n    *   By job function By job function\\n        *   [Commerce](https://dynamics.microsoft.com/en-us/digital-commerce-solution)\\n        *   [Contact center](https://www.microsoft.com/en-us/dynamics-365/products/contact-center)\\n        *   [Data & analytics](https://www.microsoft.com/en-us/microsoft-cloud/solutions/intelligent-data-platform)\\n        *   [Finance](https://www.microsoft.com/en-us/dynamics-365/solutions/finance)\\n        *   [Frontline workers](https://www.microsoft.com/en-us/microsoft-365/enterprise/frontline)\\n        *   [Sales & marketing](https://www.microsoft.com/en-us/dynamics-365/solutions/sales-and-marketing)\\n        *   [Security](https://www.microsoft.com/en-us/security)\\n        *   [Service](https://www.microsoft.com/en-us/dynamics-365/solutions/service)\\n        *   [Supply chain](https://www.microsoft.com/en-us/dynamics-365/solutions/supply-chain)\\n    *   By industry By industry\\n        *   [Energy](https://www.microsoft.com/en-us/industry/energy)\\n        *   [Financial services](https://www.microsoft.com/en-us/industry/financial-services/microsoft-cloud-for-financial-services)\\n        *   [Government](https://www.microsoft.com/en-us/industry/government)\\n        *   [Healthcare](https://www.microsoft.com/en-us/industry/health/microsoft-cloud-for-healthcare)\\n        *   [Manufacturing](https://www.microsoft.com/en-us/industry/manufacturing/microsoft-cloud-for-manufacturing)\\n        *   [Media & entertainment](https://www.microsoft.com/en-us/industry/media-entertainment)\\n        *   [Mobility](https://www.microsoft.com/en-us/industry/mobility)\\n        *   [Nonprofit](https://www.microsoft.com/en-us/nonprofits/microsoft-cloud-for-nonprofit)\\n        *   [Retail](https://www.microsoft.com/en-us/industry/retail/microsoft-cloud-for-retail)\\n        *   [Sustainability](https://www.microsoft.com/en-us/sustainability/cloud)\\n        *   [Telecommunications](https://www.microsoft.com/en-us/industry/telecommunications)\\n        *   [See all industries](https://www.microsoft.com/en-us/industry)\\n    \\n*   Products\\n    \\n    *   [Artificial intelligence](https://www.microsoft.com/en-us/ai)\\n    *   [Azure](https://azure.microsoft.com/)\\n    *   [Copilot](https://www.microsoft.com/en-us/microsoft-copilot/)\\n    *   [Dynamics 365](https://dynamics.microsoft.com/)\\n    *   [Github](https://github.com/)\\n    *   [Industry Clouds](https://www.microsoft.com/en-us/industry)\\n    *   [LinkedIn](https://www.linkedin.com/)\\n    *   [Microsoft 365](https://www.microsoft.com/en-us/microsoft-365/business)\\n    *   [Power Platform](https://www.microsoft.com/en-us/power-platform)\\n    *   [Security](https://www.microsoft.com/en-us/security)\\n    *   [Sustainability](https://www.microsoft.com/en-us/sustainability)\\n    *   [Visual Studio](https://visualstudio.microsoft.com/)\\n    \\n*   Resources\\n    \\n    *   Learn Learn\\n        *   [Documentation](https://docs.microsoft.com/)\\n        *   [Secure Future Initiative](https://www.microsoft.com/en-us/trust-center/security/secure-future-initiative)\\n        *   [Microsoft Trust Center](https://www.microsoft.com/en-us/trust-center)\\n        *   [Training](https://docs.microsoft.com/learn/)\\n    *   Connect Connect\\n        *   [Community](https://answers.microsoft.com/)\\n        *   [Blogs](https://www.microsoft.com/en-us/microsoft-cloud/blog/)\\n        *   [Events](https://www.microsoft.com/en-us/events)\\n        *   [Find a partner](https://partner.microsoft.com/en-us/partnership/find-a-partner)\\n        *   [Become a partner](https://partner.microsoft.com/membership/cloud-solution-provider)\\n    \\n*   More\\n    \\n\\n*   All Microsoft\\n    \\n    *   Global\\n        ------\\n        \\n        *   [Microsoft Security](https://www.microsoft.com/en-us/security)\\n        *   [Azure](https://azure.microsoft.com/en-us/)\\n        *   [Dynamics 365](https://dynamics.microsoft.com/en-us/)\\n        *   [Microsoft 365](https://www.microsoft.com/en-us/microsoft-365/business/)\\n        *   [Microsoft Teams](https://www.microsoft.com/en-us/microsoft-teams/group-chat-software)\\n        *   [Windows 365](https://www.microsoft.com/en-us/windows-365)\\n    *   Tech & innovation Tech & innovation\\n        *   [Microsoft Cloud](https://www.microsoft.com/en-us/microsoft-cloud)\\n        *   [AI](https://www.microsoft.com/en-us/ai)\\n        *   [Azure Space](https://azure.microsoft.com/en-us/solutions/space/)\\n        *   [Mixed reality](https://www.microsoft.com/en-us/mixed-reality/windows-mixed-reality)\\n        *   [Microsoft HoloLens](https://www.microsoft.com/en-us/hololens)\\n        *   [Microsoft Viva](https://www.microsoft.com/en-us/microsoft-viva)\\n        *   [Quantum computing](https://azure.microsoft.com/en-us/solutions/quantum-computing/)\\n        *   [Sustainability](https://www.microsoft.com/en-us/sustainability/)\\n    *   Industries Industries\\n        *   [Education](https://www.microsoft.com/en-us/education)\\n        *   [Automotive](https://www.microsoft.com/en-us/industry/automotive)\\n        *   [Financial services](https://www.microsoft.com/en-us/industry/financial-services/banking)\\n        *   [Government](https://www.microsoft.com/en-us/industry/government)\\n        *   [Healthcare](https://www.microsoft.com/en-us/industry/health/microsoft-cloud-for-healthcare)\\n        *   [Manufacturing](https://www.microsoft.com/en-us/industry/manufacturing/microsoft-cloud-for-manufacturing)\\n        *   [Retail](https://www.microsoft.com/en-us/industry/consumer-goods)\\n        *   [All industries](https://www.microsoft.com/en-us/industry)\\n    *   Partners Partners\\n        *   [Find a partner](https://partner.microsoft.com/en-US/)\\n        *   [Become a partner](https://partner.microsoft.com/en-US/membership/cloud-solution-provider)\\n        *   [Partner Network](https://partner.microsoft.com/en-us/membership)\\n        *   [Find an advertising partner](https://about.ads.microsoft.com/en-us/resources/microsoft-advertising-partner-program/microsoft-advertising-partner-program)\\n        *   [Become an advertising partner](https://about.ads.microsoft.com/en-us/partners/welcome?s_cid=en-us-gct-web-src_ext-sub_0-flx_uhfcombepartner)\\n        *   [Azure Marketplace](https://azuremarketplace.microsoft.com/en-us/)\\n        *   [AppSource](https://appsource.microsoft.com/en-us/)\\n    *   Resources Resources\\n        *   [Blog](https://blogs.microsoft.com/)\\n        *   [Microsoft Advertising](https://about.ads.microsoft.com/en-us?s_cid=dig-src_uhfcomm)\\n        *   [Developer Center](https://developer.microsoft.com/en-us/)\\n        *   [Documentation](https://learn.microsoft.com/docs/)\\n        *   [Events](https://www.microsoft.com/en-us/events)\\n        *   [Licensing](https://www.microsoft.com/en-us/licensing/)\\n        *   [Microsoft Learn](https://learn.microsoft.com/)\\n        *   [Microsoft Research](https://www.microsoft.com/en-us/research/)\\n    *   [View Sitemap](https://www.microsoft.com/en-us/sitemap.aspx)\\n'"
      ]
     },
     "execution_count": 18,
     "metadata": {},
     "output_type": "execute_result"
    }
   ],
   "source": [
    "jina(links[2].get('href'))"
   ]
  },
  {
   "cell_type": "code",
   "execution_count": 46,
   "metadata": {},
   "outputs": [],
   "source": [
    "results = DDGS().news(keywords=\"Amazon Rufus\", region=\"wt-wt\", safesearch=\"off\", timelimit=\"m\", max_results=20)\n",
    "\n",
    "# async\n"
   ]
  },
  {
   "cell_type": "code",
   "execution_count": 47,
   "metadata": {},
   "outputs": [
    {
     "data": {
      "text/plain": [
       "[{'date': '2024-10-03T13:22:00+00:00',\n",
       "  'title': \"Amazon's AI chatbot will help you shop. Just don't ask it for a 'dupe.'\",\n",
       "  'body': \"Amazon's new AI chatbot, Rufus, can help you find what you're looking for, but you have to know how to ask. It won't serve up dupes.\",\n",
       "  'url': 'https://www.msn.com/en-us/money/companies/amazons-ai-chatbot-will-help-you-shop-just-dont-ask-it-for-a-dupe/ar-AA1rDPTr',\n",
       "  'image': 'https://i.insider.com/66fdaa469e0c5c2eeeea2c6c?width=1200&format=jpeg',\n",
       "  'source': 'Business Insider on MSN.com'},\n",
       " {'date': '2024-09-24T01:57:00+00:00',\n",
       "  'title': \"Rufus & Metis Tell Tales of Amazon's Delayed AI Entry\",\n",
       "  'body': 'Amazon, the tech titan that reshaped retail, is late to the AI party. Satyen K. Bordoloi delves into why a key pioneer of our tech-driven lives took its time on AI and chatbots, and wonders if it can catch up.',\n",
       "  'url': 'https://www.sify.com/ai-analytics/rufus-metis-tell-tales-of-amazons-delayed-ai-entry/',\n",
       "  'image': 'https://www.sify.com/wp-content/uploads/2024/09/rufus.jpeg',\n",
       "  'source': 'Sify.com'},\n",
       " {'date': '2024-09-11T21:53:39+00:00',\n",
       "  'title': 'Amazon starts testing ads in its Rufus chatbot',\n",
       "  'body': 'Rufus, Amazon\\'s recently launched, shopping-focused chatbot, is getting ads soon. \"We continue to make enhancements to the Rufus experience, including improving brand and product discovery by introducing relevant sponsored ads that help customers discover selections related to their conversation with Rufus,',\n",
       "  'url': 'https://www.msn.com/en-us/news/technology/amazon-starts-testing-ads-in-its-rufus-chatbot/ar-AA1qpWJj',\n",
       "  'image': 'https://s.yimg.com/ny/api/res/1.2/ZCBfCqHzPyh85TIZPOTYJA--/YXBwaWQ9aGlnaGxhbmRlcjt3PTEyMDA7aD02NzU-/https://media.zenfs.com/en/techcrunch_350/fb67739ba6d540ffaae45cffcc042cfc',\n",
       "  'source': 'TechCrunch on MSN.com'},\n",
       " {'date': '2024-10-03T11:56:00+00:00',\n",
       "  'title': 'Amazon launches suite of visual search features',\n",
       "  'body': 'The e-commerce giant\\xa0added five new tech features so shoppers can conduct faster and more precise product searches.',\n",
       "  'url': 'https://finance.yahoo.com/news/amazon-launches-suite-visual-search-115600297.html?fr=sycsrp_catchall',\n",
       "  'image': 'https://s.yimg.com/ny/api/res/1.2/V6kMcc5W1hddKR0k9rWuaw--/YXBwaWQ9aGlnaGxhbmRlcjt3PTEyMDA7aD02NzU-/https://media.zenfs.com/en/retail_dive_367/0fab676bcbb6c98a52669df0e2b14a97',\n",
       "  'source': 'YAHOO!Finance'},\n",
       " {'date': '2024-10-03T07:02:00+00:00',\n",
       "  'title': 'Amazon Prime Big Deal Days Offers Exclusive Discounts for Members',\n",
       "  'body': 'Amazon Prime big deal days bring millions of early holiday deals and exclusive savings for Prime members. Takeaway Points Amazon Prime Big Deal Days Offers Exclusive Discounts for Members Starting Oct 8,',\n",
       "  'url': 'https://techbullion.com/amazon-prime-big-deal-days-offers-exclusive-discounts-for-members/',\n",
       "  'image': 'https://techbullion.com/wp-content/uploads/2024/10/Prime.jpg',\n",
       "  'source': 'Impacts'},\n",
       " {'date': '2024-09-24T05:09:00+00:00',\n",
       "  'title': 'Amazon India introduces AI chatbot Rufus ahead of festive sale event',\n",
       "  'body': 'E-commerce major Amazon India has launched a new generative AI-powered conversational shopping assistant, Rufus.',\n",
       "  'url': 'https://www.indiaretailing.com/2024/09/23/amazon-india-rufus/',\n",
       "  'image': 'https://www.indiaretailing.com/wp-content/uploads/2024/09/download-e1727068750915.png',\n",
       "  'source': 'indiaretailing'},\n",
       " {'date': '2024-09-21T00:00:00+00:00',\n",
       "  'title': 'Ahead Of Festivity Kickoff, Amazon Rolls Out AI Chatbot To Boost Customer Reach',\n",
       "  'body': 'Amazon India has introduced Rufus, an AI-powered shopping chatbot, on its mobile app before the Great Indian Festival sale starting September 27, to improve customer experience with natural ...',\n",
       "  'url': 'https://inc42.com/buzz/ahead-of-festivity-kickoff-amazon-rolls-out-ai-chatbot-to-boost-customer-reach/',\n",
       "  'image': '',\n",
       "  'source': 'inc42'},\n",
       " {'date': '2024-09-25T12:39:00+00:00',\n",
       "  'title': 'Amazon.com, Inc. (AMZN) Launches AI Shopping Assistant Rufus in India',\n",
       "  'body': 'We recently published a list of 20 AI News You Probably Missed. In this article, we are going to take a look at where Amazon.com, Inc.',\n",
       "  'url': 'https://www.msn.com/en-us/money/other/c3-ai-inc-ai-stands-out-as-a-top-performer-in-forrester-s-ai-ml-platform-evaluation/ar-AA1rbgp3',\n",
       "  'image': 'https://d2gr5kl7dt2z3t.cloudfront.net/blog/wp-content/uploads/2023/09/19152853/AMZN-insidermonkey-1695151731080.jpg',\n",
       "  'source': 'Insider Monkey on MSN.com'},\n",
       " {'date': '2024-09-23T03:22:00+00:00',\n",
       "  'title': 'Ahead of its festive sale, Amazon India unveils AI chatbot Rufus',\n",
       "  'body': 'Rufus enables natural language interactions within the Amazon app, to ask product-related questions, get recommendations, or compare products, the company said',\n",
       "  'url': 'https://bestmediainfo.com/mediainfo/mediainfo-digital/ahead-of-its-festive-sale-amazon-india-unveils-ai-chatbot-rufus-7086787',\n",
       "  'image': 'https://img-cdn.thepublive.com/fit-in/1200x675/bmi/media/media_files/6fU5PgRS6WEQd2wb5xPM.jpg',\n",
       "  'source': 'Best Media'},\n",
       " {'date': '2024-10-03T07:44:00+00:00',\n",
       "  'title': \"Amazon's Prime Big Deal Days Starting Oct. 8\",\n",
       "  'body': 'Amazon has unveiled deep discounts and millions of early holiday deals worldwide from top categories for Prime Members during Prime',\n",
       "  'url': 'https://markets.businessinsider.com/news/stocks/amazon-s-prime-big-deal-days-starting-oct-8-1033817252',\n",
       "  'image': '',\n",
       "  'source': 'Business Insider'},\n",
       " {'date': '2024-10-02T08:00:00+00:00',\n",
       "  'title': 'Amazon Advertising guide: How to reach customers and sell more',\n",
       "  'body': 'Amazon has also rolled out an AI shopping assistant called Rufus, but there is much debate on its usefulness and customer adoption. At the time of this writing, Amazon specifically states that ...',\n",
       "  'url': 'https://searchengineland.com/amazon-advertising-ultimate-guide-447121',\n",
       "  'image': '',\n",
       "  'source': 'Search Engine Land'},\n",
       " {'date': '2024-09-20T20:44:00+00:00',\n",
       "  'title': \"Amazon just released new AI tools for sellers — but here's what it means for shoppers\",\n",
       "  'body': \"Amazon's AI, Amelia is streamlining the selling process for sellers to give shoppers a better user experience.\",\n",
       "  'url': 'https://www.yahoo.com/tech/amazon-just-released-ai-tools-204429656.html',\n",
       "  'image': 'https://s.yimg.com/ny/api/res/1.2/vCq7uCAYgymu9_vy2kL9Fg--/YXBwaWQ9aGlnaGxhbmRlcjt3PTEyMDA7aD02NzU-/https://media.zenfs.com/en/toms_guide_826/ff997fc1f91a1c70f818911ee9b5bdc8',\n",
       "  'source': 'Yahoo'},\n",
       " {'date': '2024-09-21T08:48:00+00:00',\n",
       "  'title': \"How is Rufus different from Alexa? Here's what the Amazon AI chatbot says\",\n",
       "  'body': 'Unlike Alexa, which is a voice assistant, the new entrant, Rufus, is a conversational AI chatbot. It does not require a device to carry out conversations and can be communicated through app or website. It mainly provides customer service for shopping.',\n",
       "  'url': 'https://www.theweek.in/news/biz-tech/2024/09/21/how-is-amazon-ai-chatbot-rufus-different-from-alexa-heres-what-rufus-says.html',\n",
       "  'image': 'https://www.theweek.in/content/dam/week/week/news/biz-tech/images/2024/9/21/Amazon-Rufus.jpg',\n",
       "  'source': 'The Week'},\n",
       " {'date': '2024-09-21T06:42:00+00:00',\n",
       "  'title': 'Amazon Boosts Automation With New AI Chatbot For Its Sellers',\n",
       "  'body': 'Amazon.com announced on Thursday a new artificial intelligence application dubbed Amelia to help its independent sellers with sales metrics, inventory maintenance, and product advertising, among other things.',\n",
       "  'url': 'https://techbullion.com/amazon-boosts-automation-with-new-ai-chatbot-for-its-sellers/',\n",
       "  'image': 'https://techbullion.com/wp-content/uploads/2024/09/Amazon-Boosts-Automation-With-New-AI-Chatbot-For-Its-Sellers.png',\n",
       "  'source': 'Impacts'},\n",
       " {'date': '2024-09-21T06:35:00+00:00',\n",
       "  'title': 'Amazon launches AI chatbot Rufus ahead of its festive sale event in India',\n",
       "  'body': 'Rufus enables natural language interactions within the Amazon app, making it easy to ask product-related questions, get recommendations, or compare products, the company said. \"Whether typing or ...',\n",
       "  'url': 'https://www.msn.com/en-in/money/news/amazon-launches-ai-chatbot-rufus-ahead-of-its-festive-sale-event-in-india/ar-AA1qWvIp',\n",
       "  'image': 'https://www.bing.com/th?id=ORMS.02d9ceac149f38706e1aa78fe134ddaf&pid=Wdp',\n",
       "  'source': 'Republic World on MSN.com'},\n",
       " {'date': '2024-09-13T23:55:00+00:00',\n",
       "  'title': 'Amazon Rufus AI chatbot now rolling out to users in India',\n",
       "  'body': 'Last month, Amazon announced that Rufus, its AI chatbot will be made available in beta in India. Amazon had said that the rollout will be gradual. Now, Rufus AI is showing in the updated version ...',\n",
       "  'url': 'https://www.moneycontrol.com/technology/amazon-rufus-ai-chatbot-now-rolling-out-to-users-in-india-article-12821356.html',\n",
       "  'image': '',\n",
       "  'source': 'moneycontrol.com'},\n",
       " {'date': '2024-09-23T18:02:00+00:00',\n",
       "  'title': 'Amazon scales up operations network to meet festive season demand',\n",
       "  'body': 'Amazon India is making significant investments and scaling up its operations network as it prepares to serve millions of customers throughout India during the upcoming festive season',\n",
       "  'url': 'https://www.business-standard.com/companies/news/amazon-scales-up-operations-network-to-meet-festive-season-demand-124092301065_1.html',\n",
       "  'image': 'https://bsmedia.business-standard.com/_media/bs/img/article/2024-09/23/thumb/featurecrop/400X400/1727100706-6182.jpg',\n",
       "  'source': 'Business Standard'},\n",
       " {'date': '2024-10-01T20:34:00+00:00',\n",
       "  'title': \"Buy Rating Affirmed: Amazon's Strategic Moves to Boost Growth and Profitability\",\n",
       "  'body': 'Analyst Nashrullah Putra Sulaeman from DBS maintained a Buy rating on Amazon (AMZN - Research Report) and keeping the price target at',\n",
       "  'url': 'https://markets.businessinsider.com/news/stocks/buy-rating-affirmed-amazon-s-strategic-moves-to-boost-growth-and-profitability-1033812828',\n",
       "  'image': '',\n",
       "  'source': 'Business Insider'},\n",
       " {'date': '2024-09-16T09:21:00+00:00',\n",
       "  'title': \"Amazon app on Android gets minor facelift with 'Rufus' AI\",\n",
       "  'body': 'The Amazon app on Android has undergone few changes, but it is now receiving a very minor facelift alongside the integrated Rufus AI shopping assistant. If you were unaware, Rufus was already ...',\n",
       "  'url': 'https://9to5google.com/2024/09/16/amazon-app-on-android-gets-minor-facelift-with-rufus-ai/',\n",
       "  'image': '',\n",
       "  'source': '9to5google'}]"
      ]
     },
     "execution_count": 47,
     "metadata": {},
     "output_type": "execute_result"
    }
   ],
   "source": [
    "results"
   ]
  },
  {
   "cell_type": "code",
   "execution_count": 48,
   "metadata": {},
   "outputs": [
    {
     "data": {
      "text/plain": [
       "{'date': '2024-10-03T13:22:00+00:00',\n",
       " 'title': \"Amazon's AI chatbot will help you shop. Just don't ask it for a 'dupe.'\",\n",
       " 'body': \"Amazon's new AI chatbot, Rufus, can help you find what you're looking for, but you have to know how to ask. It won't serve up dupes.\",\n",
       " 'url': 'https://www.msn.com/en-us/money/companies/amazons-ai-chatbot-will-help-you-shop-just-dont-ask-it-for-a-dupe/ar-AA1rDPTr',\n",
       " 'image': 'https://i.insider.com/66fdaa469e0c5c2eeeea2c6c?width=1200&format=jpeg',\n",
       " 'source': 'Business Insider on MSN.com'}"
      ]
     },
     "execution_count": 48,
     "metadata": {},
     "output_type": "execute_result"
    }
   ],
   "source": [
    "results[0]"
   ]
  },
  {
   "cell_type": "code",
   "execution_count": 50,
   "metadata": {},
   "outputs": [],
   "source": [
    "len(jina(results[0].get('url')))\n",
    "new_list = [ results[x].get('title') for x in range(len(results)) ]\n",
    "# for i in results:\n",
    "    # print(i.get('title'))"
   ]
  },
  {
   "cell_type": "code",
   "execution_count": 51,
   "metadata": {},
   "outputs": [
    {
     "data": {
      "text/plain": [
       "[\"Amazon's AI chatbot will help you shop. Just don't ask it for a 'dupe.'\",\n",
       " \"Rufus & Metis Tell Tales of Amazon's Delayed AI Entry\",\n",
       " 'Amazon starts testing ads in its Rufus chatbot',\n",
       " 'Amazon launches suite of visual search features',\n",
       " 'Amazon Prime Big Deal Days Offers Exclusive Discounts for Members',\n",
       " 'Amazon India introduces AI chatbot Rufus ahead of festive sale event',\n",
       " 'Ahead Of Festivity Kickoff, Amazon Rolls Out AI Chatbot To Boost Customer Reach',\n",
       " 'Amazon.com, Inc. (AMZN) Launches AI Shopping Assistant Rufus in India',\n",
       " 'Ahead of its festive sale, Amazon India unveils AI chatbot Rufus',\n",
       " \"Amazon's Prime Big Deal Days Starting Oct. 8\",\n",
       " 'Amazon Advertising guide: How to reach customers and sell more',\n",
       " \"Amazon just released new AI tools for sellers — but here's what it means for shoppers\",\n",
       " \"How is Rufus different from Alexa? Here's what the Amazon AI chatbot says\",\n",
       " 'Amazon Boosts Automation With New AI Chatbot For Its Sellers',\n",
       " 'Amazon launches AI chatbot Rufus ahead of its festive sale event in India',\n",
       " 'Amazon Rufus AI chatbot now rolling out to users in India',\n",
       " 'Amazon scales up operations network to meet festive season demand',\n",
       " \"Buy Rating Affirmed: Amazon's Strategic Moves to Boost Growth and Profitability\",\n",
       " \"Amazon app on Android gets minor facelift with 'Rufus' AI\"]"
      ]
     },
     "execution_count": 51,
     "metadata": {},
     "output_type": "execute_result"
    }
   ],
   "source": [
    "new_list"
   ]
  },
  {
   "cell_type": "code",
   "execution_count": 33,
   "metadata": {},
   "outputs": [
    {
     "data": {
      "text/plain": [
       "\"Today's date is February 28, 2023.\""
      ]
     },
     "execution_count": 33,
     "metadata": {},
     "output_type": "execute_result"
    }
   ],
   "source": [
    "results = DDGS().chat(\"What is todays date\", model='claude-3-haiku')\n",
    "results\n"
   ]
  },
  {
   "cell_type": "code",
   "execution_count": null,
   "metadata": {},
   "outputs": [],
   "source": []
  }
 ],
 "metadata": {
  "kernelspec": {
   "display_name": "venv",
   "language": "python",
   "name": "python3"
  },
  "language_info": {
   "codemirror_mode": {
    "name": "ipython",
    "version": 3
   },
   "file_extension": ".py",
   "mimetype": "text/x-python",
   "name": "python",
   "nbconvert_exporter": "python",
   "pygments_lexer": "ipython3",
   "version": "3.11.9"
  }
 },
 "nbformat": 4,
 "nbformat_minor": 2
}
