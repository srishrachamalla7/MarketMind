{
  "cells": [
    {
      "cell_type": "code",
      "execution_count": null,
      "metadata": {
        "id": "luk-VoElfrXV"
      },
      "outputs": [],
      "source": [
        "# search a product competitors for ex microsoft cloud using serper\n",
        "# gather search relevant links and pass it to jina ai\n",
        "# extract the information from jena ai and store it in json format\n",
        "# do above 3 steps for the product competitors ex: microsoft\n",
        "# pass the info to llm and ask it to analyze the relation to other products and how far the product is from others or behind\n",
        "# if possible ask llm to give the results in pictorial format\n",
        "# $%$#"
      ]
    },
    {
      "cell_type": "markdown",
      "metadata": {
        "id": "5tpD2gwhQBpk"
      },
      "source": [
        "# Cheta"
      ]
    },
    {
      "cell_type": "code",
      "execution_count": null,
      "metadata": {
        "colab": {
          "base_uri": "https://localhost:8080/"
        },
        "id": "70w3N4EYtNaY",
        "outputId": "f2a913ca-9851-4209-a777-e074f5f95ea3"
      },
      "outputs": [
        {
          "name": "stdout",
          "output_type": "stream",
          "text": [
            "Enter the product name: microsoft cloud\n"
          ]
        }
      ],
      "source": [
        "query = str(input(\"Enter the product name: \"))"
      ]
    },
    {
      "cell_type": "code",
      "execution_count": null,
      "metadata": {
        "colab": {
          "base_uri": "https://localhost:8080/"
        },
        "id": "jaBUKFYPfzrJ",
        "outputId": "f2e82dee-bfd1-4c87-c9eb-89575cde4e1f"
      },
      "outputs": [
        {
          "name": "stdout",
          "output_type": "stream",
          "text": [
            "{\"searchParameters\":{\"q\":\"microsoft cloud \",\"type\":\"news\",\"engine\":\"google\"},\"news\":[{\"title\":\"New Microsoft Azure NVIDIA GB200 Systems Shown\",\"link\":\"https://www.servethehome.com/new-microsoft-azure-nvidia-gb200-systems-shown/\",\"snippet\":\"Microsoft Azure NVIDIA GB200 systems are huge, with two thirds of the aisle space shown being dedicated to cooling the NVIDIA rack.\",\"date\":\"21 hours ago\",\"source\":\"ServeTheHome\",\"imageUrl\":\"https://encrypted-tbn0.gstatic.com/images?q=tbn:ANd9GcS_TetWTABAraXLTXYuFJB6yBpcmcNMEdbXpVkhcfBm_Sdb9APDvAD2bSD-0w&s\",\"position\":1},{\"title\":\"OneDrive is getting a new mobile app, better search, and colored folders in File Explorer\",\"link\":\"https://www.theverge.com/2024/10/8/24265312/microsoft-onedrive-mobile-app-search-colored-folders-file-explorer\",\"snippet\":\"Microsoft's OneDrive cloud storage service is getting an improved search experience, a new mobile app, colored folders in File Explorer,...\",\"date\":\"19 hours ago\",\"source\":\"The Verge\",\"imageUrl\":\"https://encrypted-tbn0.gstatic.com/images?q=tbn:ANd9GcRU38CXDTtHtETD9r7jgcKibHbgFc0c-DN5UicBcOQzOhEqDkrDaqHCDVvPlw&s\",\"position\":2},{\"title\":\"Microsoft Azure flaunts world's first custom Nvidia Blackwell racks — tests its own 32 GPU server rack and liquid cooling solution\",\"link\":\"https://www.tomshardware.com/tech-industry/artificial-intelligence/microsoft-azure-flaunts-worlds-first-custom-nvidia-blackwell-racks\",\"snippet\":\"Microsoft Azure showed off its first cabinet with presumably 32 Blackwell B200 GPUs and a liquid cooling system. It's the first non-Nvidia...\",\"date\":\"16 hours ago\",\"source\":\"Tom's Hardware\",\"imageUrl\":\"https://encrypted-tbn0.gstatic.com/images?q=tbn:ANd9GcSJv0nKt4_56dNZoZ55M7o5Yo3zzRcZyAs_Q2uqtP8POfNDfviy-InluGHnxQ&s\",\"position\":3},{\"title\":\"AMD Radeon PRO V710 GPU Comes Equipped With Navi 32 Chip: 54 “RDNA 3” CUs, 28 GB VRAM & Available At Microsoft Azure\",\"link\":\"https://wccftech.com/amd-radeon-pro-v710-gpu-navi-32-54-cus-28-gb-vram-available-microsoft-azure/\",\"snippet\":\"AMD has introduced its Radeon PRO V710 GPU which is designed for the visual cloud segment such as Microsoft Azure & comes with 28 GB VRAM.\",\"date\":\"1 day ago\",\"source\":\"Wccftech\",\"imageUrl\":\"https://encrypted-tbn0.gstatic.com/images?q=tbn:ANd9GcRInCyZ9wfG-YjER1e7mW7tg6kIoWgrOFC_ueOkSLNdO51zwITqiHUabE4YDw&s\",\"position\":4},{\"title\":\"Infosys, Microsoft Expand Collaboration To Push Adoption Of GenAI, Azure Cloud\",\"link\":\"https://www.news18.com/business/infosys-microsoft-collaboration-genai-azure-cloud-9080607.html\",\"snippet\":\"Both companies are focusing on sharing best practices for Responsible AI.\",\"date\":\"54 minutes ago\",\"source\":\"News18\",\"imageUrl\":\"https://encrypted-tbn0.gstatic.com/images?q=tbn:ANd9GcRR9ij7xIyXOUrPVZEbGnUYy6cRS4dff2A9J03oNiK8Q5GASqC_2rGJc4nS7g&s\",\"position\":5},{\"title\":\"Microsoft Allows Partners To Sell Professional Services On Marketplace\",\"link\":\"https://www.crn.com/news/cloud/2024/microsoft-allows-partner-professional-services-on-marketplace\",\"snippet\":\"Microsoft is letting partners list assessments, briefings, migrations, PoCs and more on AppSource and Azure Marketplace.\",\"date\":\"14 hours ago\",\"source\":\"CRN\",\"imageUrl\":\"https://encrypted-tbn0.gstatic.com/images?q=tbn:ANd9GcRybU1LZYpM8A5R0pwZUI2taXi-i379e72yyG1iGLfSWhvsEjNXCJB6B5nvpA&s\",\"position\":6},{\"title\":\"Microsoft becomes first cloud to offer Nvidia Blackwell system\",\"link\":\"https://www.datacenterdynamics.com/en/news/microsoft-becomes-first-cloud-to-offer-nvidia-blackwell-system/\",\"snippet\":\"Microsoft Azure has Nvidia's Blackwell system up and running on GB200-powered AI servers. The company shared news of the deployment in a...\",\"date\":\"10 hours ago\",\"source\":\"Data Center Dynamics\",\"imageUrl\":\"https://encrypted-tbn0.gstatic.com/images?q=tbn:ANd9GcTNENlgq5OoX7pwG1gridsrosMTFZFdHr9a0v-AulVesXg2jjs2K7RZGl0k2w&s\",\"position\":7},{\"title\":\"Okra joins local cloud providers providing affordable alternatives to AWS and Azure\",\"link\":\"https://techcabal.com/2024/10/07/okra-providing-affordable-alternatives-to-aws-and-azure/\",\"snippet\":\"Okra, an open-banking startup in Nigeria, has launched Nebula, a cloud infrastructure product. It joins a growing list of homegrown cloud...\",\"date\":\"1 day ago\",\"source\":\"TechCabal\",\"imageUrl\":\"https://encrypted-tbn0.gstatic.com/images?q=tbn:ANd9GcRu5n_i-aeVhHkL56Iijcjo9fuaCgOq0HDBn1olXajEakBhzX10LzuUsfpbKg&s\",\"position\":8},{\"title\":\"Microsoft will soon let you have up to 5TB or 10TB storage in OneDrive\",\"link\":\"https://www.neowin.net/news/microsoft-will-soon-let-you-have-up-to-5tb-or-10tb-storage-in-onedrive/\",\"snippet\":\"Do you remember the times when the Microsoft 365 subscription (then Office 365) allowed you to have unlimited storage in OneDrive?\",\"date\":\"15 hours ago\",\"source\":\"Neowin\",\"imageUrl\":\"https://encrypted-tbn0.gstatic.com/images?q=tbn:ANd9GcSwUlecvVo2PzmI6QQVRv1SXJKUnbgIRb8EFnW_lDpEqqwC-xJvVfc66OC-Kg&s\",\"position\":9},{\"title\":\"Prediction: Microsoft Azure To Reach $200 Billion In Revenue By 2028\",\"link\":\"https://www.forbes.com/sites/bethkindig/2024/09/05/prediction-microsoft-azure-to-reach-200-billion-in-revenue-by-2028/\",\"snippet\":\"The lead we see from Microsoft today on AI revenue streams is critical enough and predictive enough that it points toward Azure surpassing $200 billion by 2028.\",\"date\":\"1 month ago\",\"source\":\"Forbes\",\"imageUrl\":\"https://encrypted-tbn0.gstatic.com/images?q=tbn:ANd9GcR7o52zbLw58uHQ4MAf5anrySjVgYTzJlz8HbpeIdzywFlkW_gvLXAccSe5vg&s\",\"position\":10}],\"credits\":1}\n"
          ]
        }
      ],
      "source": [
        "import requests\n",
        "import json\n",
        "\n",
        "url = \"https://google.serper.dev/news\"\n",
        "\n",
        "payload = json.dumps({\n",
        "  \"q\": f\"{query} \",\n",
        "})\n",
        "headers = {\n",
        "  'X-API-KEY': 'a2e62cb30db9ea5c2fd97d5002e325743f7c4485',\n",
        "  'Content-Type': 'application/json'\n",
        "}\n",
        "\n",
        "response = requests.request(\"POST\", url, headers=headers, data=payload)\n",
        "\n",
        "print(response.text)"
      ]
    },
    {
      "cell_type": "code",
      "execution_count": null,
      "metadata": {
        "collapsed": true,
        "id": "Fc3WmkHWh6zy"
      },
      "outputs": [],
      "source": [
        "data=response.text"
      ]
    },
    {
      "cell_type": "code",
      "execution_count": null,
      "metadata": {
        "colab": {
          "base_uri": "https://localhost:8080/"
        },
        "id": "l-XSUMegiHQz",
        "outputId": "3d5b99e6-515c-4664-be4b-7415c1a6983a"
      },
      "outputs": [
        {
          "data": {
            "text/plain": [
              "str"
            ]
          },
          "execution_count": 5,
          "metadata": {},
          "output_type": "execute_result"
        }
      ],
      "source": [
        "type(data)"
      ]
    },
    {
      "cell_type": "code",
      "execution_count": null,
      "metadata": {
        "id": "paky-WvDijYJ"
      },
      "outputs": [],
      "source": [
        "import json"
      ]
    },
    {
      "cell_type": "code",
      "execution_count": null,
      "metadata": {
        "id": "NAngjJNYjdVN"
      },
      "outputs": [],
      "source": [
        "data=json.loads(data)"
      ]
    },
    {
      "cell_type": "code",
      "execution_count": null,
      "metadata": {
        "colab": {
          "base_uri": "https://localhost:8080/"
        },
        "id": "p2u93aevjfsp",
        "outputId": "846cc7e3-5440-4099-fb79-bed95b83c221"
      },
      "outputs": [
        {
          "data": {
            "text/plain": [
              "dict"
            ]
          },
          "execution_count": 8,
          "metadata": {},
          "output_type": "execute_result"
        }
      ],
      "source": [
        "type(data)"
      ]
    },
    {
      "cell_type": "code",
      "execution_count": null,
      "metadata": {
        "colab": {
          "base_uri": "https://localhost:8080/"
        },
        "collapsed": true,
        "id": "bZLdc-YujhnU",
        "outputId": "aa0a8440-3dc4-468b-ab5a-bdb2ef33d545"
      },
      "outputs": [
        {
          "data": {
            "text/plain": [
              "[{'title': 'New Microsoft Azure NVIDIA GB200 Systems Shown',\n",
              "  'link': 'https://www.servethehome.com/new-microsoft-azure-nvidia-gb200-systems-shown/',\n",
              "  'snippet': 'Microsoft Azure NVIDIA GB200 systems are huge, with two thirds of the aisle space shown being dedicated to cooling the NVIDIA rack.',\n",
              "  'date': '21 hours ago',\n",
              "  'source': 'ServeTheHome',\n",
              "  'imageUrl': 'https://encrypted-tbn0.gstatic.com/images?q=tbn:ANd9GcS_TetWTABAraXLTXYuFJB6yBpcmcNMEdbXpVkhcfBm_Sdb9APDvAD2bSD-0w&s',\n",
              "  'position': 1},\n",
              " {'title': 'OneDrive is getting a new mobile app, better search, and colored folders in File Explorer',\n",
              "  'link': 'https://www.theverge.com/2024/10/8/24265312/microsoft-onedrive-mobile-app-search-colored-folders-file-explorer',\n",
              "  'snippet': \"Microsoft's OneDrive cloud storage service is getting an improved search experience, a new mobile app, colored folders in File Explorer,...\",\n",
              "  'date': '19 hours ago',\n",
              "  'source': 'The Verge',\n",
              "  'imageUrl': 'https://encrypted-tbn0.gstatic.com/images?q=tbn:ANd9GcRU38CXDTtHtETD9r7jgcKibHbgFc0c-DN5UicBcOQzOhEqDkrDaqHCDVvPlw&s',\n",
              "  'position': 2},\n",
              " {'title': \"Microsoft Azure flaunts world's first custom Nvidia Blackwell racks — tests its own 32 GPU server rack and liquid cooling solution\",\n",
              "  'link': 'https://www.tomshardware.com/tech-industry/artificial-intelligence/microsoft-azure-flaunts-worlds-first-custom-nvidia-blackwell-racks',\n",
              "  'snippet': \"Microsoft Azure showed off its first cabinet with presumably 32 Blackwell B200 GPUs and a liquid cooling system. It's the first non-Nvidia...\",\n",
              "  'date': '16 hours ago',\n",
              "  'source': \"Tom's Hardware\",\n",
              "  'imageUrl': 'https://encrypted-tbn0.gstatic.com/images?q=tbn:ANd9GcSJv0nKt4_56dNZoZ55M7o5Yo3zzRcZyAs_Q2uqtP8POfNDfviy-InluGHnxQ&s',\n",
              "  'position': 3},\n",
              " {'title': 'AMD Radeon PRO V710 GPU Comes Equipped With Navi 32 Chip: 54 “RDNA 3” CUs, 28 GB VRAM & Available At Microsoft Azure',\n",
              "  'link': 'https://wccftech.com/amd-radeon-pro-v710-gpu-navi-32-54-cus-28-gb-vram-available-microsoft-azure/',\n",
              "  'snippet': 'AMD has introduced its Radeon PRO V710 GPU which is designed for the visual cloud segment such as Microsoft Azure & comes with 28 GB VRAM.',\n",
              "  'date': '1 day ago',\n",
              "  'source': 'Wccftech',\n",
              "  'imageUrl': 'https://encrypted-tbn0.gstatic.com/images?q=tbn:ANd9GcRInCyZ9wfG-YjER1e7mW7tg6kIoWgrOFC_ueOkSLNdO51zwITqiHUabE4YDw&s',\n",
              "  'position': 4},\n",
              " {'title': 'Infosys, Microsoft Expand Collaboration To Push Adoption Of GenAI, Azure Cloud',\n",
              "  'link': 'https://www.news18.com/business/infosys-microsoft-collaboration-genai-azure-cloud-9080607.html',\n",
              "  'snippet': 'Both companies are focusing on sharing best practices for Responsible AI.',\n",
              "  'date': '54 minutes ago',\n",
              "  'source': 'News18',\n",
              "  'imageUrl': 'https://encrypted-tbn0.gstatic.com/images?q=tbn:ANd9GcRR9ij7xIyXOUrPVZEbGnUYy6cRS4dff2A9J03oNiK8Q5GASqC_2rGJc4nS7g&s',\n",
              "  'position': 5},\n",
              " {'title': 'Microsoft Allows Partners To Sell Professional Services On Marketplace',\n",
              "  'link': 'https://www.crn.com/news/cloud/2024/microsoft-allows-partner-professional-services-on-marketplace',\n",
              "  'snippet': 'Microsoft is letting partners list assessments, briefings, migrations, PoCs and more on AppSource and Azure Marketplace.',\n",
              "  'date': '14 hours ago',\n",
              "  'source': 'CRN',\n",
              "  'imageUrl': 'https://encrypted-tbn0.gstatic.com/images?q=tbn:ANd9GcRybU1LZYpM8A5R0pwZUI2taXi-i379e72yyG1iGLfSWhvsEjNXCJB6B5nvpA&s',\n",
              "  'position': 6},\n",
              " {'title': 'Microsoft becomes first cloud to offer Nvidia Blackwell system',\n",
              "  'link': 'https://www.datacenterdynamics.com/en/news/microsoft-becomes-first-cloud-to-offer-nvidia-blackwell-system/',\n",
              "  'snippet': \"Microsoft Azure has Nvidia's Blackwell system up and running on GB200-powered AI servers. The company shared news of the deployment in a...\",\n",
              "  'date': '10 hours ago',\n",
              "  'source': 'Data Center Dynamics',\n",
              "  'imageUrl': 'https://encrypted-tbn0.gstatic.com/images?q=tbn:ANd9GcTNENlgq5OoX7pwG1gridsrosMTFZFdHr9a0v-AulVesXg2jjs2K7RZGl0k2w&s',\n",
              "  'position': 7},\n",
              " {'title': 'Okra joins local cloud providers providing affordable alternatives to AWS and Azure',\n",
              "  'link': 'https://techcabal.com/2024/10/07/okra-providing-affordable-alternatives-to-aws-and-azure/',\n",
              "  'snippet': 'Okra, an open-banking startup in Nigeria, has launched Nebula, a cloud infrastructure product. It joins a growing list of homegrown cloud...',\n",
              "  'date': '1 day ago',\n",
              "  'source': 'TechCabal',\n",
              "  'imageUrl': 'https://encrypted-tbn0.gstatic.com/images?q=tbn:ANd9GcRu5n_i-aeVhHkL56Iijcjo9fuaCgOq0HDBn1olXajEakBhzX10LzuUsfpbKg&s',\n",
              "  'position': 8},\n",
              " {'title': 'Microsoft will soon let you have up to 5TB or 10TB storage in OneDrive',\n",
              "  'link': 'https://www.neowin.net/news/microsoft-will-soon-let-you-have-up-to-5tb-or-10tb-storage-in-onedrive/',\n",
              "  'snippet': 'Do you remember the times when the Microsoft 365 subscription (then Office 365) allowed you to have unlimited storage in OneDrive?',\n",
              "  'date': '15 hours ago',\n",
              "  'source': 'Neowin',\n",
              "  'imageUrl': 'https://encrypted-tbn0.gstatic.com/images?q=tbn:ANd9GcSwUlecvVo2PzmI6QQVRv1SXJKUnbgIRb8EFnW_lDpEqqwC-xJvVfc66OC-Kg&s',\n",
              "  'position': 9},\n",
              " {'title': 'Prediction: Microsoft Azure To Reach $200 Billion In Revenue By 2028',\n",
              "  'link': 'https://www.forbes.com/sites/bethkindig/2024/09/05/prediction-microsoft-azure-to-reach-200-billion-in-revenue-by-2028/',\n",
              "  'snippet': 'The lead we see from Microsoft today on AI revenue streams is critical enough and predictive enough that it points toward Azure surpassing $200 billion by 2028.',\n",
              "  'date': '1 month ago',\n",
              "  'source': 'Forbes',\n",
              "  'imageUrl': 'https://encrypted-tbn0.gstatic.com/images?q=tbn:ANd9GcR7o52zbLw58uHQ4MAf5anrySjVgYTzJlz8HbpeIdzywFlkW_gvLXAccSe5vg&s',\n",
              "  'position': 10}]"
            ]
          },
          "execution_count": 9,
          "metadata": {},
          "output_type": "execute_result"
        }
      ],
      "source": [
        "data['news']"
      ]
    },
    {
      "cell_type": "markdown",
      "metadata": {
        "id": "2Nd3qQFS_I44"
      },
      "source": []
    },
    {
      "cell_type": "code",
      "execution_count": null,
      "metadata": {
        "id": "URMvFIBBjk9v"
      },
      "outputs": [],
      "source": [
        "url=[]\n",
        "for i in data['news']:\n",
        "    url.append(i['link'])"
      ]
    },
    {
      "cell_type": "code",
      "execution_count": null,
      "metadata": {
        "colab": {
          "base_uri": "https://localhost:8080/"
        },
        "id": "IXbw0rK6kNTJ",
        "outputId": "35d907cb-1a3e-457a-d7c2-a667eec12066"
      },
      "outputs": [
        {
          "data": {
            "text/plain": [
              "['https://www.servethehome.com/new-microsoft-azure-nvidia-gb200-systems-shown/',\n",
              " 'https://www.theverge.com/2024/10/8/24265312/microsoft-onedrive-mobile-app-search-colored-folders-file-explorer',\n",
              " 'https://www.tomshardware.com/tech-industry/artificial-intelligence/microsoft-azure-flaunts-worlds-first-custom-nvidia-blackwell-racks',\n",
              " 'https://wccftech.com/amd-radeon-pro-v710-gpu-navi-32-54-cus-28-gb-vram-available-microsoft-azure/',\n",
              " 'https://www.news18.com/business/infosys-microsoft-collaboration-genai-azure-cloud-9080607.html',\n",
              " 'https://www.crn.com/news/cloud/2024/microsoft-allows-partner-professional-services-on-marketplace',\n",
              " 'https://www.datacenterdynamics.com/en/news/microsoft-becomes-first-cloud-to-offer-nvidia-blackwell-system/',\n",
              " 'https://techcabal.com/2024/10/07/okra-providing-affordable-alternatives-to-aws-and-azure/',\n",
              " 'https://www.neowin.net/news/microsoft-will-soon-let-you-have-up-to-5tb-or-10tb-storage-in-onedrive/',\n",
              " 'https://www.forbes.com/sites/bethkindig/2024/09/05/prediction-microsoft-azure-to-reach-200-billion-in-revenue-by-2028/']"
            ]
          },
          "execution_count": 11,
          "metadata": {},
          "output_type": "execute_result"
        }
      ],
      "source": [
        "url"
      ]
    },
    {
      "cell_type": "code",
      "execution_count": null,
      "metadata": {
        "id": "5kvutPPgkn1f"
      },
      "outputs": [],
      "source": [
        "data=[i['link'] for i in data['news']]"
      ]
    },
    {
      "cell_type": "code",
      "execution_count": null,
      "metadata": {
        "id": "E4xfU_ILk8KI"
      },
      "outputs": [],
      "source": [
        "def jina(url):\n",
        "    base_url= \"https://r.jina.ai//\"\n",
        "    url=base_url+url\n",
        "    response=requests.get(url)\n",
        "    return response.text\n"
      ]
    },
    {
      "cell_type": "code",
      "execution_count": null,
      "metadata": {
        "colab": {
          "base_uri": "https://localhost:8080/",
          "height": 156
        },
        "id": "cGiIbh8JmLp6",
        "outputId": "f4dfd552-abb9-4e34-d460-db41bc9b1ba8"
      },
      "outputs": [
        {
          "data": {
            "application/vnd.google.colaboratory.intrinsic+json": {
              "type": "string"
            },
            "text/plain": [
              "'Title: New Microsoft Azure NVIDIA GB200 Systems Shown\\n\\nURL Source: https://www.servethehome.com/new-microsoft-azure-nvidia-gb200-systems-shown/\\n\\nPublished Time: 2024-10-08T15:34:49+00:00\\n\\nMarkdown Content:\\nNew Microsoft Azure NVIDIA GB200 Systems Shown\\n===============  \\n\\n[Facebook](https://www.facebook.com/ServeTheHome/ \"Facebook\") [Instagram](https://www.instagram.com/servethehome/ \"Instagram\") [Linkedin](https://www.linkedin.com/company/servethehome-com/ \"Linkedin\") [RSS](http://feeds.feedburner.com/servethehome \"RSS\") [TikTok](https://www.tiktok.com/@servethehome \"TikTok\") [Twitter](https://twitter.com/servethehome \"Twitter\") [Youtube](https://www.youtube.com/ServeTheHomeVideo?sub_confirmation=1 \"Youtube\")\\n\\n*   [Forums](https://forums.servethehome.com/ \"ServeTheHome Fourms\")\\n*   [AI](https://www.servethehome.com/category/ai-deep-learning/)\\n*   [Server](https://www.servethehome.com/category/server-parts/ \"Server Parts | ServetheHome | Home Servers | Small Business Servers | Reviews\")\\n    *   [Server Systems](https://www.servethehome.com/category/server-parts/server-systems/)\\n    *   [Server CPUs](https://www.servethehome.com/category/server-parts/cpus/ \"Server CPUs | ServetheHome | Home Servers | Small Business Servers | Reviews\")\\n    *   [Accelerators](https://www.servethehome.com/category/server-parts/accelerators/)\\n    *   [Server Motherboards](https://www.servethehome.com/category/server-parts/motherboards/ \"Server Motherboards | ServetheHome | Home Servers | Small Business Servers | Reviews\")\\n    *   [Server Chassis](https://www.servethehome.com/category/server-parts/server-chassis/ \"Server Chassis | ServetheHome | Home Servers | Small Business Servers | Reviews\")\\n    *   [Other Components](https://www.servethehome.com/category/server-parts/other-components/ \"Non-drive computer components | ServetheHome | Home Servers | Small Business Servers | Reviews\")\\n*   [5G Edge](https://www.servethehome.com/category/edge/)\\n*   [Storage](https://www.servethehome.com/category/storage/ \"Storage | ServetheHome | Home and Small Business Servers | Reviews\")\\n*   [Networking](https://www.servethehome.com/category/networking/ \"Networking | ServetheHome | Home and Small Business Servers | Reviews\")\\n*   [Workstation](https://www.servethehome.com/category/workstations/ \"Workstation Hardware | ServetheHome | Home Servers | Small Business Servers | Reviews\")\\n    *   [Workstation Processors](https://www.servethehome.com/category/workstations/workstation-processors/ \"Workstation Processors | ServetheHome | Home Servers | Small Business Servers | Reviews\")\\n    *   [Workstation Motherboards](https://www.servethehome.com/category/workstations/workstation-motherboards/ \"Workstation Motherboards | ServetheHome | Home Servers | Small Business Servers | Reviews\")\\n*   [Software](https://www.servethehome.com/category/server-software/ \"Server Software | ServetheHome | Home Servers | Small Business Servers | Reviews\")\\n    *   [Operating Systems](https://www.servethehome.com/category/server-software/operating-systems/ \"Operating Systems | ServetheHome | Home Servers | Small Business Servers | Reviews\")\\n    *   [Server Applications](https://www.servethehome.com/category/server-software/server-applications/ \"Server Applications | ServetheHome | Home Servers | Small Business Servers | Reviews\")\\n    *   [Virtualization](https://www.servethehome.com/category/server-software/virtualization-other/ \"Virtualization | ServetheHome | Home Servers | Small Business Servers | Reviews\")\\n*   [Guides](https://www.servethehome.com/buyers-guides/ \"Buyer’s Guides | ServetheHome | Home and Small Business Servers | Reviews\")\\n    *   [Buyer’s Guides](https://www.servethehome.com/category/client-tips-and-tricks/buyers-guides/ \"Buyer Guides | ServetheHome | Home Servers | Small Business Servers | Reviews\")\\n    *   [Tips](https://www.servethehome.com/category/client-tips-and-tricks/ \"Client Tips | ServetheHome | Home Servers | Small Business Servers | Reviews\")\\n    *   [Top Hardware Components for TrueNAS / FreeNAS NAS Servers](https://www.servethehome.com/buyers-guides/top-hardware-components-for-truenas-freenas-nas-servers/)\\n    *   [Top Hardware Components for pfSense Appliances](https://www.servethehome.com/buyers-guides/top-hardware-components-pfsense-appliances/)\\n    *   [Top Hardware Components for napp-it and Solarish NAS Servers](https://www.servethehome.com/buyers-guides/top-hardware-components-napp-omnios-nas-servers/)\\n    *   [Top Picks for Windows Server 2016 Essentials Hardware](https://www.servethehome.com/buyers-guides/top-picks-windows-server-2016-essentials-hardware/)\\n    *   [The DIY WordPress Hosting Server Hardware Guide](https://www.servethehome.com/buyers-guides/the-diy-wordpress-hosting-server-hardware-guide/)\\n\\nSearch \\n\\n[Facebook](https://www.facebook.com/ServeTheHome/ \"Facebook\") [Instagram](https://www.instagram.com/servethehome/ \"Instagram\") [Linkedin](https://www.linkedin.com/company/servethehome-com/ \"Linkedin\") [RSS](http://feeds.feedburner.com/servethehome \"RSS\") [TikTok](https://www.tiktok.com/@servethehome \"TikTok\") [Twitter](https://twitter.com/servethehome \"Twitter\") [Youtube](https://www.youtube.com/ServeTheHomeVideo?sub_confirmation=1 \"Youtube\")\\n\\nWednesday, October 9, 2024\\n\\n*   [News](https://www.servethehome.com/category/news/)\\n*   [Storage Reliability](https://www.servethehome.com/raid-calculator/ \"RAID Calculator | ServetheHome | Home and Small Business Servers\")\\n    *   [Raid Calculator](https://www.servethehome.com/raid-calculator/ \"Raid Calculator | Raid Disk Space Utilization Calculator | ServeTheHome\")\\n    *   [RAID Reliability Calculator | Simple MTTDL Model](https://www.servethehome.com/raid-calculator/raid-reliability-calculator-simple-mttdl-model/ \"RAID Reliability Calculator | ServetheHome | Home Servers and Small Business Servers\")\\n*   [Contact](https://www.servethehome.com/contact/ \"ServetheHome | Contact | Home and Small Business Servers | Reviews\")\\n*   [About](https://www.servethehome.com/about/ \"About Servethehome | Home Servers | Small Business Servers | Reviews\")\\n    *   [Editorial and Copyright Policies](https://www.servethehome.com/about/editorial-copyright-policies/)\\n*   [AG Substack](https://axautikgroupllc.substack.com/)\\n*   [AG Reports](https://reports.axautikgroup.com/)\\n*   [Subscribe](https://eepurl.com/dryM09 \"Subscribe to the ServetheHome Newsletter\")\\n*   [Forums](https://forums.servethehome.com/ \"Forums | ServetheHome | Home and Small Business Servers | Reviews\")\\n\\n[](https://www.servethehome.com/new-microsoft-azure-nvidia-gb200-systems-shown/#)\\n\\nSign in\\n\\nWelcome! Log into your account\\n\\nyour username\\n\\nyour password\\n\\n[Forgot your password? Get help](https://www.servethehome.com/new-microsoft-azure-nvidia-gb200-systems-shown/#)\\n\\n[Privacy Policy](https://www.servethehome.com/about/data-processing-and-privacy-policy/)\\n\\nPassword recovery\\n\\nRecover your password\\n\\nyour email\\n\\nA password will be e-mailed to you.\\n\\n [![Image 1](https://www.servethehome.com/wp-content/uploads/2019/10/STH-Logo-96px.png) ServeTheHome](https://www.servethehome.com/)\\n\\nAdvertisement  \\n  \\n  \\n\\n[](https://www.servethehome.com/new-microsoft-azure-nvidia-gb200-systems-shown/#)\\n\\n [![Image 2](https://www.servethehome.com/wp-content/uploads/2019/10/STH-Logo-48px.png)](https://www.servethehome.com/)[![Image 3](https://www.servethehome.com/wp-content/uploads/2019/10/STH-Logo-96px.png)](https://www.servethehome.com/)\\n\\n*   [Forums](https://forums.servethehome.com/ \"ServeTheHome Fourms\")\\n*   [AI](https://www.servethehome.com/category/ai-deep-learning/)\\n*   [Server](https://www.servethehome.com/category/server-parts/ \"Server Parts | ServetheHome | Home Servers | Small Business Servers | Reviews\")\\n    *   [Server Systems](https://www.servethehome.com/category/server-parts/server-systems/)\\n    *   [Server CPUs](https://www.servethehome.com/category/server-parts/cpus/ \"Server CPUs | ServetheHome | Home Servers | Small Business Servers | Reviews\")\\n    *   [Accelerators](https://www.servethehome.com/category/server-parts/accelerators/)\\n    *   [Server Motherboards](https://www.servethehome.com/category/server-parts/motherboards/ \"Server Motherboards | ServetheHome | Home Servers | Small Business Servers | Reviews\")\\n    *   [Server Chassis](https://www.servethehome.com/category/server-parts/server-chassis/ \"Server Chassis | ServetheHome | Home Servers | Small Business Servers | Reviews\")\\n    *   [Other Components](https://www.servethehome.com/category/server-parts/other-components/ \"Non-drive computer components | ServetheHome | Home Servers | Small Business Servers | Reviews\")\\n*   [5G Edge](https://www.servethehome.com/category/edge/)\\n*   [Storage](https://www.servethehome.com/category/storage/ \"Storage | ServetheHome | Home and Small Business Servers | Reviews\")\\n*   [Networking](https://www.servethehome.com/category/networking/ \"Networking | ServetheHome | Home and Small Business Servers | Reviews\")\\n*   [Workstation](https://www.servethehome.com/category/workstations/ \"Workstation Hardware | ServetheHome | Home Servers | Small Business Servers | Reviews\")\\n    *   [Workstation Processors](https://www.servethehome.com/category/workstations/workstation-processors/ \"Workstation Processors | ServetheHome | Home Servers | Small Business Servers | Reviews\")\\n    *   [Workstation Motherboards](https://www.servethehome.com/category/workstations/workstation-motherboards/ \"Workstation Motherboards | ServetheHome | Home Servers | Small Business Servers | Reviews\")\\n*   [Software](https://www.servethehome.com/category/server-software/ \"Server Software | ServetheHome | Home Servers | Small Business Servers | Reviews\")\\n    *   [Operating Systems](https://www.servethehome.com/category/server-software/operating-systems/ \"Operating Systems | ServetheHome | Home Servers | Small Business Servers | Reviews\")\\n    *   [Server Applications](https://www.servethehome.com/category/server-software/server-applications/ \"Server Applications | ServetheHome | Home Servers | Small Business Servers | Reviews\")\\n    *   [Virtualization](https://www.servethehome.com/category/server-software/virtualization-other/ \"Virtualization | ServetheHome | Home Servers | Small Business Servers | Reviews\")\\n*   [Guides](https://www.servethehome.com/buyers-guides/ \"Buyer’s Guides | ServetheHome | Home and Small Business Servers | Reviews\")\\n    *   [Buyer’s Guides](https://www.servethehome.com/category/client-tips-and-tricks/buyers-guides/ \"Buyer Guides | ServetheHome | Home Servers | Small Business Servers | Reviews\")\\n    *   [Tips](https://www.servethehome.com/category/client-tips-and-tricks/ \"Client Tips | ServetheHome | Home Servers | Small Business Servers | Reviews\")\\n    *   [Top Hardware Components for TrueNAS / FreeNAS NAS Servers](https://www.servethehome.com/buyers-guides/top-hardware-components-for-truenas-freenas-nas-servers/)\\n    *   [Top Hardware Components for pfSense Appliances](https://www.servethehome.com/buyers-guides/top-hardware-components-pfsense-appliances/)\\n    *   [Top Hardware Components for napp-it and Solarish NAS Servers](https://www.servethehome.com/buyers-guides/top-hardware-components-napp-omnios-nas-servers/)\\n    *   [Top Picks for Windows Server 2016 Essentials Hardware](https://www.servethehome.com/buyers-guides/top-picks-windows-server-2016-essentials-hardware/)\\n    *   [The DIY WordPress Hosting Server Hardware Guide](https://www.servethehome.com/buyers-guides/the-diy-wordpress-hosting-server-hardware-guide/)\\n\\n[](https://www.servethehome.com/new-microsoft-azure-nvidia-gb200-systems-shown/#)[](https://www.servethehome.com/new-microsoft-azure-nvidia-gb200-systems-shown/#)\\n\\n[Home](https://www.servethehome.com/) [AI](https://www.servethehome.com/category/ai-deep-learning/ \"View all posts in AI\") New Microsoft Azure NVIDIA GB200 Systems Shown\\n\\n*   [AI](https://www.servethehome.com/category/ai-deep-learning/)\\n*   [Server](https://www.servethehome.com/category/server-parts/)\\n*   [Server Systems](https://www.servethehome.com/category/server-parts/server-systems/)\\n\\nNew Microsoft Azure NVIDIA GB200 Systems Shown\\n==============================================\\n\\nBy\\n\\n[Cliff Robinson](https://www.servethehome.com/author/cliffrobinson/)\\n\\n\\\\-\\n\\nOctober 8, 2024\\n\\n[1](https://www.servethehome.com/new-microsoft-azure-nvidia-gb200-systems-shown/#comments)\\n'"
            ]
          },
          "execution_count": 14,
          "metadata": {},
          "output_type": "execute_result"
        }
      ],
      "source": [
        "jina(data[0])"
      ]
    },
    {
      "cell_type": "code",
      "execution_count": null,
      "metadata": {
        "id": "IT4a-opqmY4o"
      },
      "outputs": [],
      "source": [
        "final_data=[jina(i) for i in data ]"
      ]
    },
    {
      "cell_type": "code",
      "execution_count": null,
      "metadata": {
        "colab": {
          "base_uri": "https://localhost:8080/",
          "height": 156
        },
        "id": "5VTE0Kz_nBlU",
        "outputId": "f9cdb2b7-a2a7-4b24-df5a-86ec28e71d7c"
      },
      "outputs": [
        {
          "data": {
            "application/vnd.google.colaboratory.intrinsic+json": {
              "type": "string"
            },
            "text/plain": [
              "'Title: Prediction: Microsoft Azure To Reach $200 Billion In Revenue By 2028\\n\\nURL Source: https://www.forbes.com/sites/bethkindig/2024/09/05/prediction-microsoft-azure-to-reach-200-billion-in-revenue-by-2028/\\n\\nPublished Time: 2024-09-05T23:03:35-04:00\\n\\nMarkdown Content:\\nBELLEVUE, WA - NOVEMBER 28: Microsoft CEO Satya Nadella smiles during the question and answer ... \\\\[+\\\\] portion of the Microsoft Annual Shareholders Meeting at the Meydenbauer Center on November 28, 2018 in Bellevue, Washington. Microsoft recently surpassed Apple, Inc. to become the world\\'s most valuable publicly traded company. (Photo by Stephen Brashear/Getty Images)\\n\\nGetty Images\\n\\nThe period after the dot-com bubble including the financial crisis of 2008 were difficult years for Microsoft. The stock returned a mere 37% compared to Amazon’s 657.9% in the same time frame and Apple’s 5150%.\\n\\nMicrosoft’s stock greatly underperformed prior to Satya Nadella as CEO\\n\\nYCharts\\n\\nMicrosoft’s trajectory changed when Satya Nadella, formally of the Azure division, became CEO in 2014 after working his way up through the company over the course of 19 years to president of the cloud business. The stock is up 1,000% in the ten years since Nadella took the helm using his multi-decade cloud experience to steer a remarkable turnaround from a corporate reputation mired in fighting open-source communities and anti-trust issues. Since Nadella became CEO, the returns in Microsoft’s stock have exceeded Amazon and is tied with Apple, as of writing.\\n\\nMicrosoft’s stock has outperformed since Satya Nadella became CEO in 2014\\n\\nYCharts\\n\\nThe competitor Nadella faced in building Azure is arguably the toughest competitor in technology – Amazon Web Services (AWS); not only for the vendor lock-in qualities of cloud IaaS as migrating a tech stack is quite costly in both time and money, but also because AWS had the first mover advantage of a four-year head start. In the tech industry, a lead this long is considered insurmountable.\\n\\nOver the past ten years, Microsoft strategically exceled by targeting the Fortune 500 with [85% running](https://usesignhouse.com/blog/microsoft-azure-stats/#:~:text=In%20a%20recent%20report%20from,were%20722.22%20million%20Azure%20users.%22 \"https://usesignhouse.com/blog/microsoft-azure-stats/#:~:text=In%20a%20recent%20report%20from,were%20722.22%20million%20Azure%20users.\\\\\"\") on Azure today. Retaining the Fortune 500 in the migration to the cloud was accomplished through hybrid computing where Microsoft was first-to-market on serving a mix of on-premise, private and public clouds for their large enterprise customers. As the leader in on-premise systems, Microsoft was perfectly positioned to win with hybrid architectures. The company took this a step further and undercut other services on prices across its suite of software and platforms to win aggregate, long-term contracts.\\n\\nThis past month, for the first time, Microsoft has announced it will be re-organizing its reporting segments, which will afford investors a better apples-to-apples comparison between Azure and AWS. According to Wells Fargo, the new Azure reporting segment stands at an [estimated $62 billion](https://thefinancialanalyst.net/2024/08/26/microsofts-azure-sees-33-growth-ai-now-9-of-revenue-says-wells-fargo/#:~:text=This%2520refined%2520approach%2520reveals%2520a%2520robust%252033%25%2520year-over-year%2520revenue%2520growth \"https://thefinancialanalyst.net/2024/08/26/microsofts-azure-sees-33-growth-ai-now-9-of-revenue-says-wells-fargo/#:~:text=This%2520refined%2520approach%2520reveals%2520a%2520robust%252033%25%2520year-over-year%2520revenue%2520growth\") as of June 2024, compared to $105 billion for AWS.\\n\\nThe lead we see from Microsoft today on AI revenue streams is critical enough and predictive enough that it points toward Azure surpassing $200 billion by 2028, catalyzed by the OpenAI investment, Copilot’s rapid integration into nearly every Microsoft software product, having the ace of spades — which is an operating system used in 72% of the world’s laptops and desktops, and perhaps the simplest reason of all —- Microsoft excels at the enterprise.\\n\\nNew Azure Reporting Reveals 11-Points of AI Contribution\\n--------------------------------------------------------\\n\\nMicrosoft offers investors unique insights as to the monetization opportunities for AI. Last year, in the FY2023 Q4 report ending in July, Azure officially inflected due to AI. Per the report: “Azure and other cloud services revenue grew 26% and 27% in constant currency, including roughly 1 point from AI services.” In four brief quarters, Microsoft is now reporting an 8% inflection from AI: “Azure growth included 8 points from AI services where demand remained higher than our available capacity.”\\n\\nLater, it was stated in an updated FY25 investor presentation that Azure saw an 11 point contribution last quarter compared to the 8 points previously reported. The metric change is due to Microsoft removing Enterprise Mobility + Security (EMS) and Power BI (BPP) from Intelligent Cloud. It’s significant that Azure is seeing low double digits while AWS and Google Cloud are not reporting their exact contribution from AI, rather are remaining vague by saying “several billions” in AI revenue.\\n\\nThe reporting changes also update Azure’s growth rate to 33% for the fiscal year and an impressive 35% growth in constant currency. Prior to the metric changes, management guided for a slight deceleration in Azure growth in Q1’25, with growth of 28% to 29% in CC (vs 30% this quarter), yet they expect an acceleration in H2’25 as their capital investments increase AI capacity.\\n\\nMicrosoft Azure recently updated metrics to show higher AI contribution of 11 points\\n\\nMicrosoft FY25 Investor Metrics\\n\\nAccording to Wells Fargo, the new metrics suggest an annualized run rate for Azure of approximately $62 billion. Investors will get the official number in next quarter’s earnings report.\\n\\nManagement has stated the primary issue is being capacity constrained, which all things equal, is bullish for the medium-term as it implies demand exceeds supply for Azure AI and Azure’s consumption business. Per management in [the most recent](https://seekingalpha.com/article/4708295-microsoft-corporation-msft-q4-2024-earnings-call-transcript \"https://seekingalpha.com/article/4708295-microsoft-corporation-msft-q4-2024-earnings-call-transcript\") earnings call: “And in H2, we expect Azure growth to accelerate as our capital investments create an increase in available AI capacity to serve more of the growing demand.”\\n\\nAzure AI is a platform for developing custom AI applications and solutions. Companies use Azure AI to integrate generative AI and multimodal language models into their applications for features such as search, image recognition, natural language processing, speech to text and other AI features using developer tools, such as APIs and SDKs. The platform also offers lifecycle management for data preparation and model development and training for machine learning, supporting popular frameworks PyTorch and Tensorflow. Azure OpenAI provides access to OpenAI’s GPT-4, GPT-3.5, Microsoft’s DALL-E models, and Meta’s Llama models for companies to build custom generative AI applications and AI assistants. Companies run models on their data to improve workflows through Azure AI Studio.\\n\\nAzure AI customers totaled more than 60,000, implying customer growth rate of nearly 60% YoY and up over 13% vs Q2’24 with average customer spend continuing to grow. The number of Azure AI customers using data and analytics tools also grew nearly 50% YoY.\\n\\nWhere Azure stands apart is that its security segment is one of the largest in the world. In 2023, it was stated Microsoft’s security segment was at $20 billion with 860,000 customers. The number of customers has been updated to 1.2 million, and if we do some simple math, that would imply the security segment is at $28 billion today – far exceeding all best-of-breed cybersecurity companies combined.\\n\\nAlso tied to Microsoft’s strong presence in security, the Federal Government often gets overlooked in terms of its AI impact to Azure. In a blog post, the company CTO Bill Chappell wrote: \"\\\\[…\\\\] generative AI capabilities through Microsoft Azure OpenAI Service, can help government agencies improve efficiency, enhance productivity, and unlock new insights from their data. Many agencies require a higher level of security given the sensitivity of government data. Microsoft Azure Government provides the stringent security and compliance standards they need to meet government requirements for sensitive data.\"\\n\\nKey metrics for Microsoft have been on fire lately. Bookings increased 17% YoY and 19% on a constant currency basis. This was significantly above expectations and driven by growth in the number of $10M+ and $100M+ contracts for Azure and Microsoft 365. This compares to 29% growth (31% on CC basis) in Bookings last quarter and compares to a -2% decrease (-1% on CC basis) in Bookings in the year ago quarter. Commercial RPO grew by 20% YoY to $269 billion. This compares to 20% growth last quarter and 19% YoY growth in the year ago quarter.\\n\\nMicrosoft\\'s Commercial RPO grew by 20% YoY to $269 billion. This compares to 20% growth last quarter ... \\\\[+\\\\] and 19% YoY growth in the year ago quarter.\\n\\nI/O Fund\\n\\n_Source:_ [_I/O Fund Stock Research_](https://io-fund.com/ \"https://io-fund.com/\")\\n\\nIf Azure were to continue its growth rate today on the assumption that any acceleration from AI offsets a deceleration on traditional cloud revenue (due to [repatriation](https://x.com/Beth_Kindig/status/1662918414501916674 \"https://x.com/Beth_Kindig/status/1662918414501916674\") from moving cloud workloads to on-prem, for example), then Azure would reach revenue of $178.3 billion by 2028. That’s the bare minimum base case.\\n\\nIf we assume that AI contributes an additional 10 points for the next two years, and then tapers off to 8 points of AI contribution, and finally 4 points of AI contribution due to a higher revenue base, while also offsetting up to a 6-point decline in traditional cloud workloads, then Azure will reach $206.7 billion by FY2028 (ending in June of 2027).\\n\\nMicrosoft Azure has a possible path to surpassing $200 billion by 2028\\n\\nI/O Fund Stock Research\\n\\n_Source:_ [_I/O Fund Stock Research_](https://io-fund.com/ \"https://io-fund.com/\")\\n\\nThere are some analysts [forecasting $41.6 billion](https://www.barrons.com/articles/amazon-revenue-growth-ai-d70d858d \"https://www.barrons.com/articles/amazon-revenue-growth-ai-d70d858d\") for AI revenue for AWS by 2027. It’s reasonable to assume Microsoft’s AI revenue will be higher as it’s the only company reporting details on AI revenue across the Big 3 and at a double-digit percentage of 11% nonetheless (or about $7 billion in AI revenue) compared to vague comments of “several billions” of AI revenue from Azure’s competitors, and likely to be the $3 to $4 billion range. Therefore, assuming Microsoft has $55 billion in revenue by 2027 compared to AWS’ $42 billion is a reasonable assumption.\\n\\nCopilot’s Rapid Integration\\n---------------------------\\n\\nWhile OpenAI’s Chat-GPT and Google’s Bard /Gemini have gotten all of the attention, Microsoft has been quietly building an AI software empire with Copilot. Copilot features are designed to boost productivity and are integrated across consumer and enterprise software, including Windows, Edge, Office, Bing, Teams, Loop, Dynamics and Viva.\\n\\nCopilot utilizes large language models that require Azure consumption. To prepare for this moment, Microsoft invested $1 billion in Open AI in 2019. Over the last five years, Microsoft has increased its investment to $13 billion. Open AI’s Chat-GPT are some of the large language models that power Microsoft’s Copilot. OpenAI leads the market on LLMs and every time Chat-GPT is integrated into a product and used across OpenAI’s user network, money funnels to Azure as Microsoft is the exclusive cloud provider in exchange for allowing OpenAI to access Azure’s infrastructure at a reduced cost. Around the time that Chat-GPT was noticed by Wall Street, Microsoft’s management team [said the following](https://io-fund.com/cloud-software/software/microsoft-ai-will-help-drive-100-billion-in-revenue \"https://io-fund.com/cloud-software/software/microsoft-ai-will-help-drive-100-billion-in-revenue\") about its impact on Azure:\\n\\n_“Second, even Azure OpenAI API customers are all new, and the workload conversations, whether it’s B2C conversations in financial services or drug discovery on another side, these are all new workloads that we really were not in the game in the past, whereas we now are.”_\\n\\nDevelopers pay between $10 to $19 per month for GitHub Copilot. According to the most recent earnings report, Copilot accounted for over 40% of GitHub’s revenue growth this year and is already a larger business than all of GitHub when Microsoft acquired it at $2 billion annual recurring revenue (ARR). GitHub Copilot has been adopted by over 77,000 companies, up 180% YoY.\\n\\nCopilot Studio, a low-code tool for creating and maintaining copilots, saw a 70% QoQ increase in organizations using it to 50,000.\\n\\nCopilot for Sales and Service is priced at $50 per user each, Copilot for finance is $30 per user, and for Dynamics data platform use cases, it’s priced as high as $1,397 per tenant. The highest cost is [Copilot for Security](https://azure.microsoft.com/en-gb/pricing/details/microsoft-copilot-for-security/ \"https://azure.microsoft.com/en-gb/pricing/details/microsoft-copilot-for-security/\"), priced at $4 per hour, with an estimated monthly cost of $2920.\\n\\nAlthough some of the upside from Copilot will be reported in other revenue segments outside of Azure, there are some tie-ins regardless of where Copilot is running. For example, enterprises need data to reside where Copilot can access it, which implies higher Azure revenue. On a more granular level, those who subscribe to Office 365 are often locked-in to Azure Active Directory (AD).\\n\\nToday, Microsoft has more than 400 million 365 Commercial customer seats and 78.4 million 365 Consumer subscribers, giving a nearly ~480 million customer base to target for AI services. Assuming AI PCs help to spark a strong growth trajectory for Copilot, just a 10% adoption rate across both Commercial and Consumer by the end of the fiscal year would surpass $17 billion annual run rate. It’s likely the 10-year adoption rate will be well above 50% with an addressable market of up to 90% as more AI assistant productivity hacks are developed. This means Office 365 would land somewhere between $86 billion and $156 billion, equal to the current size of Azure or up to double the size of Azure on this revenue stream alone.\\n\\n_While Wall Street is worried about how much AI is costing, the I/O Fund is busy calculating how big the AI opportunity can get in the next few years and how investors can participate. Join_ [_our next webinar_](https://io-fund.com/premium-services-pricing \"https://io-fund.com/premium-services-pricing\") _on Thursday September 12th where the Portfolio Manager will discuss potential entries for Microsoft and other AI-related stocks._\\n\\nCopilot for Microsoft 365 is priced at $30 a month. The productivity tool combines large language models (LLMs) with the data in Microsoft Graph and Microsoft 365 apps. The use cases of Copilot in Word include giving users the first draft while saving the time on sourcing, writing, and editing the content. Similarly, Copilot in PowerPoint will help to create presentations based on previous content. Copilot in Excel can analyze trends from the data, create charts, and assist in making informative decisions.\\n\\nIn the second full quarter of availability, the number of people using Copilot for Microsoft 365 nearly doubled QoQ. Copilot customers increased 60% QoQ and the number of customers with over 10,000 seats more than doubled QoQ.\\n\\nPower Platform, a collection of low-code development tools, saw MAUs rise 40% YoY to 48 million. 480,000 organizations have also used the AI-powered capabilities in Power Platform, up 45% QoQ. As stated, Power Platform will no longer be reported in Microsoft’s Azure segment\\n\\nCopilot on the Verge of Becoming Ubiquitous\\n-------------------------------------------\\n\\nWindows [operating system](https://en.wikipedia.org/wiki/Usage_share_of_operating_systems#:~:text=For%20desktop%20computers%20and%20laptops,share%20bringing%20it%20to%206.33%25. \"https://en.wikipedia.org/wiki/Usage_share_of_operating_systems#:~:text=For%20desktop%20computers%20and%20laptops,share%20bringing%20it%20to%206.33%25.\") is in 72.3% of desktop and laptops. When you consider that Windows has most recently launched on an Arm-based PC with Qualcomm, and will also launch next year with AMD and Nvidia, that market share is likely to grow rather than contract. Similar to the penetration rate of Office 365, Windows dominates PCs regardless if the OEM is Dell, HP, Lenovo, Acer, Asus, LG, Samsung or Microsoft Surface.\\n\\nCopilot+ for Windows is a sidebar that helps Windows users change settings, find files or summarize text across a desktop. Recall is a feature that helps a Windows user find documents, emails and web pages when a user simply states how they recall the file or digital asset. On some Surface laptops, there is a Copilot key, a digital pen enhanced with AI, sound and voice features enhanced with AI, and enhanced AI cameras.\\n\\nBoth Arm-based and x86 AI PCs are ramping this year with a CPU + GPU + NPU combo that will, in turn, proliferate Copilot+ for Windows, the AI assistant that requires a minimum of 40 TOPS (trillions operations per second). The neural processing units (NPUs) are powerful enough to deliver the official kickoff of AI edge computing as Copilot+ runs AI tasks locally on the AI PC and integrates them into various applications. This is an important moment for AI as prior to NPUs exceeding 40 TOPS, workloads were primarily sent to the cloud. By running AI assistants locally on the computer, suggestions will be faster and more accurate.\\n\\nQualcomm’s Snapdragon X Elite and Plus processors were released this last summer and offer the first GPU, CPU and NPUs that exceed 45 TOPS for AI tasks for Microsoft’s Copilot+ with a long battery life of over 12 hours. This week, Intel released its second-generation [Core Ultra chips](https://www.engadget.com/computing/laptops/intels-core-ultra-200v-chips-aim-for-ai-pc-dominance-160029852.html \"https://www.engadget.com/computing/laptops/intels-core-ultra-200v-chips-aim-for-ai-pc-dominance-160029852.html\") capable of reaching 48 TOPS that offers a long battery life of over 10 hours with the added benefit of running legacy x86 software without compatibility issues.\\n\\nCanalys is projecting AI PC shipments to rise at a 44% CAGR from 2024 to 2028, from an estimated 48 million PCs this year, before doubling to more than 100 million in 2025 and rising to over 205 million by 2028. Cumulative shipments of AI PCs are projected to surpass 600 million over the next four years. I’ve covered additional information on the [growth of the AI PC market](https://io-fund.com/artificial-intelligence/ai-platforms/ai-pc-stocks-emerging-2024-and-2025-story \"https://io-fund.com/artificial-intelligence/ai-platforms/ai-pc-stocks-emerging-2024-and-2025-story\") here.\\n\\nWithin this rapid growth, commercial adoption is forecast to be higher, at approximately 60% by 2028 versus 40% for consumer. This is due to the productivity gains that AI PCs can enable via powerful on-device AI as well as benefits to software developers and related roles. For example, Dell’s [XPS and Latitude 7455](https://seekingalpha.com/article/4696622-dell-technologies-inc-dell-q1-2025-earnings-call-transcript?source=content_type%3Areact%7Csection%3ATranscripts%7Csection_asset%3ATranscripts%7Cfirst_level_url%3Asymbol%7Cbutton%3ATitle%7Clock_status%3ANo%7Cline%3A1 \"https://seekingalpha.com/article/4696622-dell-technologies-inc-dell-q1-2025-earnings-call-transcript?source=content_type%3Areact%7Csection%3ATranscripts%7Csection_asset%3ATranscripts%7Cfirst_level_url%3Asymbol%7Cbutton%3ATitle%7Clock_status%3ANo%7Cline%3A1\"), equipped with the Snapdragon X Elite can support 13 billion-plus parameter models which means customers can run popular models like Llama 3 directly on their PCs. The fact that commercial adoption will be higher than consumer adoption is a boon for Microsoft Copilot and its suite of enterprise AI-enabled applications and platforms.\\n\\nMicrosoft’s Capex Spending Highest Among Cloud IaaS Providers\\n-------------------------------------------------------------\\n\\nMicrosoft is unabashedly spending tens of billions on AI infrastructure. In the last earnings report, the company announced strong QoQ increase to its capex for AI infrastructure. Capex was $14 billion last quarter, when it grew 22% sequentially. Microsoft’s capex increased 36% sequentially and 78% YoY to $19 billion in Q4.\\n\\nFull year 2024 capex was up 75% YoY to $55.7 billion, yet this quarter’s run rate suggests we could see up to $80 billion in capex in FY2025. Compare this to cloud IaaS leader AWS which reported H1 capex of $30.5 billion for a run rate in capex of just over $60 billion. Notably, management is guiding for a further YoY increase in capex in FY’25. _I have covered the importance of Big Tech’s capex for AI stocks in_ [_an analysis here_](https://io-fund.com/artificial-intelligence/ai-platforms/big-tech-q1-earnings-ai-capex-increases \"https://io-fund.com/artificial-intelligence/ai-platforms/big-tech-q1-earnings-ai-capex-increases\") _and also in a_ [_previous webinar_](https://io-fund.com/premium/q2-2024-earnings-kickoff-webinar-replay \"https://io-fund.com/premium/q2-2024-earnings-kickoff-webinar-replay\")_._\\n\\nBig Tech management teams have been getting an earful from Wall Street on when investors can expect to see a return. Private investors are busy calculating what level of revenue these companies must generate, estimating the return will need to be as [high as $600 billion](https://www.sequoiacap.com/article/ais-600b-question/ \"https://www.sequoiacap.com/article/ais-600b-question/\") to justify the revenue Nvidia has reported in its data center segment.\\n\\nTherein lies the disconnect, which is that Microsoft’s CFO, Amy Hood, states they are capacity constrained - implying the opposite problem, that the capex they’ve allocated is not nearly enough to serve Azure AI demand. Per the last earnings call: “We are – and we\\'ve talked about now for quite a few quarters, we are constrained on AI capacity. And because of that, actually, we\\'ve, to your point, have signed up with third parties to help us as we are behind with some leases on AI capacity. We\\'ve done that with partners who are happy to help us extend the Azure platform, to be able to serve this Azure AI demand. And you do see us investing quite a bit as we\\'ve talked about in builds so that we can get back in a more balanced place.”\\n\\nMicrosoft’s management team also pointed out about 40% of capex is spent on land, which is a long-term asset, and the rest is tied to a demand signal for inference. The CFO stated: “even in the capital spend, there is land and there is data center build, but 60-plus percent is the kit, that only will be bought for inferencing and everything else if there is demand signal.”\\n\\nTherefore, investors have an important decision to make. On one hand, investors could listen to the bearish undertones that high capex spending will not be returned to investors over time, or on the other hand, view high capex spending as a bullish signal of the overflow in demand that will sustain for many years to come, with AI consumption well exceeding the capex being spent to build the infrastructure.\\n\\nConclusion:\\n-----------\\n\\nIn 2022, I wrote an 8,300 word analysis entitled [Special Report: The New Kings of Tech](https://io-fund.com/premium/special-report-the-new-kings-of-tech \"https://io-fund.com/premium/special-report-the-new-kings-of-tech\") for our research members that tied together key points on how to position our readers for AI’s big moment - well in advance of Nvidia’s stock surge. Part of this analysis was to emphasize that our readers should shift their mindset from consumer-facing stocks to enterprise-facing stocks. This is not easy to do given the FAANGs are primarily consumer stocks, and it was consumer that drove historic gains for the market over the past decade.\\n\\nHere is what I wrote at the time:\\n\\n_“The adage is that history rhymes but it does not repeat. I believe a large addressable market is certainly required to produce the new wave of FAANGs – however, rather than consumer driving the gains, I believe it will be enterprises. Below, I discuss the enterprise-level market that will be four times larger than mobile and two stocks that will directly participate. Imagine participating in 4X the FAANGs by 2030. That’s what I believe will happen due to one key trend and I discuss exactly why this will be achieved below.”_ \\\\-I/O Fund’s Special Report: [The New Kings of Tech](https://io-fund.com/premium/special-report-the-new-kings-of-tech \"https://io-fund.com/premium/special-report-the-new-kings-of-tech\"), June 5th 2022\\n\\nNowhere will the AI enterprise advantage be more evident than with Microsoft’s steady ascent over the next ten years, which I believe will end with Microsoft firmly on top in nearly every category the company competes in. A few years ago, I predicted [Nvidia would Surpass Apple](https://www.forbes.com/sites/bethkindig/2021/08/27/heres-why-nvidia-will-surpass-apples-valuation-in-5-years/ \"https://www.forbes.com/sites/bethkindig/2021/08/27/heres-why-nvidia-will-surpass-apples-valuation-in-5-years/\") by 2026. At the time, Nvidia had a $550B market cap and the mere thought was inconceivable . To that point, I purposely did not say Nvidia would surpass Microsoft — as once the AI opportunity fully plays out —- this company will be a tough one to catch.\\n\\n_Microsoft has been a heavy spender on AI infrastructure, with positive read throughs for AI semiconductors we own and a handful that we are tracking to buy soon. Learn more about the I/O Fund’s holdings and consistent deep dive research on AI stocks, crypto and more_ [_here_](https://io-fund.com/premium-services-pricing \"https://io-fund.com/premium-services-pricing\")\\n\\n_The I/O Fund does not own Microsoft at time of writing but is carefully planning our next entry. Real-time trade alerts are sent to research members and entries are discussed weekly in our webinars._\\n\\nIf you would like notifications when my new articles are published, please hit the button below to \"Follow\" me.\\n\\nPlease note: The I/O Fund conducts research and draws conclusions for the Fund’s positions. We then share that information with our readers. This is not a guarantee of a stock’s performance. Please consult your personal financial advisor before buying any stock in the companies mentioned in this analysis.\\n'"
            ]
          },
          "execution_count": 16,
          "metadata": {},
          "output_type": "execute_result"
        }
      ],
      "source": [
        "final_data[9]"
      ]
    },
    {
      "cell_type": "code",
      "execution_count": null,
      "metadata": {
        "colab": {
          "base_uri": "https://localhost:8080/"
        },
        "id": "ssrke3kVnpqY",
        "outputId": "9b9bb8e6-49e1-4286-f168-d1571fed46b0"
      },
      "outputs": [
        {
          "data": {
            "text/plain": [
              "10"
            ]
          },
          "execution_count": 17,
          "metadata": {},
          "output_type": "execute_result"
        }
      ],
      "source": [
        "len(final_data)"
      ]
    },
    {
      "cell_type": "code",
      "execution_count": null,
      "metadata": {
        "id": "qTSAt8fMn4CB"
      },
      "outputs": [],
      "source": [
        "# if jina.ai output is less than 1500, then it is not a valid article\n",
        "\n",
        "final_data2=[i for i in final_data if len(i) > 1500]\n"
      ]
    },
    {
      "cell_type": "code",
      "execution_count": null,
      "metadata": {
        "colab": {
          "base_uri": "https://localhost:8080/",
          "height": 156
        },
        "id": "tb3kyZzXorZi",
        "outputId": "7a3d4ebd-193b-4f5b-9068-c3e7e5a4935c"
      },
      "outputs": [
        {
          "data": {
            "application/vnd.google.colaboratory.intrinsic+json": {
              "type": "string"
            },
            "text/plain": [
              "'Title: New Microsoft Azure NVIDIA GB200 Systems Shown\\n\\nURL Source: https://www.servethehome.com/new-microsoft-azure-nvidia-gb200-systems-shown/\\n\\nPublished Time: 2024-10-08T15:34:49+00:00\\n\\nMarkdown Content:\\nNew Microsoft Azure NVIDIA GB200 Systems Shown\\n===============  \\n\\n[Facebook](https://www.facebook.com/ServeTheHome/ \"Facebook\") [Instagram](https://www.instagram.com/servethehome/ \"Instagram\") [Linkedin](https://www.linkedin.com/company/servethehome-com/ \"Linkedin\") [RSS](http://feeds.feedburner.com/servethehome \"RSS\") [TikTok](https://www.tiktok.com/@servethehome \"TikTok\") [Twitter](https://twitter.com/servethehome \"Twitter\") [Youtube](https://www.youtube.com/ServeTheHomeVideo?sub_confirmation=1 \"Youtube\")\\n\\n*   [Forums](https://forums.servethehome.com/ \"ServeTheHome Fourms\")\\n*   [AI](https://www.servethehome.com/category/ai-deep-learning/)\\n*   [Server](https://www.servethehome.com/category/server-parts/ \"Server Parts | ServetheHome | Home Servers | Small Business Servers | Reviews\")\\n    *   [Server Systems](https://www.servethehome.com/category/server-parts/server-systems/)\\n    *   [Server CPUs](https://www.servethehome.com/category/server-parts/cpus/ \"Server CPUs | ServetheHome | Home Servers | Small Business Servers | Reviews\")\\n    *   [Accelerators](https://www.servethehome.com/category/server-parts/accelerators/)\\n    *   [Server Motherboards](https://www.servethehome.com/category/server-parts/motherboards/ \"Server Motherboards | ServetheHome | Home Servers | Small Business Servers | Reviews\")\\n    *   [Server Chassis](https://www.servethehome.com/category/server-parts/server-chassis/ \"Server Chassis | ServetheHome | Home Servers | Small Business Servers | Reviews\")\\n    *   [Other Components](https://www.servethehome.com/category/server-parts/other-components/ \"Non-drive computer components | ServetheHome | Home Servers | Small Business Servers | Reviews\")\\n*   [5G Edge](https://www.servethehome.com/category/edge/)\\n*   [Storage](https://www.servethehome.com/category/storage/ \"Storage | ServetheHome | Home and Small Business Servers | Reviews\")\\n*   [Networking](https://www.servethehome.com/category/networking/ \"Networking | ServetheHome | Home and Small Business Servers | Reviews\")\\n*   [Workstation](https://www.servethehome.com/category/workstations/ \"Workstation Hardware | ServetheHome | Home Servers | Small Business Servers | Reviews\")\\n    *   [Workstation Processors](https://www.servethehome.com/category/workstations/workstation-processors/ \"Workstation Processors | ServetheHome | Home Servers | Small Business Servers | Reviews\")\\n    *   [Workstation Motherboards](https://www.servethehome.com/category/workstations/workstation-motherboards/ \"Workstation Motherboards | ServetheHome | Home Servers | Small Business Servers | Reviews\")\\n*   [Software](https://www.servethehome.com/category/server-software/ \"Server Software | ServetheHome | Home Servers | Small Business Servers | Reviews\")\\n    *   [Operating Systems](https://www.servethehome.com/category/server-software/operating-systems/ \"Operating Systems | ServetheHome | Home Servers | Small Business Servers | Reviews\")\\n    *   [Server Applications](https://www.servethehome.com/category/server-software/server-applications/ \"Server Applications | ServetheHome | Home Servers | Small Business Servers | Reviews\")\\n    *   [Virtualization](https://www.servethehome.com/category/server-software/virtualization-other/ \"Virtualization | ServetheHome | Home Servers | Small Business Servers | Reviews\")\\n*   [Guides](https://www.servethehome.com/buyers-guides/ \"Buyer’s Guides | ServetheHome | Home and Small Business Servers | Reviews\")\\n    *   [Buyer’s Guides](https://www.servethehome.com/category/client-tips-and-tricks/buyers-guides/ \"Buyer Guides | ServetheHome | Home Servers | Small Business Servers | Reviews\")\\n    *   [Tips](https://www.servethehome.com/category/client-tips-and-tricks/ \"Client Tips | ServetheHome | Home Servers | Small Business Servers | Reviews\")\\n    *   [Top Hardware Components for TrueNAS / FreeNAS NAS Servers](https://www.servethehome.com/buyers-guides/top-hardware-components-for-truenas-freenas-nas-servers/)\\n    *   [Top Hardware Components for pfSense Appliances](https://www.servethehome.com/buyers-guides/top-hardware-components-pfsense-appliances/)\\n    *   [Top Hardware Components for napp-it and Solarish NAS Servers](https://www.servethehome.com/buyers-guides/top-hardware-components-napp-omnios-nas-servers/)\\n    *   [Top Picks for Windows Server 2016 Essentials Hardware](https://www.servethehome.com/buyers-guides/top-picks-windows-server-2016-essentials-hardware/)\\n    *   [The DIY WordPress Hosting Server Hardware Guide](https://www.servethehome.com/buyers-guides/the-diy-wordpress-hosting-server-hardware-guide/)\\n\\nSearch \\n\\n[Facebook](https://www.facebook.com/ServeTheHome/ \"Facebook\") [Instagram](https://www.instagram.com/servethehome/ \"Instagram\") [Linkedin](https://www.linkedin.com/company/servethehome-com/ \"Linkedin\") [RSS](http://feeds.feedburner.com/servethehome \"RSS\") [TikTok](https://www.tiktok.com/@servethehome \"TikTok\") [Twitter](https://twitter.com/servethehome \"Twitter\") [Youtube](https://www.youtube.com/ServeTheHomeVideo?sub_confirmation=1 \"Youtube\")\\n\\nWednesday, October 9, 2024\\n\\n*   [News](https://www.servethehome.com/category/news/)\\n*   [Storage Reliability](https://www.servethehome.com/raid-calculator/ \"RAID Calculator | ServetheHome | Home and Small Business Servers\")\\n    *   [Raid Calculator](https://www.servethehome.com/raid-calculator/ \"Raid Calculator | Raid Disk Space Utilization Calculator | ServeTheHome\")\\n    *   [RAID Reliability Calculator | Simple MTTDL Model](https://www.servethehome.com/raid-calculator/raid-reliability-calculator-simple-mttdl-model/ \"RAID Reliability Calculator | ServetheHome | Home Servers and Small Business Servers\")\\n*   [Contact](https://www.servethehome.com/contact/ \"ServetheHome | Contact | Home and Small Business Servers | Reviews\")\\n*   [About](https://www.servethehome.com/about/ \"About Servethehome | Home Servers | Small Business Servers | Reviews\")\\n    *   [Editorial and Copyright Policies](https://www.servethehome.com/about/editorial-copyright-policies/)\\n*   [AG Substack](https://axautikgroupllc.substack.com/)\\n*   [AG Reports](https://reports.axautikgroup.com/)\\n*   [Subscribe](https://eepurl.com/dryM09 \"Subscribe to the ServetheHome Newsletter\")\\n*   [Forums](https://forums.servethehome.com/ \"Forums | ServetheHome | Home and Small Business Servers | Reviews\")\\n\\n[](https://www.servethehome.com/new-microsoft-azure-nvidia-gb200-systems-shown/#)\\n\\nSign in\\n\\nWelcome! Log into your account\\n\\nyour username\\n\\nyour password\\n\\n[Forgot your password? Get help](https://www.servethehome.com/new-microsoft-azure-nvidia-gb200-systems-shown/#)\\n\\n[Privacy Policy](https://www.servethehome.com/about/data-processing-and-privacy-policy/)\\n\\nPassword recovery\\n\\nRecover your password\\n\\nyour email\\n\\nA password will be e-mailed to you.\\n\\n [![Image 1](https://www.servethehome.com/wp-content/uploads/2019/10/STH-Logo-96px.png) ServeTheHome](https://www.servethehome.com/)\\n\\nAdvertisement  \\n  \\n  \\n\\n[](https://www.servethehome.com/new-microsoft-azure-nvidia-gb200-systems-shown/#)\\n\\n [![Image 2](https://www.servethehome.com/wp-content/uploads/2019/10/STH-Logo-48px.png)](https://www.servethehome.com/)[![Image 3](https://www.servethehome.com/wp-content/uploads/2019/10/STH-Logo-96px.png)](https://www.servethehome.com/)\\n\\n*   [Forums](https://forums.servethehome.com/ \"ServeTheHome Fourms\")\\n*   [AI](https://www.servethehome.com/category/ai-deep-learning/)\\n*   [Server](https://www.servethehome.com/category/server-parts/ \"Server Parts | ServetheHome | Home Servers | Small Business Servers | Reviews\")\\n    *   [Server Systems](https://www.servethehome.com/category/server-parts/server-systems/)\\n    *   [Server CPUs](https://www.servethehome.com/category/server-parts/cpus/ \"Server CPUs | ServetheHome | Home Servers | Small Business Servers | Reviews\")\\n    *   [Accelerators](https://www.servethehome.com/category/server-parts/accelerators/)\\n    *   [Server Motherboards](https://www.servethehome.com/category/server-parts/motherboards/ \"Server Motherboards | ServetheHome | Home Servers | Small Business Servers | Reviews\")\\n    *   [Server Chassis](https://www.servethehome.com/category/server-parts/server-chassis/ \"Server Chassis | ServetheHome | Home Servers | Small Business Servers | Reviews\")\\n    *   [Other Components](https://www.servethehome.com/category/server-parts/other-components/ \"Non-drive computer components | ServetheHome | Home Servers | Small Business Servers | Reviews\")\\n*   [5G Edge](https://www.servethehome.com/category/edge/)\\n*   [Storage](https://www.servethehome.com/category/storage/ \"Storage | ServetheHome | Home and Small Business Servers | Reviews\")\\n*   [Networking](https://www.servethehome.com/category/networking/ \"Networking | ServetheHome | Home and Small Business Servers | Reviews\")\\n*   [Workstation](https://www.servethehome.com/category/workstations/ \"Workstation Hardware | ServetheHome | Home Servers | Small Business Servers | Reviews\")\\n    *   [Workstation Processors](https://www.servethehome.com/category/workstations/workstation-processors/ \"Workstation Processors | ServetheHome | Home Servers | Small Business Servers | Reviews\")\\n    *   [Workstation Motherboards](https://www.servethehome.com/category/workstations/workstation-motherboards/ \"Workstation Motherboards | ServetheHome | Home Servers | Small Business Servers | Reviews\")\\n*   [Software](https://www.servethehome.com/category/server-software/ \"Server Software | ServetheHome | Home Servers | Small Business Servers | Reviews\")\\n    *   [Operating Systems](https://www.servethehome.com/category/server-software/operating-systems/ \"Operating Systems | ServetheHome | Home Servers | Small Business Servers | Reviews\")\\n    *   [Server Applications](https://www.servethehome.com/category/server-software/server-applications/ \"Server Applications | ServetheHome | Home Servers | Small Business Servers | Reviews\")\\n    *   [Virtualization](https://www.servethehome.com/category/server-software/virtualization-other/ \"Virtualization | ServetheHome | Home Servers | Small Business Servers | Reviews\")\\n*   [Guides](https://www.servethehome.com/buyers-guides/ \"Buyer’s Guides | ServetheHome | Home and Small Business Servers | Reviews\")\\n    *   [Buyer’s Guides](https://www.servethehome.com/category/client-tips-and-tricks/buyers-guides/ \"Buyer Guides | ServetheHome | Home Servers | Small Business Servers | Reviews\")\\n    *   [Tips](https://www.servethehome.com/category/client-tips-and-tricks/ \"Client Tips | ServetheHome | Home Servers | Small Business Servers | Reviews\")\\n    *   [Top Hardware Components for TrueNAS / FreeNAS NAS Servers](https://www.servethehome.com/buyers-guides/top-hardware-components-for-truenas-freenas-nas-servers/)\\n    *   [Top Hardware Components for pfSense Appliances](https://www.servethehome.com/buyers-guides/top-hardware-components-pfsense-appliances/)\\n    *   [Top Hardware Components for napp-it and Solarish NAS Servers](https://www.servethehome.com/buyers-guides/top-hardware-components-napp-omnios-nas-servers/)\\n    *   [Top Picks for Windows Server 2016 Essentials Hardware](https://www.servethehome.com/buyers-guides/top-picks-windows-server-2016-essentials-hardware/)\\n    *   [The DIY WordPress Hosting Server Hardware Guide](https://www.servethehome.com/buyers-guides/the-diy-wordpress-hosting-server-hardware-guide/)\\n\\n[](https://www.servethehome.com/new-microsoft-azure-nvidia-gb200-systems-shown/#)[](https://www.servethehome.com/new-microsoft-azure-nvidia-gb200-systems-shown/#)\\n\\n[Home](https://www.servethehome.com/) [AI](https://www.servethehome.com/category/ai-deep-learning/ \"View all posts in AI\") New Microsoft Azure NVIDIA GB200 Systems Shown\\n\\n*   [AI](https://www.servethehome.com/category/ai-deep-learning/)\\n*   [Server](https://www.servethehome.com/category/server-parts/)\\n*   [Server Systems](https://www.servethehome.com/category/server-parts/server-systems/)\\n\\nNew Microsoft Azure NVIDIA GB200 Systems Shown\\n==============================================\\n\\nBy\\n\\n[Cliff Robinson](https://www.servethehome.com/author/cliffrobinson/)\\n\\n\\\\-\\n\\nOctober 8, 2024\\n\\n[1](https://www.servethehome.com/new-microsoft-azure-nvidia-gb200-systems-shown/#comments)\\n\\n[Facebook](https://www.facebook.com/sharer.php?u=https%3A%2F%2Fwww.servethehome.com%2Fnew-microsoft-azure-nvidia-gb200-systems-shown%2F \"Facebook\")[Twitter](https://twitter.com/intent/tweet?text=New+Microsoft+Azure+NVIDIA+GB200+Systems+Shown&url=https%3A%2F%2Fwww.servethehome.com%2Fnew-microsoft-azure-nvidia-gb200-systems-shown%2F&via=ServeTheHome \"Twitter\")[Pinterest](https://pinterest.com/pin/create/button/?url=https://www.servethehome.com/new-microsoft-azure-nvidia-gb200-systems-shown/&media=https://www.servethehome.com/wp-content/uploads/2024/10/Microsoft-Azure-NVIDIA-GB200-with-In-rack-CDU.jpeg&description=MicrosoftAzureNVIDIAGB200systemsarehuge,withtwothirdsoftheaislespaceshownbeingdedicatedtocoolingtheNVIDIArack \"Pinterest\")[Linkedin](https://www.linkedin.com/shareArticle?mini=true&url=https://www.servethehome.com/new-microsoft-azure-nvidia-gb200-systems-shown/&title=New+Microsoft+Azure+NVIDIA+GB200+Systems+Shown \"Linkedin\")[Email](mailto:?subject=NewMicrosoftAzureNVIDIAGB200SystemsShown&body=https://www.servethehome.com/new-microsoft-azure-nvidia-gb200-systems-shown/ \"Email\")[Print](https://www.servethehome.com/new-microsoft-azure-nvidia-gb200-systems-shown/# \"Print\")[Copy URL](https://www.servethehome.com/new-microsoft-azure-nvidia-gb200-systems-shown/ \"Copy URL\")\\n\\n[](https://www.servethehome.com/new-microsoft-azure-nvidia-gb200-systems-shown/# \"More\")\\n\\n[![Image 4: Microsoft Azure NVIDIA GB200 With In Rack CDU](https://www.servethehome.com/wp-content/uploads/2024/10/Microsoft-Azure-NVIDIA-GB200-with-In-rack-CDU-696x790.jpeg)](https://www.servethehome.com/wp-content/uploads/2024/10/Microsoft-Azure-NVIDIA-GB200-with-In-rack-CDU.jpeg)\\n\\nMicrosoft Azure NVIDIA GB200 With In Rack CDU\\n\\nToday, Microsoft\\xa0showcased its newest NVIDIA GB200 systems through the official\\xa0[Microsoft Azure X account.](https://x.com/Azure/status/1843637745186484406/photo/1) The company also showcased its next-gen NVIDIA training and inferencing platform, which is key because it also shows the giant cooling solution needed for this rack. By giant the coolant distribution unit, or CDU, takes up twice as much aisle space as the GB200 compute rack.\\n\\nNew Microsoft Azure NVIDIA GB200 Systems Shown\\n----------------------------------------------\\n\\nHere is the post of the Microsoft Azure NVIDIA GB200 system on X where it says it is the first NVIDIA Blackwell cloud.\\n\\n> Microsoft Azure is the 1st cloud running [@nvidia](https://twitter.com/nvidia?ref_src=twsrc%5Etfw)‘s Blackwell system with GB200-powered AI servers. We’re optimizing at every layer to power the world’s most advanced AI models, leveraging Infiniband networking and innovative closed loop liquid cooling. Learn more at MS Ignite. [pic.twitter.com/K1dKbwS2Ew](https://t.co/K1dKbwS2Ew)\\n> \\n> — Microsoft Azure (@Azure) [October 8, 2024](https://twitter.com/Azure/status/1843637745186484406?ref_src=twsrc%5Etfw)\\n\\nTaking a quick look at the rack, something is immediately obvious, the cooler dwarfs the compute rack, even though the compute rack only shows 8 GB200 trays installed.\\n\\n[![Image 5: Microsoft Azure NVIDIA GB200 With In Rack CDU](https://www.servethehome.com/wp-content/uploads/2024/10/Microsoft-Azure-NVIDIA-GB200-with-In-rack-CDU-800x908.jpeg)](https://www.servethehome.com/new-microsoft-azure-nvidia-gb200-systems-shown/microsoft-azure-nvidia-gb200-with-in-rack-cdu/)\\n'"
            ]
          },
          "execution_count": 19,
          "metadata": {},
          "output_type": "execute_result"
        }
      ],
      "source": [
        "final_data2[0]"
      ]
    },
    {
      "cell_type": "code",
      "execution_count": null,
      "metadata": {
        "colab": {
          "base_uri": "https://localhost:8080/"
        },
        "id": "uZJ1crk7oJjM",
        "outputId": "6e613a34-42e3-4f84-b2c6-5ec1920a53cb"
      },
      "outputs": [
        {
          "data": {
            "text/plain": [
              "10"
            ]
          },
          "execution_count": 20,
          "metadata": {},
          "output_type": "execute_result"
        }
      ],
      "source": [
        "len(final_data2)"
      ]
    },
    {
      "cell_type": "code",
      "execution_count": null,
      "metadata": {
        "colab": {
          "base_uri": "https://localhost:8080/"
        },
        "id": "qvyrxGkLpglb",
        "outputId": "4b58a212-36a1-4b2b-ea4a-b7e4112d9fc3"
      },
      "outputs": [
        {
          "name": "stdout",
          "output_type": "stream",
          "text": [
            "Collecting duckduckgo_search\n",
            "  Downloading duckduckgo_search-6.3.0-py3-none-any.whl.metadata (25 kB)\n",
            "Requirement already satisfied: click>=8.1.7 in /usr/local/lib/python3.10/dist-packages (from duckduckgo_search) (8.1.7)\n",
            "Collecting primp>=0.6.3 (from duckduckgo_search)\n",
            "  Downloading primp-0.6.3-cp38-abi3-manylinux_2_17_x86_64.manylinux2014_x86_64.whl.metadata (10 kB)\n",
            "Downloading duckduckgo_search-6.3.0-py3-none-any.whl (27 kB)\n",
            "Downloading primp-0.6.3-cp38-abi3-manylinux_2_17_x86_64.manylinux2014_x86_64.whl (2.8 MB)\n",
            "\u001b[2K   \u001b[90m━━━━━━━━━━━━━━━━━━━━━━━━━━━━━━━━━━━━━━━━\u001b[0m \u001b[32m2.8/2.8 MB\u001b[0m \u001b[31m33.0 MB/s\u001b[0m eta \u001b[36m0:00:00\u001b[0m\n",
            "\u001b[?25hInstalling collected packages: primp, duckduckgo_search\n",
            "Successfully installed duckduckgo_search-6.3.0 primp-0.6.3\n"
          ]
        }
      ],
      "source": [
        "!pip install duckduckgo_search"
      ]
    },
    {
      "cell_type": "code",
      "execution_count": null,
      "metadata": {
        "id": "K0S4jQlOpvB-"
      },
      "outputs": [],
      "source": [
        "from duckduckgo_search import DDGS"
      ]
    },
    {
      "cell_type": "code",
      "execution_count": null,
      "metadata": {
        "id": "MU7ikwJbqYT-"
      },
      "outputs": [],
      "source": [
        "# loop the final_data2 with ddgs.chat and save it ina a string\n",
        "ans=''\n",
        "for i in final_data2:\n",
        "    i= \"summarize the article in less than 300 words and make it comaptable for analyzing the article. Dont leave the important points in the article /n\"+i[0:6000]\n",
        "\n",
        "    ans= ans + \"\\n\\n\" + DDGS().chat(i, model='claude-3-haiku')"
      ]
    },
    {
      "cell_type": "code",
      "execution_count": null,
      "metadata": {
        "colab": {
          "base_uri": "https://localhost:8080/"
        },
        "id": "FPUP04zVr0aJ",
        "outputId": "94718624-5312-4cc6-e37f-43acdc281a50"
      },
      "outputs": [
        {
          "data": {
            "text/plain": [
              "17237"
            ]
          },
          "execution_count": 24,
          "metadata": {},
          "output_type": "execute_result"
        }
      ],
      "source": [
        "len(ans)"
      ]
    },
    {
      "cell_type": "code",
      "execution_count": null,
      "metadata": {
        "id": "-DbMZb-XmsOV"
      },
      "outputs": [],
      "source": [
        "Product_info = DDGS().chat(\"Explain all this article in a way that it can be helped in analysis of the product with the competitors\\n\\n\" + ans, model='claude-3-haiku')"
      ]
    },
    {
      "cell_type": "code",
      "execution_count": null,
      "metadata": {
        "colab": {
          "base_uri": "https://localhost:8080/",
          "height": 261
        },
        "id": "hsI4yyA1rs98",
        "outputId": "e0a57be6-b7f7-4877-992e-e8d9e218e4a3"
      },
      "outputs": [
        {
          "data": {
            "application/vnd.google.colaboratory.intrinsic+json": {
              "type": "string"
            },
            "text/plain": [
              "\"Here is a summary of the key points from the article that could be helpful in analyzing the product and its competitors:\\n\\n1. Microsoft has unveiled new Azure-powered systems featuring NVIDIA's latest GPU accelerator, the GB200. These systems are designed to provide high-performance computing capabilities for AI, machine learning, and other data-intensive workloads.\\n\\n2. The GB200 GPU offers significant performance improvements over previous generations, featuring 80GB of HBM3 memory and up to 3TB/s of memory bandwidth. This makes it well-suited for large-scale AI training, data analytics, and scientific computing tasks.\\n\\n3. The new Azure GB200 systems will be available in Microsoft's data centers, allowing customers to access the powerful GPU resources on-demand through the cloud. Key features include support for up to 8 GB200 GPUs per server, high-speed NVLink interconnects, and integration with Azure's AI and HPC services.\\n\\n4. The availability of these new Azure GB200 systems is expected to further strengthen Microsoft's position in the growing market for cloud-based AI and HPC services, as it aims to attract customers with demanding computational needs.\\n\\n5. This demonstrates Microsoft's continued investment in building out its high-end cloud computing capabilities to meet the evolving needs of its enterprise and research customers, potentially giving it a competitive advantage over other cloud providers.\\n\\nWhen analyzing the product and its competitors, these points could be useful in understanding Microsoft's strategy, the technical capabilities of the new Azure systems, and how they position the company in the cloud-based AI and HPC services market. The performance and features of the GB200 GPU, as well as the integration with Azure's services, can be compared to offerings from other cloud providers and GPU manufacturers.\""
            ]
          },
          "execution_count": 26,
          "metadata": {},
          "output_type": "execute_result"
        }
      ],
      "source": [
        "Product_info"
      ]
    },
    {
      "cell_type": "markdown",
      "metadata": {
        "id": "BH2JpRp5QImM"
      },
      "source": [
        "# Main"
      ]
    },
    {
      "cell_type": "code",
      "execution_count": 1,
      "metadata": {
        "colab": {
          "base_uri": "https://localhost:8080/"
        },
        "id": "aQxmAT9Aa01z",
        "outputId": "1ea8598b-768c-4253-a822-574025216f1c"
      },
      "outputs": [
        {
          "name": "stdout",
          "output_type": "stream",
          "text": [
            "Collecting duckduckgo_search\n",
            "  Downloading duckduckgo_search-6.3.0-py3-none-any.whl.metadata (25 kB)\n",
            "Requirement already satisfied: click>=8.1.7 in /usr/local/lib/python3.10/dist-packages (from duckduckgo_search) (8.1.7)\n",
            "Collecting primp>=0.6.3 (from duckduckgo_search)\n",
            "  Downloading primp-0.6.3-cp38-abi3-manylinux_2_17_x86_64.manylinux2014_x86_64.whl.metadata (10 kB)\n",
            "Downloading duckduckgo_search-6.3.0-py3-none-any.whl (27 kB)\n",
            "Downloading primp-0.6.3-cp38-abi3-manylinux_2_17_x86_64.manylinux2014_x86_64.whl (2.8 MB)\n",
            "\u001b[2K   \u001b[90m━━━━━━━━━━━━━━━━━━━━━━━━━━━━━━━━━━━━━━━━\u001b[0m \u001b[32m2.8/2.8 MB\u001b[0m \u001b[31m17.7 MB/s\u001b[0m eta \u001b[36m0:00:00\u001b[0m\n",
            "\u001b[?25hInstalling collected packages: primp, duckduckgo_search\n",
            "Successfully installed duckduckgo_search-6.3.0 primp-0.6.3\n"
          ]
        }
      ],
      "source": [
        "!pip install duckduckgo_search"
      ]
    },
    {
      "cell_type": "code",
      "execution_count": 2,
      "metadata": {
        "id": "LV6bAuCsQltd"
      },
      "outputs": [],
      "source": [
        "import ast\n",
        "import requests\n",
        "import json\n",
        "from duckduckgo_search import DDGS"
      ]
    },
    {
      "cell_type": "code",
      "execution_count": 3,
      "metadata": {
        "id": "3biCR8jGRK4b"
      },
      "outputs": [],
      "source": [
        "def jina(url):\n",
        "    base_url= \"https://r.jina.ai//\"\n",
        "    url=base_url+url\n",
        "    response=requests.get(url)\n",
        "    return response.text"
      ]
    },
    {
      "cell_type": "code",
      "execution_count": 4,
      "metadata": {
        "id": "U4xuJ8wTQQO5"
      },
      "outputs": [],
      "source": [
        "#Know about product\n",
        "def serper_prod(company):\n",
        "  url = \"https://google.serper.dev/news\"\n",
        "\n",
        "  payload = json.dumps({\n",
        "    \"q\": f\"{company} info\",\n",
        "  })\n",
        "  headers = {\n",
        "    'X-API-KEY': '7d6a39f71072f99cd421dbdd6cfebc73e2a66a07',\n",
        "    'Content-Type': 'application/json'\n",
        "  }\n",
        "\n",
        "  response = requests.request(\"POST\", url, headers=headers, data=payload)\n",
        "\n",
        "  return json.loads(response.text)"
      ]
    },
    {
      "cell_type": "code",
      "execution_count": 5,
      "metadata": {
        "id": "C9bqx44dwNb2"
      },
      "outputs": [],
      "source": [
        "#Know about the competiton\\competitiors\n",
        "def serper_compi(company):\n",
        "  url = \"https://google.serper.dev/search\"\n",
        "\n",
        "  payload = json.dumps({\n",
        "    \"q\": f\"{company} competitors.\",\n",
        "  })\n",
        "  headers = {\n",
        "    'X-API-KEY': '7d6a39f71072f99cd421dbdd6cfebc73e2a66a07',\n",
        "    'Content-Type': 'application/json'\n",
        "  }\n",
        "\n",
        "  response = requests.request(\"POST\", url, headers=headers, data=payload)\n",
        "\n",
        "  return json.loads(response.text)"
      ]
    },
    {
      "cell_type": "code",
      "execution_count": 6,
      "metadata": {
        "id": "o4jotCbX_Qm5"
      },
      "outputs": [],
      "source": [
        "def AI_Search_compi(text):\n",
        "  ans = DDGS().chat(\"Summarize the text and dont remove the important terms about products or applications which should be helped for planning market for a company \" + text, model='claude-3-haiku')\n",
        "  return ans"
      ]
    },
    {
      "cell_type": "code",
      "execution_count": 7,
      "metadata": {
        "id": "Wo6naIgpUMcV"
      },
      "outputs": [],
      "source": [
        "def AI_Search_compi(text):\n",
        "  ans = DDGS().chat(\"Summarize the text and dont remove the important terms about products or applications which should be helped for planning market for a company \" + text, model='claude-3-haiku')\n",
        "  return ans"
      ]
    },
    {
      "cell_type": "code",
      "execution_count": 8,
      "metadata": {
        "id": "c0if2WZdUfCs"
      },
      "outputs": [],
      "source": [
        "def AI_Product_Analysis(text):\n",
        "    ans = DDGS().chat(\"Analyze the products mentioned in the following news article in 400 words or fewer. Focus on their features, market relevance, and potential impact for a company's market planning: \" + text, model='claude-3-haiku')\n",
        "    return ans"
      ]
    },
    {
      "cell_type": "code",
      "execution_count": 9,
      "metadata": {
        "id": "6j58Jm8CVTmb"
      },
      "outputs": [],
      "source": [
        "def AI_Product_Summary(news_summaries):\n",
        "    # combined_summaries = \" \".join(news_summaries)\n",
        "    ans = DDGS().chat(\"Create a comprehensive summary of the product based on the following summaries of 10 or fewer news articles. Ensure no important product details are lost: \" + news_summaries, model='claude-3-haiku')\n",
        "    return ans"
      ]
    },
    {
      "cell_type": "code",
      "execution_count": 17,
      "metadata": {
        "id": "_2iOV2rJw2xa"
      },
      "outputs": [],
      "source": [
        "def AI_Search_extract_cmpy(text):\n",
        "#   prompt = \"\"\"You will be given a dynamic text that summarizes key products, applications, and comparisons from articles about VR headsets. Your task is to extract relevant product names from the text and generate a list of search queries suitable for a search API.Don't give more than five names in the list.\n",
        "\n",
        "# Output Format:\n",
        "\n",
        "# The output should be a list in the following format:\n",
        "# ['company - product name', 'company - product name', 'product name', ...]\n",
        "# If the company name is unknown, only include the product name without the company name.\n",
        "# Do not include any introductory or explanatory text in the output; provide only the list in brackets.\n",
        "# Input Format:\n",
        "\n",
        "# The input will be a summary text containing product names, features, and key points.\"\"\"\n",
        "  prompt = \"\"\"You will be given a dynamic text that summarizes key products, applications, and comparisons from articles about VR headsets. Your task is to extract relevant product names from the text and generate a list of search queries suitable for a search API. Don't give more than five names in the list.\n",
        "\n",
        "  Output Format:\n",
        "\n",
        "Provide only the list in the following format, without any explanatory or introductory text:\n",
        "['company - product name', 'company - product name', 'product name', ...]\n",
        "\n",
        "If the company name is unknown, only include the product name without the company name.\"\"\"\n",
        "\n",
        "  ans = DDGS().chat(prompt+\"the text is \\n\" + text, model='claude-3-haiku')\n",
        "  return ast.literal_eval(ans)"
      ]
    },
    {
      "cell_type": "code",
      "execution_count": 10,
      "metadata": {
        "id": "Fbmop1p9bsOP"
      },
      "outputs": [],
      "source": [
        "def AI_Company_Summary(news_summaries):\n",
        "    ans = DDGS().chat(\"Analyze the following combined summaries about multiple products. Provide a detailed summary of each product individually, clearly outlining their features, market relevance, and competitive advantages, so this information can be used to analyze competitor products: \" + news_summaries, model='claude-3-haiku')\n",
        "    return ans\n"
      ]
    },
    {
      "cell_type": "code",
      "execution_count": 34,
      "metadata": {
        "id": "ZQ4EosaY0nfX"
      },
      "outputs": [],
      "source": [
        "def AI_Analysis(Product_analysis,Compitetiors_analysis):\n",
        "    ans = DDGS().chat(\n",
        "    \"Analyze the following competitor and product details. Provide a thorough technical analysis of each product, focusing on its market standing, technical strengths, and areas for improvement. Offer actionable insights on how the product can be enhanced to increase sales and profitability. Compare the product with competitors, identifying gaps and opportunities for differentiation and market leadership: \" + \"Competitors: \\n \"\n",
        "    + Compitetiors_analysis + \"Product Information: \\n \" + Product_analysis,\n",
        "    model='claude-3-haiku'\n",
        ")\n",
        "    return ans"
      ]
    },
    {
      "cell_type": "code",
      "execution_count": null,
      "metadata": {
        "id": "GgOdFHv6_Yy7"
      },
      "outputs": [],
      "source": [
        "# import ast\n",
        "# def cmpys(lst):\n",
        "#    return ast.literal_eval(lst)"
      ]
    },
    {
      "cell_type": "code",
      "execution_count": 12,
      "metadata": {
        "id": "BQyU0lnN_oaW"
      },
      "outputs": [],
      "source": [
        "\"\"\" This takes input of company and return list of the compi\"\"\"\n",
        "def compi_main(name):\n",
        "  ret = serper_compi(name)\n",
        "  compi_urls = [i['link'] for i in ret['organic']]\n",
        "  text = [jina(url) for url in compi_urls]\n",
        "  ans = ' '.join(AI_Search_compi(i[:8000]) for i in text if len(i)>1500)\n",
        "  lst = AI_Search_extract_cmpy(ans)\n",
        "  return lst"
      ]
    },
    {
      "cell_type": "code",
      "execution_count": 16,
      "metadata": {
        "id": "RTCkUzNxwQO2"
      },
      "outputs": [],
      "source": [
        "\"\"\"\" This is for knowing about the Product\"\"\"\n",
        "def know_prod(name):\n",
        "  ser = serper_prod(name)\n",
        "  compi_urls = [i['link'] for i in ser['news']]\n",
        "  text = [jina(url) for url in compi_urls]\n",
        "  ans = ' '.join(AI_Product_Analysis(i[:8000]) for i in text if len(i)>1500)\n",
        "  return ans"
      ]
    },
    {
      "cell_type": "code",
      "execution_count": 14,
      "metadata": {
        "id": "Ew1AgLk4SrtQ"
      },
      "outputs": [],
      "source": [
        "\"\"\" This takes input of company and return summary of the company\"\"\"\n",
        "def analysis_name(text):\n",
        "  compi_urls = [i['link'] for i in text['news']][0:4]\n",
        "  print(compi_urls)\n",
        "  text = [jina(url) for url in compi_urls]\n",
        "  ans = ' '.join(AI_Product_Analysis(i[:8000]) for i in text if len(i)>1500)\n",
        "  summ = AI_Product_Summary(ans[:21000])\n",
        "  return summ\n"
      ]
    },
    {
      "cell_type": "code",
      "execution_count": 15,
      "metadata": {
        "id": "qp0esbVuc3Eu"
      },
      "outputs": [],
      "source": [
        "\"\"\" This takes input of company list and return summary of the company\"\"\"\n",
        "def summary_name(otp):\n",
        "  names=[]\n",
        "  title=otp\n",
        "  for idx, i in enumerate(otp):\n",
        "      results = serper_prod(i)  # Call your function with the company name\n",
        "      globals()[f'compi_{chr(65 + idx)}'] = results\n",
        "      # print(i)\n",
        "      # print(f'compi_{chr(65 + idx)}')\n",
        "      names.append(f'compi_{chr(65 + idx)}')\n",
        "  text_data = [globals()[name] for name in names]\n",
        "  summ_data = [analysis_name(i) for i in text_data]\n",
        "  cmpy_summ = AI_Company_Summary(\" \".join(summ_data))\n",
        "  return cmpy_summ\n"
      ]
    },
    {
      "cell_type": "code",
      "execution_count": 42,
      "metadata": {
        "id": "OplobdOcz5vC"
      },
      "outputs": [],
      "source": [
        "\"\"\" This takes inputs of compi summary and product summary and return summary of the company\"\"\"\n",
        "def analysis_prod(prod_summ,cmpy_summ):\n",
        "  return AI_Analysis(prod_summ,cmpy_summ)\n"
      ]
    },
    {
      "cell_type": "code",
      "execution_count": 43,
      "metadata": {
        "colab": {
          "base_uri": "https://localhost:8080/",
          "height": 156
        },
        "id": "guewj73p4m-P",
        "outputId": "fd62d4bb-3f0d-46fc-abc5-60b186ecc58e"
      },
      "outputs": [
        {
          "data": {
            "application/vnd.google.colaboratory.intrinsic+json": {
              "type": "string"
            },
            "text/plain": [
              "\"Here is a technical analysis of the Boat Nivana product:\\n\\nMarket Standing:\\nThe Boat Nivana is a mid-range wireless headphone product from the popular Indian consumer electronics brand Boat. Boat has established itself as a leading player in the affordable audio accessories market in India, known for its stylish designs and competitive pricing. The Nivana sits in the company's lineup as a more premium offering compared to their entry-level models.\\n\\nTechnical Strengths:\\n- Bluetooth 5.0 connectivity for stable wireless performance\\n- 40mm dynamic drivers that deliver decent audio quality with punchy bass\\n- Lightweight and comfortable over-ear design with adjustable padded headband\\n- Up to 20 hours of battery life on a single charge\\n- Integrated microphone and controls for hands-free calling and music playback\\n\\nAreas for Improvement:\\n- Audio quality, while acceptable, lacks the clarity and soundstage of more premium headphones in this price range\\n- Noise cancellation is basic and not as effective as more advanced ANC systems\\n- Build quality, while decent, does not feel as premium as some competitors\\n- Limited codec support, only supporting standard SBC and AAC\\n\\nComparison to Competitors:\\nCompared to other popular options in the ₹2,000 - ₹3,000 price bracket, the Boat Nivana holds its own but faces stiff competition:\\n\\nBoult Audio ProBass Curve: Offers better audio quality and more advanced Bluetooth codec support, but has a less comfortable on-ear design.\\nBose QuietComfort Noise Cancelling Headphones 35 II: Significantly more expensive but provides vastly superior noise cancellation and audio fidelity.\\nTruke Buds BTG1: Comparable in price and features, but has a more compact true wireless earbud form factor instead of over-ear.\\n\\nOpportunities for Differentiation:\\nTo differentiate the Nivana and increase its competitiveness, Boat could consider the following enhancements:\\n\\n- Upgrade to higher-quality drivers and tuning for improved audio clarity and soundstage\\n- Implement more advanced active noise cancellation technology\\n- Explore the use of premium materials in the construction for a more premium feel\\n- Add support for higher-quality Bluetooth codecs like aptX or LDAC\\n- Integrate smart features like touch controls, voice assistant support, or companion app functionality\\n\\nBy addressing these areas, Boat can position the Nivana as a more compelling option in the mid-range wireless headphone segment and potentially capture a larger share of the market.\""
            ]
          },
          "execution_count": 43,
          "metadata": {},
          "output_type": "execute_result"
        }
      ],
      "source": [
        "analysis_prod(\"Boat NIvana\", \"Boat,Boult,Bose,TRUTU\")"
      ]
    },
    {
      "cell_type": "code",
      "execution_count": 19,
      "metadata": {
        "id": "eZVoKg1jxO3O"
      },
      "outputs": [],
      "source": [
        "import time"
      ]
    },
    {
      "cell_type": "code",
      "execution_count": 44,
      "metadata": {
        "id": "iBgcT1yMwFcq"
      },
      "outputs": [],
      "source": [
        "def main(name):\n",
        "  start_time = time.time()\n",
        "  prod_info = know_prod(name)\n",
        "  end_prd_anal = time.time()\n",
        "  print(f\"Time taken to analyze the product: {end_prd_anal - start_time} seconds\")\n",
        "  print('*****************************************************************')\n",
        "  print(prod_info)\n",
        "  otp = compi_main(name)\n",
        "  end_compi = time.time()\n",
        "  print(f\"Time taken to analyze the competitors: {end_compi - end_prd_anal} seconds\")\n",
        "  print('*****************************************************************')\n",
        "  print(otp)\n",
        "  summpop = summary_name(otp)\n",
        "  end_time_summary = time.time()\n",
        "  print(f\"Time taken to analyze the summary: {end_time_summary - end_compi} seconds\")\n",
        "  print('*****************************************************************')\n",
        "  print(summpop)\n",
        "  print('*****************************************************************')\n",
        "  analysis_total = analysis_prod(prod_info,summpop)\n",
        "  end_time = time.time()\n",
        "  print(f\"Analysis time taken: {end_time - end_time_summary} seconds\")\n",
        "  print('*****************************************************************')\n",
        "  print(f\"Total time taken: {end_time - start_time} seconds\")\n",
        "  print('*****************************************************************')\n",
        "  # print(analysis(prod_info,summpop))\n",
        "\n",
        "  return start_time, end_prd_anal, end_compi, end_time_summary , end_time, analysis_total"
      ]
    },
    {
      "cell_type": "code",
      "execution_count": 45,
      "metadata": {
        "colab": {
          "base_uri": "https://localhost:8080/",
          "height": 1000
        },
        "id": "UlBPyaPsxuHX",
        "outputId": "ea217f73-3470-4eac-8367-1ae4acb52204"
      },
      "outputs": [
        {
          "name": "stdout",
          "output_type": "stream",
          "text": [
            "Time taken to analyze the product: 65.31540155410767 seconds\n",
            "*****************************************************************\n",
            "Here is a 400-word analysis of the products mentioned in the news article on boAt headphones and earbuds:\n",
            "\n",
            "The article highlights boAt as a leading brand in the audio accessories market, offering a wide range of wireless and wired headphone and earbud options to cater to diverse consumer needs. As a prominent Indian brand, boAt has gained significant market share by providing high-quality products at affordable prices.\n",
            "\n",
            "One of the key strengths of boAt's product lineup is the focus on wireless solutions. With the growing consumer preference for wireless freedom, boAt's range of Bluetooth headphones and earbuds has become increasingly popular. These wireless products offer features such as long battery life, seamless connectivity, and convenient controls, making them appealing to music enthusiasts and casual listeners alike.\n",
            "\n",
            "In terms of product features, the article suggests that boAt caters to various consumer preferences. For bass-heavy music lovers, boAt offers headphones and earbuds with powerful, booming sound. For those who prioritize call quality, boAt's products are equipped with advanced microphones and noise-cancellation technologies to ensure clear communication. The diverse product portfolio allows boAt to target a wide range of customer segments, from fitness enthusiasts to professional audio enthusiasts.\n",
            "\n",
            "The comprehensive product guide provided in the article is likely to be valuable for consumers who are looking to purchase boAt headphones or earbuds. By highlighting the key features and target audience for different models, the article helps readers make informed purchasing decisions based on their specific needs and preferences.\n",
            "\n",
            "From a market planning perspective, boAt's strong brand recognition, diverse product lineup, and focus on emerging trends like wireless audio suggest that the company is well-positioned to capitalize on the growing demand for high-quality, affordable audio accessories. The article's positive tone and detailed product information could also contribute to increased brand awareness and customer trust, potentially driving sales and market share growth for boAt.\n",
            "\n",
            "Overall, the news article provides a thorough analysis of boAt's headphone and earbud offerings, showcasing the brand's ability to cater to the evolving needs of music lovers and audio enthusiasts in the Indian market. This information could be valuable for companies looking to understand the competitive landscape and market trends in the audio accessories industry. Here is a 400-word analysis of the boAt Nirvana Zenith earbuds mentioned in the news article:\n",
            "\n",
            "The boAt Nirvana Zenith earbuds represent an interesting entry in the budget earbud market, offering a range of advanced features typically found in more premium models. According to the review, the key highlights of these earbuds include:\n",
            "\n",
            "Features: The Nirvana Zenith earbuds pack in a number of premium features, such as active noise cancellation (ANC), ambient sound mode, and touch controls. The ANC functionality is said to effectively block out external noise, while the ambient sound mode allows users to hear their surroundings. The touch controls provide convenient access to functions like playback, volume adjustment, and voice assistant activation.\n",
            "\n",
            "Sound Quality: The earbuds are reported to deliver impressive sound quality for their price range, with a balanced and immersive audio experience. The 10mm dynamic drivers are claimed to provide rich, detailed sound with good bass response.\n",
            "\n",
            "Battery Life: The Nirvana Zenith offers a respectable battery life of up to 6 hours on a single charge, with an additional 24 hours of playback time provided by the charging case.\n",
            "\n",
            "Design and Comfort: The earbuds have a sleek, minimalist design and are said to fit comfortably in the ear, thanks to the inclusion of multiple silicone ear tips. The lightweight construction and IPX5 water resistance rating make them suitable for daily use and light workout activities.\n",
            "\n",
            "Market Relevance: In the highly competitive budget earbud segment, the boAt Nirvana Zenith stands out by offering a compelling combination of advanced features and performance at an affordable price point. This could make them an attractive option for consumers seeking a capable pair of earbuds without the premium price tag.\n",
            "\n",
            "Potential Impact: The success of the Nirvana Zenith could have a significant impact on boAt's market positioning and growth. As a leading Indian consumer electronics brand, the company's ability to deliver high-value products that rival more established international brands could further strengthen its position in the domestic market and potentially enable expansion into new international markets.\n",
            "\n",
            "Overall, the boAt Nirvana Zenith earbuds appear to offer a compelling value proposition in the budget earbud category, with their advanced features, sound quality, and design. If the positive reception from the review translates into strong sales, it could solidify boAt's reputation as a brand that can deliver premium-like experiences at accessible price points, potentially disrupting the market and posing a challenge to more established players. Here is a 400-word analysis of the products mentioned in the news article on the suspected customer data breach at Indian audio giant boAt:\n",
            "\n",
            "The article discusses a potential data breach at boAt, India's largest audio and wearables brand. As the leading player in the Indian audio market, boAt's products are highly relevant and impactful for the company's market planning and growth strategy.\n",
            "\n",
            "boAt's core product offerings include wireless earbuds, headphones, and speakers. Some of their popular models mentioned in the article include wireless earbuds and over-ear headphones. These products typically feature Bluetooth connectivity, noise cancellation, and long battery life - key features that appeal to modern consumers seeking convenient, high-quality audio experiences.\n",
            "\n",
            "In terms of market relevance, boAt has established itself as a dominant brand in the fast-growing Indian consumer electronics market. The company has capitalized on the rising demand for affordable yet feature-rich audio products, especially among the country's young, tech-savvy population. boAt's products are positioned as stylish, durable alternatives to premium international brands, making them accessible to a wide range of consumers.\n",
            "\n",
            "The potential impact of this data breach incident on boAt's market planning could be significant. A loss of customer trust due to a data breach can negatively affect brand reputation and customer loyalty, which are critical for maintaining a strong market position. boAt will likely need to invest heavily in strengthening its data security measures and reassuring customers about the safety of their personal information.\n",
            "\n",
            "Additionally, the breach could expose sensitive customer data, such as contact details and purchase histories, which could be exploited by cybercriminals. This could lead to increased financial and legal risks for both the company and its customers. boAt may need to allocate resources towards mitigating these risks, potentially diverting focus and resources away from product development and marketing initiatives.\n",
            "\n",
            "Overall, the suspected data breach at boAt highlights the importance of robust cybersecurity practices for consumer electronics companies, especially those with large customer bases. The company's ability to effectively investigate, respond, and recover from this incident will be crucial in determining its long-term market standing and growth trajectory. Here is a 400-word analysis of the Boat Airdopes 300 product mentioned in the news article:\n",
            "\n",
            "The Boat Airdopes 300 is a true wireless earbuds (TWS) product from the popular Indian consumer electronics brand Boat. The review highlights several key features and aspects of this product that make it a compelling offering in the highly competitive TWS market.\n",
            "\n",
            "Design and Comfort: The Airdopes 300 has a sleek and compact design with a matte finish that gives it a premium look and feel. The earbuds are lightweight and fit comfortably in the ear, providing a secure and stable fit even during physical activities. This makes the Airdopes 300 suitable for everyday use as well as sports and fitness applications.\n",
            "\n",
            "Audio Performance: One of the standout features of the Airdopes 300 is its audio quality. The review praises the earbuds' ability to deliver clear, detailed, and well-balanced sound across different music genres. The inclusion of 10mm dynamic drivers and support for AAC and SBC Bluetooth codecs contribute to the impressive audio output.\n",
            "\n",
            "Battery Life and Connectivity: The Airdopes 300 offers a respectable battery life of up to 5 hours on a single charge, with an additional 20 hours of playback time provided by the charging case. The review notes that this is a decent battery performance for the price point. Connectivity is reliable, with a stable Bluetooth 5.0 connection and low latency for activities like gaming.\n",
            "\n",
            "Features and Functionality: In addition to the core audio and battery performance, the Airdopes 300 also offers several convenient features. These include touch controls for managing playback, calls, and voice assistants, as well as an IPX5 water-resistance rating for protection against sweat and light rain.\n",
            "\n",
            "Market Relevance and Impact: The Boat Airdopes 300 seems to be a well-rounded TWS offering that caters to the needs of a wide range of consumers. Its combination of good audio quality, comfortable design, and practical features at a relatively affordable price point makes it a strong contender in the mid-range TWS market segment.\n",
            "\n",
            "For Boat, the Airdopes 300 could have a positive impact on their market positioning and sales. As a brand known for its value-for-money products, the Airdopes 300 reinforces Boat's ability to deliver quality audio experiences at accessible price points. This could help the company further strengthen its foothold in the rapidly growing Indian TWS market, which is expected to see continued growth in the coming years. Here is a 400-word analysis of the products mentioned in the news article:\n",
            "\n",
            "The news article highlights several top-rated boAt earbuds that offer superior sound quality, battery life, and advanced features. These earbuds cater to a wide range of users, including students, gamers, professionals, athletes, and travelers.\n",
            "\n",
            "1. boAt Nirvana Ion Truly Wireless Earbuds:\n",
            "   - Features: 120 hours of total playback time, ENx technology for noise cancellation, ear detection to pause/resume music, low latency of 60ms for gaming.\n",
            "   - Market Relevance: The long battery life and low latency make these earbuds appealing for users who value uninterrupted audio experiences, particularly gamers and those who are constantly on the move.\n",
            "   - Potential Impact: These earbuds could strengthen boAt's position in the truly wireless earbud market, which has seen significant growth in recent years. The combination of features and competitive pricing could attract a wide range of consumers.\n",
            "\n",
            "2. boAt Airdopes 311 Pro Truly Wireless Earbuds:\n",
            "   - Features: 50 hours of total playback time, 10mm drivers for immersive sound quality, low latency of 50ms, IPX4 water and sweat resistance, and voice assistant integration.\n",
            "   - Market Relevance: The long battery life, low latency, and water resistance make these earbuds suitable for active users, such as athletes and outdoor enthusiasts, who require reliable and durable audio solutions.\n",
            "   - Potential Impact: These earbuds could further solidify boAt's reputation as a provider of high-quality, feature-rich wireless earbuds at a relatively affordable price point, potentially attracting a broader consumer base.\n",
            "\n",
            "3. boAt Airdopes 280 ANC Truly Wireless Earbuds:\n",
            "   - Features: Active noise cancellation (ANC) with up to 32dB noise reduction, 13mm drivers for rich audio, 60 hours of total playback time, and quick charging capabilities.\n",
            "   - Market Relevance: The ANC feature, combined with the impressive battery life and audio quality, could make these earbuds appealing to consumers who prioritize immersive audio experiences, particularly in noisy environments.\n",
            "   - Potential Impact: The introduction of ANC technology in a relatively affordable earbud model could help boAt capture a larger share of the growing market for noise-cancelling true wireless earbuds, which has seen increased demand in recent years.\n",
            "\n",
            "4. boAt Nirvana Space Truly Wireless Earbuds:\n",
            "   - Features: 360-degree spatial audio for a cinematic listening experience, touch controls, and up to 28 hours of total playback time.\n",
            "   - Market Relevance: The unique 360-degree spatial audio feature could attract consumers who seek an immersive and differentiated audio experience, particularly in the entertainment and gaming sectors.\n",
            "   - Potential Impact: The Nirvana Space earbuds could help boAt stand out in the crowded true wireless earbud market by offering a distinctive audio feature that caters to users who value innovative and engaging listening experiences.\n",
            "\n",
            "Overall, the boAt earbuds highlighted in the news article showcase the company's ability to deliver feature-rich, competitively priced audio products that cater to the diverse needs and preferences of Indian consumers. These earbuds have the potential to further strengthen boAt's market position and appeal to a wide range of users, from casual listeners to dedicated gamers and athletes. Here is a 400-word analysis of the products mentioned in the news article about the BoAt data breach:\n",
            "\n",
            "The news article discusses a massive data breach that has impacted BoAt, a leading Indian consumer electronics brand known for its audio products. The breach has resulted in the personal data of 7.5 million BoAt customers being leaked on the dark web.\n",
            "\n",
            "BoAt's core product offerings include wireless earbuds, headphones, speakers, and related audio accessories. These products are designed to cater to the growing demand for affordable yet stylish personal audio devices in the Indian market. Some key features of BoAt's products include:\n",
            "\n",
            "- Wireless connectivity: BoAt's earbuds and headphones utilize Bluetooth technology to provide a cord-free listening experience. This aligns with the increasing consumer preference for wireless audio solutions.\n",
            "\n",
            "- Noise cancellation: Many of BoAt's premium headphone models incorporate active noise cancellation (ANC) technology. This feature helps users enjoy their audio content without external noise interference, enhancing the overall listening experience.\n",
            "\n",
            "- Water/sweat resistance: Some BoAt products, particularly the earbuds and sports-focused headphones, are designed to be water and sweat resistant. This makes them suitable for use during physical activities and in various weather conditions.\n",
            "\n",
            "- Long battery life: BoAt's products typically offer extended battery life, with many earbuds and headphones providing 20-30 hours of playback time on a single charge. This is a crucial factor for consumers who seek uninterrupted audio experiences.\n",
            "\n",
            "In terms of market relevance, BoAt has established itself as a prominent player in the Indian consumer electronics market, particularly in the personal audio segment. The company has gained significant traction among young, tech-savvy consumers who seek affordable yet stylish audio products. BoAt's focus on features like wireless connectivity, noise cancellation, and water resistance has helped it differentiate its offerings and cater to the evolving preferences of the Indian consumer base.\n",
            "\n",
            "The data breach incident, however, poses a significant challenge for BoAt's market positioning and customer trust. The leak of sensitive customer information, including personal details and potentially financial data, could undermine the brand's reputation and erode consumer confidence. This incident highlights the importance of robust data security measures and the need for companies to prioritize the protection of customer information, especially in the digital age where data breaches can have far-reaching consequences.\n",
            "\n",
            "Overall, BoAt's product offerings have been well-received in the Indian market, but the current data breach incident presents a critical test for the company's ability to navigate the crisis, regain customer trust, and maintain its market leadership in the competitive personal audio segment. Here is a 400-word analysis of the products mentioned in the news article:\n",
            "\n",
            "The article discusses a major data breach that has impacted the Indian consumer electronics brand boAt. The breach has resulted in the personal data of over 7.5 million boAt customers being leaked on the dark web. This includes sensitive information such as names, addresses, phone numbers, email addresses, and customer IDs.\n",
            "\n",
            "From a product perspective, boAt is a prominent player in the Indian wearables and audio accessories market. The company offers a range of products including wireless earbuds, headphones, speakers, smartwatches, and fitness trackers. Some of boAt's popular product lines include the Airdopes (wireless earbuds), Rockerz (headphones), and Wave (smartwatches) series.\n",
            "\n",
            "These boAt products are known for their stylish designs, decent audio quality, and competitive pricing compared to global brands. They have gained significant market share in India's growing consumer electronics segment, especially among the younger demographic. The company has positioned itself as a trendy, affordable alternative to premium international brands.\n",
            "\n",
            "The data breach is a major setback for boAt, as it could significantly impact customer trust and brand reputation. Customers may become wary of sharing personal information with the company in the future, which could hamper sales and growth. Additionally, the leaked data could be misused by cybercriminals, exposing customers to potential fraud and identity theft.\n",
            "\n",
            "From a market planning perspective, boAt will need to take immediate steps to regain customer confidence. This could involve enhancing data security measures, offering transparent communication and support to affected customers, and potentially providing compensation or credit monitoring services. The company may also need to invest in strengthening its cybersecurity infrastructure to prevent such incidents from happening again.\n",
            "\n",
            "Furthermore, the data breach could prompt increased regulatory scrutiny and compliance requirements for consumer electronics companies handling sensitive customer information. boAt may need to review and upgrade its data protection policies and practices to align with evolving data privacy regulations.\n",
            "\n",
            "Overall, the data breach is a significant challenge for boAt, but how the company responds and learns from this incident could ultimately determine its long-term market relevance and competitiveness. Effective crisis management and a renewed focus on customer data protection will be crucial for the brand to maintain its growth trajectory in the Indian consumer electronics market. Here is a 400-word analysis of the products mentioned in the news article about the alleged data leak of 7.5 million Boat customers:\n",
            "\n",
            "The news article discusses the alleged leak of personal data belonging to 7.5 million customers of the Indian consumer electronics brand Boat. While the full details of the leaked data are not yet known, this incident could have significant implications for Boat and its product portfolio.\n",
            "\n",
            "Boat is primarily known for its range of audio products, including wireless earbuds, headphones, and speakers. These products are positioned as affordable, stylish alternatives to premium brands like Apple's AirPods. Boat has found success in the Indian market by offering feature-rich products at competitive prices, leveraging social media influencer marketing to build brand awareness.\n",
            "\n",
            "The leaked customer data could include sensitive information such as names, contact details, purchase histories, and potentially even payment information. This poses several risks for Boat and its customers. Firstly, the leaked data could be exploited by cybercriminals for identity theft, phishing scams, or other malicious activities, exposing customers to financial and reputational harm. \n",
            "\n",
            "Secondly, the breach could severely undermine customer trust in the Boat brand, potentially leading to a decline in sales and market share. In an increasingly competitive consumer electronics market, brand reputation and customer loyalty are critical differentiators. A major data breach could tarnish Boat's image as a reliable and trustworthy brand, making it harder for the company to attract new customers and retain existing ones.\n",
            "\n",
            "To mitigate the impact of this incident, Boat will need to take swift and transparent action. This could include offering comprehensive identity protection services to affected customers, conducting a thorough investigation into the breach, and implementing robust cybersecurity measures to prevent future incidents. The company may also need to consider compensating customers for any losses or damages incurred as a result of the data leak.\n",
            "\n",
            "Beyond the immediate crisis response, Boat may need to re-evaluate its data security practices and overall approach to customer privacy. As consumers become more aware of data privacy concerns, companies that can demonstrate a strong commitment to protecting customer information may have a competitive advantage. Boat could explore opportunities to differentiate its products and services by emphasizing its data security credentials, potentially even positioning itself as a more privacy-focused alternative in the consumer electronics market.\n",
            "\n",
            "In conclusion, the alleged data leak of 7.5 million Boat customers represents a significant challenge for the company, with potential implications for its product portfolio, brand reputation, and market positioning. Boat's ability to navigate this crisis and emerge stronger will depend on its willingness to prioritize customer trust and data security in its overall business strategy. Here is a 400-word analysis of the products mentioned in the news article:\n",
            "\n",
            "The news article discusses a data breach that impacted Boat, a popular Indian electronics brand known for its wearable devices and audio products. The breach reportedly exposed the personal information of over 7.5 million Boat customers, including their names, phone numbers, addresses, email IDs, and customer IDs.\n",
            "\n",
            "Boat's core product offerings include fitness trackers and audio products such as headphones, earbuds, and speakers. These products are designed to cater to the growing demand for wearable technology and portable audio solutions in the Indian market.\n",
            "\n",
            "In terms of features, Boat's fitness trackers typically include basic health and activity tracking capabilities, like step counting, heart rate monitoring, and sleep tracking. Some models may also offer additional features like water resistance, smartphone connectivity, and basic smartwatch functionalities. These features aim to provide consumers with a convenient way to monitor their fitness and wellness on the go.\n",
            "\n",
            "Boat's audio products, on the other hand, focus on delivering quality sound and a premium user experience. The company's headphones and earbuds often boast features like noise cancellation, wireless connectivity, and long battery life, catering to the needs of music enthusiasts and on-the-go consumers.\n",
            "\n",
            "The market relevance of Boat's products is evident from the company's strong position in the Indian wearables market. According to the IDC report mentioned in the article, Boat held a 26% market share in CY 2023, making it the market leader. However, the article also notes that the gap between Boat and its closest rivals, Fire-Boltt and Noise, is closing, indicating increasing competition in the segment.\n",
            "\n",
            "The potential impact of the data breach on Boat's market planning is significant. The exposure of customer data could lead to increased security concerns and a loss of trust among consumers, potentially affecting Boat's brand reputation and sales. The company's response to the breach, including the ongoing investigation and measures to enhance data security, will be crucial in mitigating the impact and maintaining customer confidence.\n",
            "\n",
            "Furthermore, the data breach could also have broader implications for the wearables industry, as it highlights the importance of robust cybersecurity measures and the need for companies to prioritize the protection of customer data. This incident may prompt increased scrutiny and regulatory oversight, requiring companies to invest more in data security and privacy measures to maintain consumer trust and comply with evolving data protection regulations. The article discusses a cyber attack on boAt, a leading Indian consumer electronics brand, which resulted in the loss of data belonging to 7.5 million customers. Here's an analysis of the key points:\n",
            "\n",
            "1. Products and Features:\n",
            "   - boAt is a prominent player in the Indian consumer electronics market, known for its audio products such as headphones, earbuds, and speakers.\n",
            "   - The company's products are typically positioned as affordable, trendy, and feature-rich options targeting the younger demographic.\n",
            "   - Some of boAt's popular product lines include the Airdopes (true wireless earbuds), Rockerz (wireless headphones), and Stone (portable Bluetooth speakers).\n",
            "\n",
            "2. Market Relevance:\n",
            "   - boAt has established itself as one of the top-selling consumer electronics brands in India, particularly in the audio accessories segment.\n",
            "   - The company has been able to capitalize on the growing demand for affordable, stylish, and feature-rich audio products among the country's young and tech-savvy population.\n",
            "   - boAt's focus on design, innovation, and aggressive marketing has helped it gain significant market share, challenging established players in the industry.\n",
            "\n",
            "3. Potential Impact:\n",
            "   - The data breach incident could have significant implications for boAt's brand reputation and customer trust.\n",
            "   - The loss of 7.5 million customer records, which may include sensitive information such as contact details, purchase history, and payment information, could expose customers to potential fraud and identity theft.\n",
            "   - This incident may also lead to increased scrutiny of boAt's data security practices and could potentially result in regulatory actions, legal liabilities, and financial penalties.\n",
            "   - The company's ability to effectively manage the crisis and reassure its customer base will be crucial in mitigating the long-term impact on its market position and future growth prospects.\n",
            "\n",
            "In summary, the data breach incident poses a significant challenge for boAt, as it could undermine the company's hard-earned reputation and trust among its customer base. Effective crisis management, enhanced data security measures, and proactive communication with customers will be critical for boAt to navigate this situation and maintain its market leadership in the Indian consumer electronics industry.\n",
            "Time taken to analyze the competitors: 52.30206894874573 seconds\n",
            "*****************************************************************\n",
            "['boAt - Airdopes 141', 'boAt - Rockerz 450', 'boAt - Rockerz 550', 'Noise', 'Fire-Boltt']\n",
            "['https://tech.hindustantimes.com/tech/news/boat-better-than-apple-top-5-boat-earbuds-and-smartwatches-under-rs-2000-to-check-out-71711902375729.html', 'https://www.gizmochina.com/2023/08/22/boat-airdopes-141-anc-smartwatch-launched/', 'https://www.fonearena.com/blog/402884/boat-airdopes-141-anc-price-features.html', 'https://beebom.com/boat-airdopes-141-neo-launched-india/']\n",
            "['https://www.livemint.com/technology/gadgets/best-boat-gaming-headphones-upgrade-your-gaming-setup-with-top-10-incredible-options-11714623682586.html', 'https://m.economictimes.com/top-trending-products/electronics/headphones/10-best-earphones-and-headphones-by-boat-with-great-audio-quality/articleshow/112720508.cms', 'https://timesofindia.indiatimes.com/hot-picks/boat-headphones-comparison-boat-nirvana-eutopia-vs-boat-nirvana-751-vs-boat-rockerz-450-vs-boat-rockers-450/articleshow/108975325.cms', 'https://www.newindianexpress.com/expressdeals/electronics/best-wireless-headphones-under-2000']\n",
            "['https://www.timesbull.com/latest-news/get-the-best-price-for-boat-rockerz-550-on-flipkart-and-amazon-with-exciting-offers-368956.html', 'https://www.livemint.com/technology/gadgets/turn-it-up-navigate-the-joyous-domain-of-audio-bliss-with-our-top-picks-of-boat-headphones-11713179817375.html', 'https://m.economictimes.com/top-trending-products/electronics/headphones/10-best-earphones-and-headphones-by-boat-with-great-audio-quality/articleshow/112720508.cms', 'https://www.hindustantimes.com/technology/best-wireless-bluetooth-headphones-for-unmatched-sound-quality-and-comfort-top-8-picks-101721277220121.html']\n",
            "['https://www.nature.com/articles/s41534-024-00842-9', 'https://hypebeast.com/2024/6/porsche-928-noise-test-vehicle-info', 'https://www.barcelona.cat/infobarcelona/en/tema/security-and-prevention/less-noise-and-inconvenience-in-the-leisure-triangle_1381291.html', 'https://www.dfwairport.com/business/community/aircraftnoise/']\n",
            "['https://www.healthshots.com/recommends/best-fire-boltt-smartwatches/', 'https://www.hindustantimes.com/technology/best-fire-boltt-smartwatches-top-10-models-known-for-style-functionality-101704689708879.html', 'https://www.livemint.com/technology/gadgets/fireboltt-vs-beatxp-10-best-smartwatches-with-rich-looks-and-cool-features-11704259922596.html', 'https://retail.economictimes.indiatimes.com/news/consumer-durables-and-information-technology/consumer-electronics/fire-boltt-retains-market-leadership-position-with-23-6-market-share-in-indian-smartwatch-market-/105292241']\n",
            "Time taken to analyze the summary: 216.34212446212769 seconds\n",
            "*****************************************************************\n",
            "Here is a detailed summary of the key products mentioned in the news articles:\n",
            "\n",
            "Boat Airdopes 141:\n",
            "- True wireless earbuds priced at ₹1,299\n",
            "- Key features:\n",
            "  - Bluetooth 5.0 connectivity\n",
            "  - Up to 14 hours of playtime\n",
            "  - IPX7 water resistance\n",
            "- Positioned as a budget-friendly option with decent battery life and durability, appealing to active users\n",
            "\n",
            "Boat Rockerz 255 Pro:\n",
            "- Neckband-style wireless earbuds priced at ₹1,499\n",
            "- Key features:\n",
            "  - 10 hours of playback time\n",
            "  - Fast charging\n",
            "  - Magnetic earbuds for convenient storage\n",
            "- Caters to users who prefer the comfort and convenience of a neckband design over true wireless earbuds\n",
            "\n",
            "Boat Storm Smartwatch:\n",
            "- Priced at ₹1,799\n",
            "- Key features:\n",
            "  - 1.69-inch HD display\n",
            "  - Heart rate monitoring\n",
            "  - Multiple sports modes\n",
            "- Positioned as a capable fitness tracker at an affordable price point\n",
            "\n",
            "Boat Xplorer Smartwatch:\n",
            "- Priced at ₹1,499\n",
            "- Key features:\n",
            "  - 1.3-inch display\n",
            "  - Step tracking\n",
            "  - Call/message notifications\n",
            "- Caters to users who prioritize essential smartwatch functionalities over advanced features\n",
            "\n",
            "Boat Wave Connect Smartwatch:\n",
            "- Priced at ₹1,799\n",
            "- Key features:\n",
            "  - 1.69-inch HD display\n",
            "  - Heart rate monitoring\n",
            "  - Multiple sports modes\n",
            "  - Bluetooth calling\n",
            "- Offers a mix of essential and advanced features, positioning it as a viable alternative to more premium smartwatch brands\n",
            "\n",
            "Boat Airdopes 141 ANC:\n",
            "- True wireless earbuds priced at ₹1,699 (with an introductory offer of ₹200 Amazon Pay cashback)\n",
            "- Key features:\n",
            "  - 32dB of active noise cancellation (ANC)\n",
            "  - 10mm drivers\n",
            "  - Bluetooth 5.3 connectivity\n",
            "  - Dual EQ modes (Balanced and Signature)\n",
            "  - Up to 42 hours of total playtime\n",
            "  - Low latency mode for gaming\n",
            "  - IPX5 water resistance\n",
            "- Targets consumers who value a quieter, more immersive audio experience and could help Boat tap into the growing gaming earbuds market\n",
            "\n",
            "Boat Airdopes 141 Neo:\n",
            "- True wireless earbuds priced in the sub-₹2,000 range\n",
            "- Key features:\n",
            "  - 50 hours of total playback time (10 hours from earbuds, 40 hours from charging case)\n",
            "  - Fast charging (1.5 hours of playback with 10 minutes of charging)\n",
            "  - Bluetooth 5.2 connectivity\n",
            "  - Environmental Noise Cancellation (ENC) technology\n",
            "- Positioned to compete in the highly competitive sub-₹2,000 true wireless earbuds segment in India, appealing to a wide range of consumers\n",
            "\n",
            "Overall, the Boat products highlighted in the news articles showcase the brand's strategy of providing feature-rich, affordable earbuds and smartwatches that cater to the budget-conscious Indian consumer market. The products offer a mix of essential and advanced features, positioning Boat as a viable alternative to more premium brands like Apple. This could have a significant impact on Boat's market share and potentially disrupt the competitive landscape in the Indian consumer electronics industry.\n",
            "*****************************************************************\n"
          ]
        },
        {
          "ename": "RatelimitException",
          "evalue": "ERR_INPUT_LIMIT",
          "output_type": "error",
          "traceback": [
            "\u001b[0;31m---------------------------------------------------------------------------\u001b[0m",
            "\u001b[0;31mRatelimitException\u001b[0m                        Traceback (most recent call last)",
            "\u001b[0;32m<ipython-input-45-8478c1c925f6>\u001b[0m in \u001b[0;36m<cell line: 1>\u001b[0;34m()\u001b[0m\n\u001b[0;32m----> 1\u001b[0;31m \u001b[0mt1\u001b[0m\u001b[0;34m,\u001b[0m\u001b[0mt2\u001b[0m\u001b[0;34m,\u001b[0m\u001b[0mt3\u001b[0m\u001b[0;34m,\u001b[0m\u001b[0mt4\u001b[0m\u001b[0;34m,\u001b[0m\u001b[0manalysis\u001b[0m \u001b[0;34m=\u001b[0m \u001b[0mmain\u001b[0m\u001b[0;34m(\u001b[0m\u001b[0;34m'Boat Earbuds'\u001b[0m\u001b[0;34m)\u001b[0m\u001b[0;34m\u001b[0m\u001b[0;34m\u001b[0m\u001b[0m\n\u001b[0m",
            "\u001b[0;32m<ipython-input-44-554625a93df3>\u001b[0m in \u001b[0;36mmain\u001b[0;34m(name)\u001b[0m\n\u001b[1;32m     17\u001b[0m   \u001b[0mprint\u001b[0m\u001b[0;34m(\u001b[0m\u001b[0msummpop\u001b[0m\u001b[0;34m)\u001b[0m\u001b[0;34m\u001b[0m\u001b[0;34m\u001b[0m\u001b[0m\n\u001b[1;32m     18\u001b[0m   \u001b[0mprint\u001b[0m\u001b[0;34m(\u001b[0m\u001b[0;34m'*****************************************************************'\u001b[0m\u001b[0;34m)\u001b[0m\u001b[0;34m\u001b[0m\u001b[0;34m\u001b[0m\u001b[0m\n\u001b[0;32m---> 19\u001b[0;31m   \u001b[0manalysis_total\u001b[0m \u001b[0;34m=\u001b[0m \u001b[0manalysis_prod\u001b[0m\u001b[0;34m(\u001b[0m\u001b[0mprod_info\u001b[0m\u001b[0;34m,\u001b[0m\u001b[0msummpop\u001b[0m\u001b[0;34m)\u001b[0m\u001b[0;34m\u001b[0m\u001b[0;34m\u001b[0m\u001b[0m\n\u001b[0m\u001b[1;32m     20\u001b[0m   \u001b[0mend_time\u001b[0m \u001b[0;34m=\u001b[0m \u001b[0mtime\u001b[0m\u001b[0;34m.\u001b[0m\u001b[0mtime\u001b[0m\u001b[0;34m(\u001b[0m\u001b[0;34m)\u001b[0m\u001b[0;34m\u001b[0m\u001b[0;34m\u001b[0m\u001b[0m\n\u001b[1;32m     21\u001b[0m   \u001b[0mprint\u001b[0m\u001b[0;34m(\u001b[0m\u001b[0;34mf\"Analysis time taken: {end_time - end_time_summary} seconds\"\u001b[0m\u001b[0;34m)\u001b[0m\u001b[0;34m\u001b[0m\u001b[0;34m\u001b[0m\u001b[0m\n",
            "\u001b[0;32m<ipython-input-42-25776953e872>\u001b[0m in \u001b[0;36manalysis_prod\u001b[0;34m(prod_summ, cmpy_summ)\u001b[0m\n\u001b[1;32m      1\u001b[0m \u001b[0;34m\"\"\" This takes inputs of compi summary and product summary and return summary of the company\"\"\"\u001b[0m\u001b[0;34m\u001b[0m\u001b[0;34m\u001b[0m\u001b[0m\n\u001b[1;32m      2\u001b[0m \u001b[0;32mdef\u001b[0m \u001b[0manalysis_prod\u001b[0m\u001b[0;34m(\u001b[0m\u001b[0mprod_summ\u001b[0m\u001b[0;34m,\u001b[0m\u001b[0mcmpy_summ\u001b[0m\u001b[0;34m)\u001b[0m\u001b[0;34m:\u001b[0m\u001b[0;34m\u001b[0m\u001b[0;34m\u001b[0m\u001b[0m\n\u001b[0;32m----> 3\u001b[0;31m   \u001b[0;32mreturn\u001b[0m \u001b[0mAI_Analysis\u001b[0m\u001b[0;34m(\u001b[0m\u001b[0mprod_summ\u001b[0m\u001b[0;34m,\u001b[0m\u001b[0mcmpy_summ\u001b[0m\u001b[0;34m)\u001b[0m\u001b[0;34m\u001b[0m\u001b[0;34m\u001b[0m\u001b[0m\n\u001b[0m",
            "\u001b[0;32m<ipython-input-34-15b3f8793cea>\u001b[0m in \u001b[0;36mAI_Analysis\u001b[0;34m(Product_analysis, Compitetiors_analysis)\u001b[0m\n\u001b[1;32m      1\u001b[0m \u001b[0;32mdef\u001b[0m \u001b[0mAI_Analysis\u001b[0m\u001b[0;34m(\u001b[0m\u001b[0mProduct_analysis\u001b[0m\u001b[0;34m,\u001b[0m\u001b[0mCompitetiors_analysis\u001b[0m\u001b[0;34m)\u001b[0m\u001b[0;34m:\u001b[0m\u001b[0;34m\u001b[0m\u001b[0;34m\u001b[0m\u001b[0m\n\u001b[0;32m----> 2\u001b[0;31m     ans = DDGS().chat(\n\u001b[0m\u001b[1;32m      3\u001b[0m     \u001b[0;34m\"Analyze the following competitor and product details. Provide a thorough technical analysis of each product, focusing on its market standing, technical strengths, and areas for improvement. Offer actionable insights on how the product can be enhanced to increase sales and profitability. Compare the product with competitors, identifying gaps and opportunities for differentiation and market leadership: \"\u001b[0m \u001b[0;34m+\u001b[0m \u001b[0;34m\"Competitors: \\n \"\u001b[0m\u001b[0;34m\u001b[0m\u001b[0;34m\u001b[0m\u001b[0m\n\u001b[1;32m      4\u001b[0m     \u001b[0;34m+\u001b[0m \u001b[0mCompitetiors_analysis\u001b[0m \u001b[0;34m+\u001b[0m \u001b[0;34m\"Product Information: \\n \"\u001b[0m \u001b[0;34m+\u001b[0m \u001b[0mProduct_analysis\u001b[0m\u001b[0;34m,\u001b[0m\u001b[0;34m\u001b[0m\u001b[0;34m\u001b[0m\u001b[0m\n\u001b[1;32m      5\u001b[0m     \u001b[0mmodel\u001b[0m\u001b[0;34m=\u001b[0m\u001b[0;34m'claude-3-haiku'\u001b[0m\u001b[0;34m\u001b[0m\u001b[0;34m\u001b[0m\u001b[0m\n",
            "\u001b[0;32m/usr/local/lib/python3.10/dist-packages/duckduckgo_search/duckduckgo_search.py\u001b[0m in \u001b[0;36mchat\u001b[0;34m(self, keywords, model, timeout)\u001b[0m\n\u001b[1;32m    189\u001b[0m                 \u001b[0merr_message\u001b[0m \u001b[0;34m=\u001b[0m \u001b[0mx\u001b[0m\u001b[0;34m.\u001b[0m\u001b[0mget\u001b[0m\u001b[0;34m(\u001b[0m\u001b[0;34m\"type\"\u001b[0m\u001b[0;34m,\u001b[0m \u001b[0;34m\"\"\u001b[0m\u001b[0;34m)\u001b[0m\u001b[0;34m\u001b[0m\u001b[0;34m\u001b[0m\u001b[0m\n\u001b[1;32m    190\u001b[0m                 \u001b[0;32mif\u001b[0m \u001b[0mx\u001b[0m\u001b[0;34m.\u001b[0m\u001b[0mget\u001b[0m\u001b[0;34m(\u001b[0m\u001b[0;34m\"status\"\u001b[0m\u001b[0;34m)\u001b[0m \u001b[0;34m==\u001b[0m \u001b[0;36m429\u001b[0m\u001b[0;34m:\u001b[0m\u001b[0;34m\u001b[0m\u001b[0;34m\u001b[0m\u001b[0m\n\u001b[0;32m--> 191\u001b[0;31m                     raise (\n\u001b[0m\u001b[1;32m    192\u001b[0m                         \u001b[0mConversationLimitException\u001b[0m\u001b[0;34m(\u001b[0m\u001b[0merr_message\u001b[0m\u001b[0;34m)\u001b[0m\u001b[0;34m\u001b[0m\u001b[0;34m\u001b[0m\u001b[0m\n\u001b[1;32m    193\u001b[0m                         \u001b[0;32mif\u001b[0m \u001b[0merr_message\u001b[0m \u001b[0;34m==\u001b[0m \u001b[0;34m\"ERR_CONVERSATION_LIMIT\"\u001b[0m\u001b[0;34m\u001b[0m\u001b[0;34m\u001b[0m\u001b[0m\n",
            "\u001b[0;31mRatelimitException\u001b[0m: ERR_INPUT_LIMIT"
          ]
        }
      ],
      "source": [
        "t1,t2,t3,t4,analysis = main('Boat Earbuds')"
      ]
    },
    {
      "cell_type": "code",
      "execution_count": null,
      "metadata": {},
      "outputs": [],
      "source": [
        "# Streamlit, Matplotlib, Same Naem"
      ]
    },
    {
      "cell_type": "code",
      "execution_count": 30,
      "metadata": {
        "colab": {
          "base_uri": "https://localhost:8080/",
          "height": 156
        },
        "id": "hTM741fl0NIQ",
        "outputId": "22c2e7a7-6001-4bb3-b386-3c8e7f8126fd"
      },
      "outputs": [
        {
          "data": {
            "application/vnd.google.colaboratory.intrinsic+json": {
              "type": "string"
            },
            "text/plain": [
              "'Here are the detailed summaries of the individual products based on the information provided:\\n\\nOnePlus 13:\\n- Flagship smartphone expected to launch in late 2024\\n- Powered by the new Snapdragon 8 Gen 4 chipset, providing a notable performance boost\\n- Storage options up to 512GB with 24GB of RAM, catering to power users\\n- Triple 50MP camera setup with main wide-angle, ultra-wide, and 3x telephoto lenses - a major upgrade from the OnePlus 12\\n- Potential use of Oppo\\'s image processing algorithms to improve photo and video quality\\n- Slightly curved display, moving away from the sharper curves of previous models for improved ergonomics\\n- Possible redesigned camera module layout, potentially a more rectangular arrangement, giving the phone a fresh new look\\n- Competitively priced, likely starting at $799 for the base model, aligning with OnePlus\\' \"flagship on a budget\" strategy\\n\\nOnePlus 12:\\n- Latest flagship smartphone from OnePlus\\n- Powered by the powerful Snapdragon 8 Gen 3 processor, outperforming rivals in benchmark tests\\n- Excellent battery life, lasting through a full day of use, with 80W fast charging support\\n- Disappointing camera performance compared to competitors like the Google Pixel 8 Pro\\n- Pricing strategy has increased the starting price compared to the previous model, which could be a risk in the current economic climate\\n\\nOnePlus 12R:\\n- More affordable model that sacrifices some flagship features like the camera setup and display resolution\\n- Still delivers impressive performance and exceptional battery life\\n\\nOnePlus Open:\\n- The brand\\'s first foray into the foldable smartphone market\\n- Features a premium design, innovative multitasking capabilities, and flagship-level performance and charging speeds\\n- Significantly higher price point compared to the flagship OnePlus 13 and 12 models\\n\\nSamsung Galaxy S25 Ultra:\\n- Flagship smartphone with a 6.8-inch OLED display and a 501 ppi pixel density, delivering a sharp and detailed visual experience\\n- Powered by the latest Qualcomm Snapdragon 8 Gen 3 chipset, providing industry-leading performance\\n- Boasts a 200MP primary camera, a significant upgrade from the previous S24 Ultra model\\n- Improved image processing and low-light performance compared to the S24 Ultra\\n- Integrated S Pen stylus for precise note-taking and interaction\\n- Competitively priced at $1,300, aligning with the premium flagship segment\\n\\niPhone 16 Pro Max:\\n- Apple\\'s latest flagship smartphone\\n- Features a 6.9-inch OLED display with a slightly lower pixel density of 489 ppi compared to the Galaxy S25 Ultra\\n- Triple-lens rear camera system with 48MP wide, 48MP ultrawide, and 12MP 5x telephoto lenses\\n- Powered by Apple\\'s proprietary A18 Bionic processor, potentially offering a slight edge in graphics-intensive tasks\\n- Does not have a built-in stylus, but can be used with the Apple Pencil (sold separately)\\n- Priced at $1,199, positioning it as a premium flagship device\\n\\niPhone 16 Pro:\\n- Positioned between the flagship iPhone 16 Pro Max and the standard iPhone 16\\n- Features a 6.3-inch Super Retina XDR display with a 120Hz refresh rate\\n- Powered by Apple\\'s new A18 Pro chip, offering 10-15% faster performance and 20% better efficiency compared to the previous generation\\n- Camera system includes a 48MP main camera, 48MP ultrawide, and a 12MP 5x optical zoom lens\\n- Competitively priced at £999, making it an appealing option for users who prefer a more compact \"pro\" device\\n\\nGoogle Pixel 9 Pro XL:\\n- Flagship smartphone with a refined design and a premium, recycled aluminum chassis\\n- 6.8-inch OLED \"Super Actua\" display with a 20:9 aspect ratio, 1344 x 2992 pixel resolution, and up to 3000 nits of peak brightness\\n- Powered by Google\\'s in-house Tensor G4 chipset, optimized for AI and machine learning tasks\\n- Triple-lens rear camera system with a 50MP main camera, 48MP ultrawide, and 48MP telephoto lens\\n- Runs the latest Android 14 with extensive personalization options an'"
            ]
          },
          "execution_count": 30,
          "metadata": {},
          "output_type": "execute_result"
        }
      ],
      "source": [
        "summpop"
      ]
    },
    {
      "cell_type": "code",
      "execution_count": 29,
      "metadata": {
        "colab": {
          "base_uri": "https://localhost:8080/"
        },
        "id": "idR-rlZMx3Tm",
        "outputId": "1aa4942a-265e-4b5b-d50c-22e3809ae502"
      },
      "outputs": [
        {
          "name": "stdout",
          "output_type": "stream",
          "text": [
            "time taken to Know about the product:  1.4102709889411926\n",
            "time taken to Know about the competitors:  0.9540173808733622\n",
            "time taken to Know about the give analysis:  3.7718675414721172\n",
            "total time taken:  6.136155911286672\n"
          ]
        }
      ],
      "source": [
        "print(\"time taken to Know about the product: \", (t2-t1)/60)\n",
        "print(\"time taken to Know about the competitors: \", (t3-t2)/60)\n",
        "print(\"time taken to Know about the give analysis: \", (t4-t3)/60)\n",
        "print(\"total time taken: \", (t4-t1)/60)"
      ]
    },
    {
      "cell_type": "code",
      "execution_count": null,
      "metadata": {
        "id": "h1UKQ-oH_wrV"
      },
      "outputs": [],
      "source": [
        "otp = compi_main('Meta Quest 3s ')"
      ]
    },
    {
      "cell_type": "code",
      "execution_count": null,
      "metadata": {
        "colab": {
          "base_uri": "https://localhost:8080/"
        },
        "id": "L7-W9yyLH1Xz",
        "outputId": "03094de6-5847-46f5-bbd8-176547b61d93"
      },
      "outputs": [
        {
          "data": {
            "text/plain": [
              "['Meta - Quest 3',\n",
              " 'Valve - Index',\n",
              " 'PlayStation - PSVR 2',\n",
              " 'HTC - Vive Pro 2',\n",
              " 'Apple - Vision Pro']"
            ]
          },
          "execution_count": 45,
          "metadata": {},
          "output_type": "execute_result"
        }
      ],
      "source": [
        "otp"
      ]
    },
    {
      "cell_type": "code",
      "execution_count": null,
      "metadata": {
        "id": "n-_rVkSGd3kN"
      },
      "outputs": [],
      "source": [
        "summpop = summary_name(otp)"
      ]
    },
    {
      "cell_type": "code",
      "execution_count": null,
      "metadata": {
        "colab": {
          "base_uri": "https://localhost:8080/",
          "height": 156
        },
        "id": "dJF_UoNwfS8k",
        "outputId": "74d5e5c9-7ac7-46d4-bdcb-13be28db7fd7"
      },
      "outputs": [
        {
          "data": {
            "application/vnd.google.colaboratory.intrinsic+json": {
              "type": "string"
            },
            "text/plain": [
              "\"Here are the detailed summaries of the products based on the information provided:\\n\\nMeta Quest 3 VR Headset:\\n- The Meta Quest 3 is positioned as the best VR headset currently available, delivering significant upgrades over the previous Quest 2 model.\\nFeatures:\\n- Sleeker and more comfortable design with a 40% slimmer visor, making it more balanced and comfortable to wear, even for users who need to wear glasses.\\n- Vibrant LCD display with a resolution of 2,064 x 2,208 pixels per eye, providing a more detailed and immersive visual experience compared to the Quest 2.\\n- 90Hz native refresh rate, with an experimental 120Hz mode, for a smoother VR experience.\\n- Improved Touch Plus controllers with a more natural and intuitive interaction with virtual environments.\\n- Full-color passthrough feature, allowing users to see their surroundings in color, an improvement over the monochrome passthrough of the previous model.\\nMarket Relevance:\\n- The Quest 3 is well-positioned to capitalize on the growing demand for high-quality VR experiences, as the standalone VR market continues to expand.\\n- The headset's impressive specifications and features make it a compelling choice for both casual and enthusiast users.\\n- The availability of a 512GB model for $649 provides a more affordable option for users who require additional storage.\\nCompetitive Advantages:\\n- The Quest 3 serves as a showcase for Meta's technological advancements and its commitment to the VR/AR space.\\n- The headset's improved performance, comfort, and mixed reality capabilities position it as a strong competitor in the standalone VR market, potentially driving increased adoption and further cementing Meta's position as a leader in the industry.\\n\\nValve's Standalone VR Headset - 'Deckard':\\n- Valve's long-rumored standalone VR headset, currently in active development.\\nFeatures:\\n- As a standalone device, the Deckard is expected to offer more portability and convenience compared to PC-tethered VR systems.\\nMarket Relevance:\\n- Valve's entry into the standalone VR headset market could challenge existing players like Oculus/Meta and HTC.\\n- If Valve can leverage its expertise in game development and the Steam platform, the Deckard could become a compelling option for both consumers and developers, potentially driving further VR adoption.\\nCompetitive Advantages:\\n- The Deckard's standalone nature and Valve's reputation in the gaming industry could make it a strong competitor in the VR market.\\n\\nNew 'Half-Life' Game for the Deckard Headset:\\n- Valve is reportedly developing a new 'Half-Life' game specifically designed for the Deckard VR headset.\\nFeatures:\\n- The game may feature an asymmetric co-op experience, where one player uses the VR headset and the other plays on a traditional PC.\\nMarket Relevance:\\n- The release of a new 'Half-Life' game tailored for the Deckard headset could drive sales of the device and further establish Valve's position in the VR market.\\n- It could also inspire other developers to create more high-quality VR content, potentially accelerating the adoption of VR technology.\\nCompetitive Advantages:\\n- Valve's ability to develop a compelling 'Half-Life' game for the Deckard headset could give it a significant advantage over competitors, as it could attract both VR enthusiasts and fans of the 'Half-Life' franchise.\\n\\nPlayStation VR2 (PSVR2) Headset:\\nFeatures:\\n- Native 90Hz refresh rate, providing a smooth and immersive visual experience without the need for reprojection.\\n- Dynamic foveated rendering, which optimizes rendering quality based on the user's gaze, enhancing performance.\\n- PC Adapter that allows users to access the expansive Steam VR library, expanding the game selection available to PSVR2 owners.\\nUpcoming PSVR2 Games:\\n- Arizona Sunshine Remake: A remastered version of the popular zombie shooter, promising next-gen VR combat and stunning graphics.\\n- Wanderer: The Fragments of Fate: A time-traveling adventure game with a unique premise and a combination of drum solos and Last of Us-style combat.\\n- Metro Awakening: A prequel to the Metro 2033 series, offering a compelling narrative-driven experience set in the mutant-infested tunnels beneath Moscow.\\n-\""
            ]
          },
          "execution_count": 47,
          "metadata": {},
          "output_type": "execute_result"
        }
      ],
      "source": [
        "summpop"
      ]
    },
    {
      "cell_type": "code",
      "execution_count": null,
      "metadata": {
        "colab": {
          "base_uri": "https://localhost:8080/"
        },
        "id": "d_JzqLeOLFeY",
        "outputId": "36e87b54-ac70-4085-812b-9c5a7d51bf2c"
      },
      "outputs": [
        {
          "data": {
            "text/plain": [
              "list"
            ]
          },
          "execution_count": 15,
          "metadata": {},
          "output_type": "execute_result"
        }
      ],
      "source": [
        "type(otp)"
      ]
    },
    {
      "cell_type": "code",
      "execution_count": null,
      "metadata": {
        "colab": {
          "base_uri": "https://localhost:8080/"
        },
        "id": "u8h01RYiqi9r",
        "outputId": "6455f7fc-834a-4cfa-8823-6f116a345b97"
      },
      "outputs": [
        {
          "name": "stdout",
          "output_type": "stream",
          "text": [
            "Amazon - Amazon.in\n",
            "compi_A\n",
            "Snapdeal - Snapdeal\n",
            "compi_B\n",
            "Paytm - Paytm Mall\n",
            "compi_C\n",
            "Myntra\n",
            "compi_D\n",
            "Jabong\n",
            "compi_E\n"
          ]
        }
      ],
      "source": [
        "names=[]\n",
        "for idx, i in enumerate(otp):\n",
        "    results = serper_prod(i)  # Call your function with the company name\n",
        "    globals()[f'compi_{chr(65 + idx)}'] = results\n",
        "    print(i)\n",
        "    print(f'compi_{chr(65 + idx)}')\n",
        "    names.append(f'compi_{chr(65 + idx)}')"
      ]
    },
    {
      "cell_type": "code",
      "execution_count": null,
      "metadata": {
        "colab": {
          "base_uri": "https://localhost:8080/"
        },
        "id": "6r3CpPQpMGC2",
        "outputId": "cde6860d-9b8e-4996-a31a-a9c0e6626af3"
      },
      "outputs": [
        {
          "data": {
            "text/plain": [
              "['compi_A', 'compi_B', 'compi_C', 'compi_D', 'compi_E']"
            ]
          },
          "execution_count": 33,
          "metadata": {},
          "output_type": "execute_result"
        }
      ],
      "source": [
        "names"
      ]
    },
    {
      "cell_type": "code",
      "execution_count": null,
      "metadata": {
        "colab": {
          "base_uri": "https://localhost:8080/",
          "height": 35
        },
        "id": "4IhRpdyfY8x1",
        "outputId": "13b865b8-19cd-48d3-8051-f95cc2987000"
      },
      "outputs": [
        {
          "data": {
            "application/vnd.google.colaboratory.intrinsic+json": {
              "type": "string"
            },
            "text/plain": [
              "'compi_A compi_B compi_C compi_D compi_E'"
            ]
          },
          "execution_count": 71,
          "metadata": {},
          "output_type": "execute_result"
        }
      ],
      "source": [
        "\" \".join(names)"
      ]
    },
    {
      "cell_type": "code",
      "execution_count": null,
      "metadata": {
        "id": "Yx2cJBTXYF1u"
      },
      "outputs": [],
      "source": [
        "summ_list = [i for i in names]"
      ]
    },
    {
      "cell_type": "code",
      "execution_count": null,
      "metadata": {
        "colab": {
          "base_uri": "https://localhost:8080/"
        },
        "id": "S5v1Em_nYZZw",
        "outputId": "ea8ca055-e7bb-44c5-ce32-0f90bdd06ff2"
      },
      "outputs": [
        {
          "data": {
            "text/plain": [
              "['compi_A', 'compi_B', 'compi_C', 'compi_D', 'compi_E']"
            ]
          },
          "execution_count": 70,
          "metadata": {},
          "output_type": "execute_result"
        }
      ],
      "source": [
        "summ_list"
      ]
    },
    {
      "cell_type": "code",
      "execution_count": null,
      "metadata": {
        "id": "lM1S65PH_XZ9"
      },
      "outputs": [],
      "source": []
    },
    {
      "cell_type": "code",
      "execution_count": null,
      "metadata": {
        "id": "lK2VCgR4MIq8"
      },
      "outputs": [],
      "source": [
        "def gathering_links(text):\n",
        "  new_list = [i.get('link',[]) for i in text]\n",
        "\n",
        "  return new_list"
      ]
    },
    {
      "cell_type": "code",
      "execution_count": null,
      "metadata": {
        "id": "xvqpT3_JO-qE"
      },
      "outputs": [],
      "source": [
        "text_data = [globals()[name] for name in names]\n",
        "\n"
      ]
    },
    {
      "cell_type": "code",
      "execution_count": null,
      "metadata": {
        "id": "lsfvvmCaZmHB"
      },
      "outputs": [],
      "source": [
        "summ_data = [analysis_name(i) for i in text_data]"
      ]
    },
    {
      "cell_type": "code",
      "execution_count": null,
      "metadata": {
        "colab": {
          "base_uri": "https://localhost:8080/"
        },
        "id": "bZo4AXSt1NRn",
        "outputId": "b1a2803e-91ba-4f56-be13-d5a18151ae4c"
      },
      "outputs": [
        {
          "data": {
            "text/plain": [
              "10"
            ]
          },
          "execution_count": 77,
          "metadata": {},
          "output_type": "execute_result"
        }
      ],
      "source": [
        "len(text_data[0]['news'])"
      ]
    },
    {
      "cell_type": "code",
      "execution_count": null,
      "metadata": {
        "colab": {
          "base_uri": "https://localhost:8080/",
          "height": 141
        },
        "id": "5HcrHu2HcYur",
        "outputId": "d75c3ba4-7c32-4ba9-b8f3-8dd11c6c4911"
      },
      "outputs": [
        {
          "ename": "IndexError",
          "evalue": "list index out of range",
          "output_type": "error",
          "traceback": [
            "\u001b[0;31m---------------------------------------------------------------------------\u001b[0m",
            "\u001b[0;31mIndexError\u001b[0m                                Traceback (most recent call last)",
            "\u001b[0;32m<ipython-input-88-62035e055503>\u001b[0m in \u001b[0;36m<cell line: 1>\u001b[0;34m()\u001b[0m\n\u001b[0;32m----> 1\u001b[0;31m \u001b[0msumm_data\u001b[0m\u001b[0;34m[\u001b[0m\u001b[0;36m5\u001b[0m\u001b[0;34m]\u001b[0m\u001b[0;34m\u001b[0m\u001b[0;34m\u001b[0m\u001b[0m\n\u001b[0m",
            "\u001b[0;31mIndexError\u001b[0m: list index out of range"
          ]
        }
      ],
      "source": []
    },
    {
      "cell_type": "code",
      "execution_count": null,
      "metadata": {
        "colab": {
          "base_uri": "https://localhost:8080/"
        },
        "id": "y_RRh25sZYmO",
        "outputId": "0e1a6af6-4cab-4755-99f1-a8dc4405a559"
      },
      "outputs": [
        {
          "data": {
            "text/plain": [
              "15501"
            ]
          },
          "execution_count": 82,
          "metadata": {},
          "output_type": "execute_result"
        }
      ],
      "source": [
        "sum([ len(i) for i in summ_data])"
      ]
    },
    {
      "cell_type": "code",
      "execution_count": null,
      "metadata": {
        "colab": {
          "base_uri": "https://localhost:8080/",
          "height": 1000
        },
        "id": "qiV34B7Vciay",
        "outputId": "8b232461-c784-48c3-a304-e32d6cc3a4ee"
      },
      "outputs": [
        {
          "data": {
            "application/vnd.google.colaboratory.intrinsic+json": {
              "type": "string"
            },
            "text/plain": [
              "'Here is a comprehensive 400-word summary of the key products and strategies discussed in the news articles:\\n\\nThe news articles cover a range of e-commerce and digital products and strategies that Amazon and other companies are leveraging to drive growth and innovation.\\n\\nOne key product focus is Amazon\\'s expanding advertising business, which is seen as a potential threat to YouTube\\'s ad revenue. Amazon Advertising offers a suite of ad formats, including sponsored products, display ads, and video ads, that leverage Amazon\\'s customer data and shopping intent signals. As Amazon\\'s ad business grows, it could siphon away ad dollars that would have previously gone to YouTube, putting pressure on YouTube\\'s ad revenue and profitability.\\n\\nAnother major product highlighted is Amazon Rufus, a new AI-powered conversational shopping assistant integrated into the Amazon Shopping app. Rufus is designed to engage customers in natural language dialogues to provide detailed product information, personalized recommendations, and a more intuitive shopping experience. This aligns with broader trends in e-commerce toward more intelligent, AI-driven interfaces. If successful, Rufus could drive increased customer engagement, conversion rates, and loyalty within Amazon\\'s ecosystem.\\n\\nThe articles also discuss a strategic partnership between TikTok, Pinterest, and Amazon that will allow in-app shopping experiences on the social media platforms. This integration of Amazon\\'s e-commerce capabilities into popular social apps aims to capitalize on the growing social commerce trend and open up new sales channels for Amazon beyond its own marketplace.\\n\\nAdditionally, the articles cover Amazon\\'s dropshipping model, which enables sellers to list products without holding inventory. While dropshipping on Amazon can offer low upfront costs and outsourced fulfillment, the platform has strict compliance requirements that sellers must navigate carefully to avoid penalties.\\n\\nAcross these diverse product areas, a common theme emerges around the convergence of e-commerce, social media, and AI/automation technologies. Companies are seeking to create more seamless, personalized, and engaging shopping experiences that leverage the strengths of multiple platforms and technologies. The success of these initiatives will depend on factors such as user adoption, integration quality, and the ability to deliver value to both consumers and businesses.\\n\\nOverall, the news articles highlight Amazon\\'s continued innovation and expansion across e-commerce, advertising, and emerging tech domains, as well as the competitive dynamics and compliance considerations that other companies must navigate when partnering with or operating on the Amazon ecosystem. Here is a comprehensive summary of the key products and companies mentioned in the news articles:\\n\\n1. Snapdeal:\\n   - Snapdeal is an Indian e-commerce platform that was once a major competitor to Amazon and Flipkart in the country.\\n   - It was founded in 2010 and grew rapidly, attracting significant investment from Chinese tech giants like Alibaba and Tencent.\\n   - Snapdeal positioned itself as a value-focused e-commerce player, targeting price-conscious consumers in smaller cities and towns across India.\\n   - However, the company struggled to keep pace with the growth and innovation of its larger rivals, leading to a major restructuring in 2017 and the collapse of a proposed merger with Flipkart.\\n   - The news articles highlight Snapdeal\\'s partnership with Bhashini, an AI-powered language translation platform, to enhance the accessibility and inclusiveness of its e-commerce services for non-English speaking users.\\n\\n2. Bhashini:\\n   - Bhashini is an independent business division established by India\\'s Ministry of Electronics and Information Technology (MeitY) within the Digital India Corporation.\\n   - Bhashini\\'s mission is to develop innovative AI and voice-first technologies to break down language barriers and increase digital participation across India.\\n   - Through its partnership with Snapdeal, Bhashini aims to create new services and products that leverage AI and voice technology to enable more seamless language translation on the e-commerce platform.\\n   - This includes features like real-time translation of content, voice-based interfaces for accessing Snapdeal in multiple Indian languages, and tools to help small businesses and rural consumers engage digitally despite language differences.\\n\\n3. Unicommerce:\\n   - Unicommerce is a SaaS-based e-commerce enablement platform that provides solutions for inventory management, order fulfillment, and multichannel selling.\\n   - It caters to both e-commerce businesses and traditional retailers, helping them streamline their online operations.\\n   - Unicommerce is a key product under the AceVector Group, which also operates the Snapdeal e-commerce marketplace.\\n   - The platform\\'s recent public listing indicates its growing importance in supporting the digitization of India\\'s retail landscape.\\n\\n4. Stellaro Brands:\\n   - Stellaro Brands is a house of private label brands developed and sold by the AceVector Group through its own e-commerce channels, including Snapdeal.\\n   - Private label brands allow e-commerce platforms to offer exclusive products and potentially higher margins compared to third-party branded goods.\\n\\n5. Other companies:\\n   - The news articles also mention Ola, India\\'s largest ride-hailing platform, and BigBasket, a leading online grocery delivery platform, as part of the \"anti-portfolio\" of investments that Sanjeev Bikhchandani, the founder of Info Edge, chose not to pursue.\\n\\nOverall, the key products and companies discussed in the news articles highlight the dynamic and competitive nature of the Indian e-commerce and technology landscape, as well as the importance of addressing language barriers and catering to the diverse needs of the Indian market. Here is a comprehensive 400-word summary of the key product details from the news articles:\\n\\nThe news articles discuss several key products and features related to Paytm Mall, the e-commerce platform operated by the Indian digital payments company Paytm:\\n\\nPaytm Mall Platform: Paytm Mall is an online marketplace that allows consumers to purchase a wide range of products, from electronics and fashion to home goods and groceries. It leverages Paytm\\'s existing digital payments infrastructure, enabling seamless transactions through Paytm\\'s mobile wallet and other payment options. This integrated approach is a key feature that provides a convenient and secure shopping experience for consumers.\\n\\nPaytm Mall\\'s market relevance stems from its ability to capitalize on the rapid growth of e-commerce in India. The country\\'s online retail market is expected to reach $200 billion by 2026, driven by increasing internet penetration, rising smartphone usage, and a growing middle-class consumer base. Paytm Mall\\'s association with established players like SoftBank and Alibaba, who have invested in the platform, can further strengthen its market position and help it compete with dominant players like Amazon and Flipkart.\\n\\nPaytm Postpaid: An instant credit line offered by Paytm to customers, allowing them to pay for purchases later. This feature was intended to drive more transactions on Paytm Mall, but it ended up causing high default rates and losses for the platform.\\n\\nPaytm Mall Cashback: The platform offered aggressive cashback incentives, sometimes up to 100%, to attract customers. However, this strategy proved unsustainable as it burned through Paytm\\'s capital without building customer loyalty or repeat business.\\n\\nPaytm Mall Branded Stores: Paytm set up branded offline stores, known as Paytm Mall Stores, in an attempt to integrate online and offline retail. These stores failed to gain traction and became \"ghost towns\" due to lack of footfall.\\n\\nThe potential impact of these product features on Paytm\\'s market planning is significant. The Paytm Mall debacle has eroded trust in Paytm\\'s ability to execute beyond its core digital payments business and has drained substantial capital that could have been better utilized elsewhere. Going forward, Paytm will need to refocus on its strengths, build sustainable revenue streams, and demonstrate prudent capital allocation to regain investor confidence.\\n\\nAdditionally, the reported data breach of 3.4 million Paytm Mall user accounts could have further implications for the platform\\'s reputation and customer trust. Maintaining a secure and trustworthy platform is essential for attracting and retaining both consumers and merchants, which are crucial for Paytm Mall\\'s long-term success and expansion within the Indian e-commerce market.\\n\\nOverall, the news articles highlight the key products and features of Paytm Mall, as well as the challenges and lessons learned from the platform\\'s struggles. These insights will be crucial for Paytm\\'s future market planning and expansion strategies as it navigates the rapidly evolving Indian e-commerce landscape. Here is a comprehensive 400-word summary of the key products and initiatives mentioned in the news articles:\\n\\nThe news articles discuss several innovative products and initiatives being implemented by leading Indian retailers like Myntra, Amazon, Shoppers Stop, and others to enhance the customer experience (CX) and drive business growth.\\n\\nA key focus area is the use of AI-powered technologies, such as chatbots and virtual assistants. Myntra has deployed an AI chatbot named \"StyleAssist\" that uses natural language processing and machine learning to provide personalized product recommendations and styling advice to customers. This helps improve conversion rates by guiding customers to products they are more likely to purchase. Similarly, Amazon India has integrated its voice-based virtual assistant Alexa into the shopping experience, allowing customers to search for products, check orders, and even make purchases using voice commands.\\n\\nBeyond conversational AI, the articles also highlight the use of computer vision and augmented reality (AR) technologies. Myntra\\'s \"Virtual Try-On\" feature enables customers to visualize how clothing would look on them before making a purchase, reducing return rates. Amazon\\'s \"AR View\" feature allows customers to see how products like furniture or home decor would fit in their living spaces, enhancing the online shopping experience.\\n\\nThe retailers are also exploring ways to improve the end-to-end customer journey. Myntra is experimenting with streamlining the product returns process, which is a significant challenge and cost for e-commerce companies. Shoppers Stop has partnered with an NGO to recycle old clothes and donate them to the underprivileged, addressing the circularity of garments.\\n\\nIn terms of product offerings, the articles mention Myntra\\'s partnership with local tailors to deliver clothes and make alterations at customers\\' doorsteps. This service aims to address the high return rates in India\\'s online fashion industry, which are often due to sizing and fit issues. By providing a convenient, personalized fitting experience, Myntra hopes to reduce returns and improve customer satisfaction.\\n\\nThe articles also highlight Myntra\\'s strategic marketing initiatives around major sporting events like the Cricket World Cup. While Myntra\\'s decision to only create a \"winning post\" for the final received backlash from some Indian fans, it demonstrates the brand\\'s efforts to differentiate its approach and connect with its target audience.\\n\\nFinally, the news articles discuss Myntra\\'s \"Light Art\" out-of-home (OOH) campaign for the Pongal festival in Tamil Nadu. This unique campaign involved interactive light art installations created by local artisans, serving as a novel advertising medium that blended \"celebrity culture and festive culture.\" By leveraging this traditional art form, Myntra aimed to meaningfully engage with the local Tamil Nadu population and position itself as a \"fashion-forward & culture-first\" brand.\\n\\nOverall, the products and initiatives highlighted in the news articles showcase the Indian retail industry\\'s focus on leveraging technology, enhancing customer experiences, and tailoring their offerings to local cultural nuances. These strategic moves are crucial for retailers like Myntra, Amazon, and Shoppers Stop to stay competitive and drive business growth in the rapidly evolving e-commerce landscape. Here is a comprehensive summary of the key product details based on the news article summaries provided:\\n\\nPomelo:\\n- A large Asian citrus fruit related to grapefruit\\n- Features a teardrop shape, green or yellow flesh, and a thick, pale rind\\n- Can grow to the size of a cantaloupe or larger\\n- Taste is similar to grapefruit but sweeter\\n\\nNutritional Profile:\\n- Excellent source of vitamin C, providing over 400% of the daily value in a single fruit\\n- Also contains significant amounts of other vitamins and minerals like riboflavin, thiamine, copper, and potassium\\n- High in fiber, with 6 grams per serving\\n- Relatively low in calories at 231 calories per fruit\\n\\nHealth Benefits:\\n- Rich in antioxidants, which may have anti-aging effects and support heart health\\n- High vitamin C content may boost immune function\\n- Fiber content can promote digestive and gut health, as well as potentially aid in weight management\\n\\nMarket Positioning:\\n- Primarily consumed in Asian cuisines, but could have broader appeal given its impressive nutritional profile\\n- Considered a niche product currently, but may gain traction as consumers seek out novel, nutrient-dense produce options\\n- Companies looking to diversify their product portfolios or tap into emerging health and wellness trends may consider exploring pomelo\\n\\nJabong:\\n- Leading consumer fashion destination for urban Indian youth\\n- Offers over 375,000 styles from 3,000+ brands and designer labels\\n- Focuses on the premium segment, with a strong presence in ethnic wear, sports, and private labels\\n- Has an 80% repeat business, indicating strong customer loyalty and brand affinity\\n\\nMyntra:\\n- Indian e-commerce company focused on fashion and casual lifestyle products, with a strong presence in branded apparel\\n- Merged with Flipkart in 2014 for $300 million\\n- Integration with Flipkart has allowed it to leverage the latter\\'s vast customer base and logistics network\\n\\nFlipkart:\\n- India\\'s leading e-commerce marketplace, offering over 40 million products across 80+ categories\\n- Has 85,000 sellers catering to 75 million registered users\\n- Acquisition of Jabong will strengthen its fashion and lifestyle offerings, allowing it to better compete with other e-commerce giants like Amazon\\n\\nFlipkart Fashion:\\n- Flipkart\\'s core fashion marketplace, offering a wide range of apparel, footwear, and accessories from both national and international brands\\n- Investing in building its own private label brands and exclusive partnerships to strengthen its fashion portfolio\\n\\nRohit Bal x Jabong Collection:\\n- Features traditional Indian silhouettes like anarkalis and lehengas\\n- Combines Rohit Bal\\'s signature design elements like block printing, embroidery, and vibrant colors\\n- Aims to make Rohit Bal\\'s high-fashion designs more accessible to a wider consumer base through the Jabong e-commerce platform\\n\\nOverall, the news articles highlight the diverse range of products and services offered by the key players in the Indian e-commerce and fashion landscape, as well as the strategic moves and synergies that are shaping the market dynamics.'"
            ]
          },
          "execution_count": 89,
          "metadata": {},
          "output_type": "execute_result"
        }
      ],
      "source": [
        "\" \".join(summ_data)"
      ]
    },
    {
      "cell_type": "code",
      "execution_count": null,
      "metadata": {
        "id": "H9XN7QYObeh2"
      },
      "outputs": [],
      "source": [
        "cmpy_summ = AI_Company_Summary(\" \".join(summ_data))"
      ]
    },
    {
      "cell_type": "code",
      "execution_count": null,
      "metadata": {
        "colab": {
          "base_uri": "https://localhost:8080/",
          "height": 486
        },
        "id": "QJ3mm7Z9cn4O",
        "outputId": "1a04132a-1b2d-4b31-fa8d-fe645162e9c0"
      },
      "outputs": [
        {
          "data": {
            "application/vnd.google.colaboratory.intrinsic+json": {
              "type": "string"
            },
            "text/plain": [
              "'Here is a detailed summary of the key products and initiatives discussed in the news articles:\\n\\n1. Amazon Advertising:\\n   - Amazon\\'s expanding advertising business, offering a suite of ad formats including sponsored products, display ads, and video ads\\n   - Leverages Amazon\\'s customer data and shopping intent signals to provide targeted advertising opportunities\\n   - Seen as a potential threat to YouTube\\'s ad revenue as it could siphon away ad dollars\\n\\n2. Amazon Rufus:\\n   - A new AI-powered conversational shopping assistant integrated into the Amazon Shopping app\\n   - Designed to engage customers in natural language dialogues to provide product information, personalized recommendations, and a more intuitive shopping experience\\n   - Aligns with the trend toward more intelligent, AI-driven e-commerce interfaces\\n\\n3. TikTok, Pinterest, and Amazon Partnership:\\n   - Strategic partnership allowing in-app shopping experiences on the social media platforms\\n   - Aims to capitalize on the growing social commerce trend and open up new sales channels for Amazon beyond its own marketplace\\n\\n4. Amazon Dropshipping Model:\\n   - Enables sellers to list products without holding inventory\\n   - Offers low upfront costs and outsourced fulfillment, but requires careful navigation of Amazon\\'s strict compliance requirements to avoid penalties\\n\\n5. Snapdeal:\\n   - Indian e-commerce platform that was once a major competitor to Amazon and Flipkart\\n   - Positioned itself as a value-focused e-commerce player targeting price-conscious consumers in smaller cities and towns\\n   - Struggling to keep pace with larger rivals, leading to a major restructuring in 2017\\n\\n6. Bhashini:\\n   - An AI-powered language translation platform developed by India\\'s Ministry of Electronics and Information Technology (MeitY)\\n   - Partnering with Snapdeal to enhance the accessibility and inclusiveness of its e-commerce services for non-English speaking users\\n\\n7. Unicommerce:\\n   - A SaaS-based e-commerce enablement platform providing solutions for inventory management, order fulfillment, and multichannel selling\\n   - Caters to both e-commerce businesses and traditional retailers, helping them streamline their online operations\\n\\n8. Stellaro Brands:\\n   - A house of private label brands developed and sold by the AceVector Group through its own e-commerce channels, including Snapdeal\\n   - Private label brands allow e-commerce platforms to offer exclusive products and potentially higher margins\\n\\n9. Paytm Mall:\\n   - E-commerce platform operated by the Indian digital payments company Paytm\\n   - Leverages Paytm\\'s existing digital payments infrastructure for a convenient and secure shopping experience\\n   - Faced challenges with unsustainable strategies like aggressive cashback incentives and the Paytm Postpaid credit line, leading to high losses\\n\\n10. Myntra:\\n    - Leading Indian e-commerce platform focused on fashion and casual lifestyle products\\n    - Deploying AI-powered technologies like chatbots and virtual try-on features to enhance the customer experience\\n    - Exploring initiatives to improve the end-to-end customer journey, such as streamlining product returns and partnering with local tailors for personalized fitting services\\n    - Implementing strategic marketing campaigns to connect with local cultural nuances and position the brand as \"fashion-forward & culture-first\"\\n\\nThese products and initiatives highlight the convergence of e-commerce, social media, AI/automation, and localization strategies as companies in the Indian market strive to create more seamless, personalized, and engaging shopping experiences for consumers.'"
            ]
          },
          "execution_count": 91,
          "metadata": {},
          "output_type": "execute_result"
        }
      ],
      "source": [
        "cmpy_summ"
      ]
    },
    {
      "cell_type": "code",
      "execution_count": 11,
      "metadata": {
        "colab": {
          "base_uri": "https://localhost:8080/",
          "height": 156
        },
        "id": "Gx3j-WnJcJEb",
        "outputId": "ff2bd99d-f4b4-412e-d757-ec27b23a3c56"
      },
      "outputs": [
        {
          "data": {
            "application/vnd.google.colaboratory.intrinsic+json": {
              "type": "string"
            },
            "text/plain": [
              "\"Here is a comprehensive summary of the key details from the news article:\\n\\nThe article discusses new Microsoft Azure systems featuring NVIDIA's GB200 accelerators. Key points:\\n\\n- Microsoft Azure is showcasing new server systems powered by NVIDIA's GB200 GPU accelerators. The GB200 is NVIDIA's latest and most powerful data center GPU.\\n\\n- The new Azure systems leverage the GB200 accelerators to provide high-performance computing capabilities for AI, machine learning, and other data-intensive workloads.\\n\\n- The GB200 accelerators offer significant performance improvements over previous NVIDIA data center GPUs, with up to 2x the performance of the A100 GPU.\\n\\n- The new Azure systems are designed to deliver exceptional performance and scalability for large-scale AI training, inference, and HPC applications running in the Azure cloud.\\n\\n- Details on the specific server configurations, pricing, and availability of the new Azure GB200 systems were not provided in the article. However, it indicates these new offerings will expand Microsoft's GPU-accelerated cloud computing capabilities.\\n\\n- The article suggests these new Azure systems with NVIDIA GB200 accelerators are part of Microsoft's ongoing efforts to enhance its cloud infrastructure and services for demanding AI, ML, and HPC workloads.\\n\\nIn summary, the key takeaway is that Microsoft is rolling out new high-performance Azure server systems powered by NVIDIA's latest and most advanced GB200 data center GPU accelerators to bolster its cloud computing capabilities for complex, data-intensive workloads.\""
            ]
          },
          "execution_count": 11,
          "metadata": {},
          "output_type": "execute_result"
        }
      ],
      "source": [
        "AI_Product_Summary(\"\"\" Title: New Microsoft Azure NVIDIA GB200 Systems Shown\n",
        "\n",
        "URL Source: https://www.servethehome.com/new-microsoft-azure-nvidia-gb200-systems-shown/\n",
        "\n",
        "Published Time: 2024-10-08T15:34:49+00:00\n",
        "\n",
        "Markdown Content:\n",
        "New Microsoft Azure NVIDIA GB200 Systems Shown\n",
        "===============\n",
        "\n",
        "[Facebook](https://www.facebook.com/ServeTheHome/ \"Facebook\") [Instagram](https://www.instagram.com/servethehome/ \"Instagram\") [Linkedin](https://www.linkedin.com/company/servethehome-com/ \"Linkedin\") [RSS](http://feeds.feedburner.com/servethehome \"RSS\") [TikTok](https://www.tiktok.com/@servethehome \"TikTok\") [Twitter](https://twitter.com/servethehome \"Twitter\") [Youtube](https://www.youtube.com/ServeTheHomeVideo?sub_confirmation=1 \"Youtube\")\n",
        "\n",
        "*   [Forums](https://forums.servethehome.com/ \"ServeTheHome Fourms\")\n",
        "*   [AI](https://www.servethehome.com/category/ai-deep-learning/)\n",
        "*   [Server](https://www.servethehome.com/category/server-parts/ \"Server Parts | ServetheHome | Home Servers | Small Business Servers | Reviews\")\n",
        "    *   [Server Systems](https://www.servethehome.com/category/server-parts/server-systems/)\n",
        "    *   [Server CPUs](https://www.servethehome.com/category/server-parts/cpus/ \"Server CPUs | ServetheHome | Home Servers | Small Business Servers | Reviews\")\n",
        "    *   [Accelerators](https://www.servethehome.com/category/server-parts/accelerators/)\n",
        "    *   [Server Motherboards](https://www.servethehome.com/category/server-parts/motherboards/ \"Server Motherboards | ServetheHome | Home Servers | Small Business Servers | Reviews\")\n",
        "    *   [Server Chassis](https://www.servethehome.com/category/server-parts/server-chassis/ \"Server Chassis | ServetheHome | Home Servers | Small Business Servers | Reviews\")\n",
        "    *   [Other Components](https://www.servethehome.com/category/server-parts/other-components/ \"Non-drive computer components | ServetheHome | Home Servers | Small Business Servers | Reviews\")\n",
        "*   [5G Edge](https://www.servethehome.com/category/edge/)\n",
        "*   [Storage](https://www.servethehome.com/category/storage/ \"Storage | ServetheHome | Home and Small Business Servers | Reviews\")\n",
        "*   [Networking](https://www.servethehome.com/category/networking/ \"Networking | ServetheHome | Home and Small Business Servers | Reviews\")\n",
        "*   [Workstation](https://www.servethehome.com/category/workstations/ \"Workstation Hardware | ServetheHome | Home Servers | Small Business Servers | Reviews\")\n",
        "    *   [Workstation Processors](https://www.servethehome.com/category/workstations/workstation-processors/ \"Workstation Processors | ServetheHome | Home Servers | Small Business Servers | Reviews\")\n",
        "    *   [Workstation Motherboards](https://www.servethehome.com/category/workstations/workstation-motherboards/ \"Workstation Motherboards | ServetheHome | Home Servers | Small Business Servers | Reviews\")\n",
        "*   [Software](https://www.servethehome.com/category/server-software/ \"Server Software | ServetheHome | Home Servers | Small Business Servers | Reviews\")\n",
        "    *   [Operating Systems](https://www.servethehome.com/category/server-software/operating-systems/ \"Operating Systems | ServetheHome | Home Servers | Small Business Servers | Reviews\")\n",
        "    *   [Server Applications](https://www.servethehome.com/category/server-software/server-applications/ \"Server Applications | ServetheHome | Home Servers | Small Business Servers | Reviews\")\n",
        "    *   [Virtualization](https://www.servethehome.com/category/server-software/virtualization-other/ \"Virtualization | ServetheHome | Home Servers | Small Business Servers | Reviews\")\n",
        "*   [Guides](https://www.servethehome.com/buyers-guides/ \"Buyer’s Guides | ServetheHome | Home and Small Business Servers | Reviews\")\n",
        "    *   [Buyer’s Guides](https://www.servethehome.com/category/client-tips-and-tricks/buyers-guides/ \"Buyer Guides | ServetheHome | Home Servers | Small Business Servers | Reviews\")\n",
        "    *   [Tips](https://www.servethehome.com/category/client-tips-and-tricks/ \"Client Tips | ServetheHome | Home Servers | Small Business Servers | Reviews\")\n",
        "    *   [Top Hardware Components for TrueNAS / FreeNAS NAS Servers](https://www.servethehome.com/buyers-guides/top-hardware-components-for-truenas-freenas-nas-servers/)\n",
        "    *   [Top Hardware Components for pfSense Appliances](https://www.servethehome.com/buyers-guides/top-hardware-components-pfsense-appliances/)\n",
        "    *   [Top Hardware Components for napp-it and Solarish NAS Servers](https://www.servethehome.com/buyers-guides/top-hardware-components-napp-omnios-nas-servers/)\n",
        "    *   [Top Picks for Windows Server 2016 Essentials Hardware](https://www.servethehome.com/buyers-guides/top-picks-windows-server-2016-essentials-hardware/)\n",
        "    *   [The DIY WordPress Hosting Server Hardware Guide](https://www.servethehome.com/buyers-guides/the-diy-wordpress-hosting-server-hardware-guide/)\n",
        "\n",
        "Search\n",
        "\n",
        "[Facebook](https://www.facebook.com/ServeTheHome/ \"Facebook\") [Instagram](https://www.instagram.com/servethehome/ \"Instagram\") [Linkedin](https://www.linkedin.com/company/servethehome-com/ \"Linkedin\") [RSS](http://feeds.feedburner.com/servethehome \"RSS\") [TikTok](https://www.tiktok.com/@servethehome \"TikTok\") [Twitter](https://twitter.com/servethehome \"Twitter\") [Youtube](https://www.youtube.com/ServeTheHomeVideo?sub_confirmation=1 \"Youtube\")\n",
        "\n",
        "Wednesday, October 9, 2024\n",
        "\n",
        "*   [News](https://www.servethehome.com/category/news/)\n",
        "*   [Storage Reliability](https://www.servethehome.com/raid-calculator/ \"RAID Calculator | ServetheHome | Home and Small Business Servers\")\n",
        "    *   [Raid Calculator](https://www.servethehome.com/raid-calculator/ \"Raid Calculator | Raid Disk Space Utilization Calculator | ServeTheHome\")\n",
        "    *   [RAID Reliability Calculator | Simple MTTDL Model](https://www.servethehome.com/raid-calculator/raid-reliability-calculator-simple-mttdl-model/ \"RAID Reliability Calculator | ServetheHome | Home Servers and Small Business Servers\")\n",
        "*   [Contact](https://www.servethehome.com/contact/ \"ServetheHome | Contact | Home and Small Business Servers | Reviews\")\n",
        "*   [About](https://www.servethehome.com/about/ \"About Servethehome | Home Servers | Small Business Servers | Reviews\")\n",
        "    *   [Editorial and Copyright Policies](https://www.servethehome.com/about/editorial-copyright-policies/)\n",
        "*   [AG Substack](https://axautikgroupllc.substack.com/)\n",
        "*   [AG Reports](https://reports.axautikgroup.com/)\n",
        "*   [Subscribe](https://eepurl.com/dryM09 \"Subscribe to the ServetheHome Newsletter\")\n",
        "*   [Forums](https://forums.servethehome.com/ \"Forums | ServetheHome | Home and Small Business Servers | Reviews\")\n",
        "\n",
        "[](https://www.servethehome.com/new-microsoft-azure-nvidia-gb200-systems-shown/#)\n",
        "\n",
        "Sign in\n",
        "\n",
        "Welcome! Log into your account\n",
        "\n",
        "your username\n",
        "\n",
        "your password\n",
        "\n",
        "[Forgot your password? Get help](https://www.servethehome.com/new-microsoft-azure-nvidia-gb200-systems-shown/#)\n",
        "\n",
        "[Privacy Policy](https://www.servethehome.com/about/data-processing-and-privacy-policy/)\n",
        "\n",
        "Password recovery\n",
        "\n",
        "Recover your password\n",
        "\n",
        "your email\n",
        "\n",
        "A password will be e-mailed to you.\n",
        "\n",
        " [![Image 1](https://www.servethehome.com/wp-content/uploads/2019/10/STH-Logo-96px.png) ServeTheHome](https://www.servethehome.com/)\n",
        "\n",
        "Advertisement\n",
        "\n",
        "\n",
        "\n",
        "[](https://www.servethehome.com/new-microsoft-azure-nvidia-gb200-systems-shown/#)\n",
        "\n",
        " [![Image 2](https://www.servethehome.com/wp-content/uploads/2019/10/STH-Logo-48px.png)](https://www.servethehome.com/)[![Image 3](https://www.servethehome.com/wp-content/uploads/2019/10/STH-Logo-96px.png)](https://www.servethehome.com/)\n",
        "\n",
        "*   [Forums](https://forums.servethehome.com/ \"ServeTheHome Fourms\")\n",
        "*   [AI](https://www.servethehome.com/category/ai-deep-learning/)\n",
        "*   [Server](https://www.servethehome.com/category/server-parts/ \"Server Parts | ServetheHome | Home Servers | Small Business Servers | Reviews\")\n",
        "    *   [Server Systems](https://www.servethehome.com/category/server-parts/server-systems/)\n",
        "    *   [Server CPUs](https://www.servethehome.com/category/server-parts/cpus/ \"Server CPUs | ServetheHome | Home Servers | Small Business Servers | Reviews\")\n",
        "    *   [Accelerators](https://www.servethehome.com/category/server-parts/accelerators/)\n",
        "    *   [Server Motherboards](https://www.servethehome.com/category/server-parts/motherboards/ \"Server Motherboards | ServetheHome | Home Servers | Small Business Servers | Reviews\")\n",
        "    *   [Server Chassis](https://www.servethehome.com/category/server-parts/server-chassis/ \"Server Chassis | ServetheHome | Home Servers | Small Business Servers | Reviews\")\n",
        "    *   [Other Components](https://www.servethehome.com/category/server-parts/other-components/ \"Non-drive computer components | ServetheHome | Home Servers | Small Business Servers | Reviews\")\n",
        "*   [5G Edge](https://www.servethehome.com/category/edge/)\n",
        "*   [Storage](https://www.servethehome.com/category/storage/ \"Storage | ServetheHome | Home and Small Business Servers | Reviews\")\n",
        "*   [Networking](https://www.servethehome.com/category/networking/ \"Networking | ServetheHome | Home and Small Business Servers | Reviews\")\n",
        "*   [Workstation](https://www.servethehome.com/category/workstations/ \"Workstation Hardware | ServetheHome | Home Servers | Small Business Servers | Reviews\")\n",
        "    *   [Workstation Processors](https://www.servethehome.com/category/workstations/workstation-processors/ \"Workstation Processors | ServetheHome | Home Servers | Small Business Servers | Reviews\")\n",
        "    *   [Workstation Motherboards](https://www.servethehome.com/category/workstations/workstation-motherboards/ \"Workstation Motherboards | ServetheHome | Home Servers | Small Business Servers | Reviews\")\n",
        "*   [Software](https://www.servethehome.com/category/server-software/ \"Server Software | ServetheHome | Home Servers | Small Business Servers | Reviews\")\n",
        "    *   [Operating Systems](https://www.servethehome.com/category/server-software/operating-systems/ \"Operating Systems | ServetheHome | Home Servers | Small Business Servers | Reviews\")\n",
        "    *   [Server Applications](https://www.servethehome.com/category/server-software/server-applications/ \"Server Applications | ServetheHome | Home Servers | Small Business Servers | Reviews\")\n",
        "    *   [Virtualization](https://www.servethehome.com/category/server-software/virtualization-other/ \"Virtualization | ServetheHome | Home Servers | Small Business Servers | Reviews\")\n",
        "*   [Guides](https://www.servethehome.com/buyers-guides/ \"Buyer’s Guides | ServetheHome | Home and Small Business Servers | Reviews\")\n",
        "    *   [Buyer’s Guides](https://www.servethehome.com/category/client-tips-and-tricks/buyers-guides/ \"Buyer Guides | ServetheHome | Home Servers | Small Business Servers | Reviews\")\n",
        "    *   [Tips](https://www.servethehome.com/category/client-tips-and-tricks/ \"Client Tips | ServetheHome | Home Servers | Small Business Servers | Reviews\")\n",
        "    *   [Top Hardware Components for TrueNAS / FreeNAS NAS Servers](https://www.servethehome.com/buyers-guides/top-hardware-components-for-truenas-freenas-nas-servers/)\n",
        "    *   [Top Hardware Components for pfSense Appliances](https://www.servethehome.com/buyers-guides/top-hardware-components-pfsense-appliances/)\n",
        "    *   [Top Hardware Components for napp-it and Solarish NAS Servers](https://www.servethehome.com/buyers-guides/top-hardware-components-napp-omnios-nas-servers/)\n",
        "    *   [Top Picks for Windows Server 2016 Essentials Hardware](https://www.servethehome.com/buyers-guides/top-picks-windows-server-2016-essentials-hardware/)\n",
        "    *   [The DIY WordPress Hosting Server Hardware Guide](https://www.servethehome.com/buyers-guides/the-diy-wordpress-hosting-server-hardware-guide/)\n",
        "\n",
        "[](https://www.servethehome.com/new-microsoft-azure-nvidia-gb200-systems-shown/#)[](https://www.servethehome.com/new-microsoft-azure-nvidia-gb200-systems-shown/#)\n",
        "\n",
        "[Home](https://www.servethehome.com/) [AI](https://www.servethehome.com/category/ai-deep-learning/ \"View all posts in AI\") New Microsoft Azure NVIDIA GB200 Systems Shown\n",
        "\n",
        "*   [AI](https://www.servethehome.com/category/ai-deep-learning/)\n",
        "*   [Server](https://www.servethehome.com/category/server-parts/)\n",
        "*   [Server Systems](https://www.servethehome.com/category/server-parts/server-systems/)\n",
        "\n",
        "New Microsoft Azure NVIDIA GB200 Systems Shown\n",
        "==============================================\n",
        "\n",
        "By\n",
        "\n",
        "[Cliff Robinson](https://www.servethehome.com/author/cliffrobinson/)\n",
        "\n",
        "\\-\n",
        "\n",
        "October 8, 2024\n",
        "\n",
        "[1](https://www.servethehome.com/new-microsoft-azure-nvidia-gb200-systems-shown/#comments)\n",
        ")\"\"\")"
      ]
    }
  ],
  "metadata": {
    "colab": {
      "collapsed_sections": [
        "5tpD2gwhQBpk"
      ],
      "provenance": []
    },
    "kernelspec": {
      "display_name": "Python 3",
      "name": "python3"
    },
    "language_info": {
      "name": "python"
    }
  },
  "nbformat": 4,
  "nbformat_minor": 0
}
